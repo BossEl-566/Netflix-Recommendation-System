{
 "cells": [
  {
   "cell_type": "code",
   "execution_count": null,
   "metadata": {},
   "outputs": [
    {
     "name": "stdout",
     "output_type": "stream",
     "text": [
      "Collecting pandas\n",
      "  Using cached pandas-2.3.1-cp313-cp313-win_amd64.whl.metadata (19 kB)\n",
      "Collecting numpy>=1.26.0 (from pandas)\n",
      "  Using cached numpy-2.3.2-cp313-cp313-win_amd64.whl.metadata (60 kB)\n",
      "Requirement already satisfied: python-dateutil>=2.8.2 in c:\\users\\erica\\downloads\\telegram desktop\\recommended system\\.venv\\lib\\site-packages (from pandas) (2.9.0.post0)\n",
      "Collecting pytz>=2020.1 (from pandas)\n",
      "  Using cached pytz-2025.2-py2.py3-none-any.whl.metadata (22 kB)\n",
      "Collecting tzdata>=2022.7 (from pandas)\n",
      "  Using cached tzdata-2025.2-py2.py3-none-any.whl.metadata (1.4 kB)\n",
      "Requirement already satisfied: six>=1.5 in c:\\users\\erica\\downloads\\telegram desktop\\recommended system\\.venv\\lib\\site-packages (from python-dateutil>=2.8.2->pandas) (1.17.0)\n",
      "Using cached pandas-2.3.1-cp313-cp313-win_amd64.whl (11.0 MB)\n",
      "Using cached numpy-2.3.2-cp313-cp313-win_amd64.whl (12.8 MB)\n",
      "Using cached pytz-2025.2-py2.py3-none-any.whl (509 kB)\n",
      "Using cached tzdata-2025.2-py2.py3-none-any.whl (347 kB)\n",
      "Installing collected packages: pytz, tzdata, numpy, pandas\n",
      "\n",
      "   ---------------------------------------- 0/4 [pytz]\n",
      "   ---------------------------------------- 0/4 [pytz]\n",
      "   ---------- ----------------------------- 1/4 [tzdata]\n",
      "   ---------- ----------------------------- 1/4 [tzdata]\n",
      "   ---------- ----------------------------- 1/4 [tzdata]\n",
      "   -------------------- ------------------- 2/4 [numpy]\n",
      "   -------------------- ------------------- 2/4 [numpy]\n",
      "   -------------------- ------------------- 2/4 [numpy]\n",
      "   -------------------- ------------------- 2/4 [numpy]\n",
      "   -------------------- ------------------- 2/4 [numpy]\n",
      "   -------------------- ------------------- 2/4 [numpy]\n",
      "   -------------------- ------------------- 2/4 [numpy]\n",
      "   -------------------- ------------------- 2/4 [numpy]\n",
      "   -------------------- ------------------- 2/4 [numpy]\n",
      "   -------------------- ------------------- 2/4 [numpy]\n",
      "   -------------------- ------------------- 2/4 [numpy]\n",
      "   -------------------- ------------------- 2/4 [numpy]\n",
      "   -------------------- ------------------- 2/4 [numpy]\n",
      "   -------------------- ------------------- 2/4 [numpy]\n",
      "   -------------------- ------------------- 2/4 [numpy]\n",
      "   -------------------- ------------------- 2/4 [numpy]\n",
      "   -------------------- ------------------- 2/4 [numpy]\n",
      "   -------------------- ------------------- 2/4 [numpy]\n",
      "   -------------------- ------------------- 2/4 [numpy]\n",
      "   -------------------- ------------------- 2/4 [numpy]\n",
      "   -------------------- ------------------- 2/4 [numpy]\n",
      "   -------------------- ------------------- 2/4 [numpy]\n",
      "   -------------------- ------------------- 2/4 [numpy]\n",
      "   -------------------- ------------------- 2/4 [numpy]\n",
      "   -------------------- ------------------- 2/4 [numpy]\n",
      "   -------------------- ------------------- 2/4 [numpy]\n",
      "   -------------------- ------------------- 2/4 [numpy]\n",
      "   -------------------- ------------------- 2/4 [numpy]\n",
      "   -------------------- ------------------- 2/4 [numpy]\n",
      "   -------------------- ------------------- 2/4 [numpy]\n",
      "   -------------------- ------------------- 2/4 [numpy]\n",
      "   -------------------- ------------------- 2/4 [numpy]\n",
      "   -------------------- ------------------- 2/4 [numpy]\n",
      "   -------------------- ------------------- 2/4 [numpy]\n",
      "   -------------------- ------------------- 2/4 [numpy]\n",
      "   -------------------- ------------------- 2/4 [numpy]\n",
      "   -------------------- ------------------- 2/4 [numpy]\n",
      "   -------------------- ------------------- 2/4 [numpy]\n",
      "   -------------------- ------------------- 2/4 [numpy]\n",
      "   -------------------- ------------------- 2/4 [numpy]\n",
      "   -------------------- ------------------- 2/4 [numpy]\n",
      "   -------------------- ------------------- 2/4 [numpy]\n",
      "   -------------------- ------------------- 2/4 [numpy]\n",
      "   -------------------- ------------------- 2/4 [numpy]\n",
      "   -------------------- ------------------- 2/4 [numpy]\n",
      "   ------------------------------ --------- 3/4 [pandas]\n",
      "   ------------------------------ --------- 3/4 [pandas]\n",
      "   ------------------------------ --------- 3/4 [pandas]\n",
      "   ------------------------------ --------- 3/4 [pandas]\n",
      "   ------------------------------ --------- 3/4 [pandas]\n",
      "   ------------------------------ --------- 3/4 [pandas]\n",
      "   ------------------------------ --------- 3/4 [pandas]\n",
      "   ------------------------------ --------- 3/4 [pandas]\n",
      "   ------------------------------ --------- 3/4 [pandas]\n",
      "   ------------------------------ --------- 3/4 [pandas]\n",
      "   ------------------------------ --------- 3/4 [pandas]\n",
      "   ------------------------------ --------- 3/4 [pandas]\n",
      "   ------------------------------ --------- 3/4 [pandas]\n",
      "   ------------------------------ --------- 3/4 [pandas]\n",
      "   ------------------------------ --------- 3/4 [pandas]\n",
      "   ------------------------------ --------- 3/4 [pandas]\n",
      "   ------------------------------ --------- 3/4 [pandas]\n",
      "   ------------------------------ --------- 3/4 [pandas]\n",
      "   ------------------------------ --------- 3/4 [pandas]\n",
      "   ------------------------------ --------- 3/4 [pandas]\n",
      "   ------------------------------ --------- 3/4 [pandas]\n",
      "   ------------------------------ --------- 3/4 [pandas]\n",
      "   ------------------------------ --------- 3/4 [pandas]\n",
      "   ------------------------------ --------- 3/4 [pandas]\n",
      "   ------------------------------ --------- 3/4 [pandas]\n",
      "   ------------------------------ --------- 3/4 [pandas]\n",
      "   ------------------------------ --------- 3/4 [pandas]\n",
      "   ------------------------------ --------- 3/4 [pandas]\n",
      "   ------------------------------ --------- 3/4 [pandas]\n",
      "   ------------------------------ --------- 3/4 [pandas]\n",
      "   ------------------------------ --------- 3/4 [pandas]\n",
      "   ------------------------------ --------- 3/4 [pandas]\n",
      "   ------------------------------ --------- 3/4 [pandas]\n",
      "   ------------------------------ --------- 3/4 [pandas]\n",
      "   ------------------------------ --------- 3/4 [pandas]\n",
      "   ------------------------------ --------- 3/4 [pandas]\n",
      "   ------------------------------ --------- 3/4 [pandas]\n",
      "   ------------------------------ --------- 3/4 [pandas]\n",
      "   ------------------------------ --------- 3/4 [pandas]\n",
      "   ------------------------------ --------- 3/4 [pandas]\n",
      "   ------------------------------ --------- 3/4 [pandas]\n",
      "   ------------------------------ --------- 3/4 [pandas]\n",
      "   ------------------------------ --------- 3/4 [pandas]\n",
      "   ------------------------------ --------- 3/4 [pandas]\n",
      "   ------------------------------ --------- 3/4 [pandas]\n",
      "   ------------------------------ --------- 3/4 [pandas]\n",
      "   ------------------------------ --------- 3/4 [pandas]\n",
      "   ------------------------------ --------- 3/4 [pandas]\n",
      "   ------------------------------ --------- 3/4 [pandas]\n",
      "   ------------------------------ --------- 3/4 [pandas]\n",
      "   ------------------------------ --------- 3/4 [pandas]\n",
      "   ------------------------------ --------- 3/4 [pandas]\n",
      "   ------------------------------ --------- 3/4 [pandas]\n",
      "   ------------------------------ --------- 3/4 [pandas]\n",
      "   ------------------------------ --------- 3/4 [pandas]\n",
      "   ------------------------------ --------- 3/4 [pandas]\n",
      "   ------------------------------ --------- 3/4 [pandas]\n",
      "   ------------------------------ --------- 3/4 [pandas]\n",
      "   ------------------------------ --------- 3/4 [pandas]\n",
      "   ------------------------------ --------- 3/4 [pandas]\n",
      "   ------------------------------ --------- 3/4 [pandas]\n",
      "   ------------------------------ --------- 3/4 [pandas]\n",
      "   ------------------------------ --------- 3/4 [pandas]\n",
      "   ------------------------------ --------- 3/4 [pandas]\n",
      "   ------------------------------ --------- 3/4 [pandas]\n",
      "   ------------------------------ --------- 3/4 [pandas]\n",
      "   ------------------------------ --------- 3/4 [pandas]\n",
      "   ------------------------------ --------- 3/4 [pandas]\n",
      "   ------------------------------ --------- 3/4 [pandas]\n",
      "   ------------------------------ --------- 3/4 [pandas]\n",
      "   ------------------------------ --------- 3/4 [pandas]\n",
      "   ------------------------------ --------- 3/4 [pandas]\n",
      "   ------------------------------ --------- 3/4 [pandas]\n",
      "   ------------------------------ --------- 3/4 [pandas]\n",
      "   ------------------------------ --------- 3/4 [pandas]\n",
      "   ------------------------------ --------- 3/4 [pandas]\n",
      "   ------------------------------ --------- 3/4 [pandas]\n",
      "   ------------------------------ --------- 3/4 [pandas]\n",
      "   ------------------------------ --------- 3/4 [pandas]\n",
      "   ------------------------------ --------- 3/4 [pandas]\n",
      "   ------------------------------ --------- 3/4 [pandas]\n",
      "   ------------------------------ --------- 3/4 [pandas]\n",
      "   ------------------------------ --------- 3/4 [pandas]\n",
      "   ------------------------------ --------- 3/4 [pandas]\n",
      "   ------------------------------ --------- 3/4 [pandas]\n",
      "   ------------------------------ --------- 3/4 [pandas]\n",
      "   ------------------------------ --------- 3/4 [pandas]\n",
      "   ------------------------------ --------- 3/4 [pandas]\n",
      "   ------------------------------ --------- 3/4 [pandas]\n",
      "   ------------------------------ --------- 3/4 [pandas]\n",
      "   ------------------------------ --------- 3/4 [pandas]\n",
      "   ------------------------------ --------- 3/4 [pandas]\n",
      "   ------------------------------ --------- 3/4 [pandas]\n",
      "   ------------------------------ --------- 3/4 [pandas]\n",
      "   ------------------------------ --------- 3/4 [pandas]\n",
      "   ------------------------------ --------- 3/4 [pandas]\n",
      "   ------------------------------ --------- 3/4 [pandas]\n",
      "   ------------------------------ --------- 3/4 [pandas]\n",
      "   ------------------------------ --------- 3/4 [pandas]\n",
      "   ------------------------------ --------- 3/4 [pandas]\n",
      "   ------------------------------ --------- 3/4 [pandas]\n",
      "   ------------------------------ --------- 3/4 [pandas]\n",
      "   ------------------------------ --------- 3/4 [pandas]\n",
      "   ------------------------------ --------- 3/4 [pandas]\n",
      "   ------------------------------ --------- 3/4 [pandas]\n",
      "   ------------------------------ --------- 3/4 [pandas]\n",
      "   ------------------------------ --------- 3/4 [pandas]\n",
      "   ------------------------------ --------- 3/4 [pandas]\n",
      "   ------------------------------ --------- 3/4 [pandas]\n",
      "   ------------------------------ --------- 3/4 [pandas]\n",
      "   ------------------------------ --------- 3/4 [pandas]\n",
      "   ------------------------------ --------- 3/4 [pandas]\n",
      "   ------------------------------ --------- 3/4 [pandas]\n",
      "   ------------------------------ --------- 3/4 [pandas]\n",
      "   ------------------------------ --------- 3/4 [pandas]\n",
      "   ------------------------------ --------- 3/4 [pandas]\n",
      "   ------------------------------ --------- 3/4 [pandas]\n",
      "   ------------------------------ --------- 3/4 [pandas]\n",
      "   ------------------------------ --------- 3/4 [pandas]\n",
      "   ------------------------------ --------- 3/4 [pandas]\n",
      "   ------------------------------ --------- 3/4 [pandas]\n",
      "   ------------------------------ --------- 3/4 [pandas]\n",
      "   ------------------------------ --------- 3/4 [pandas]\n",
      "   ------------------------------ --------- 3/4 [pandas]\n",
      "   ------------------------------ --------- 3/4 [pandas]\n",
      "   ------------------------------ --------- 3/4 [pandas]\n",
      "   ------------------------------ --------- 3/4 [pandas]\n",
      "   ------------------------------ --------- 3/4 [pandas]\n",
      "   ------------------------------ --------- 3/4 [pandas]\n",
      "   ------------------------------ --------- 3/4 [pandas]\n",
      "   ------------------------------ --------- 3/4 [pandas]\n",
      "   ------------------------------ --------- 3/4 [pandas]\n",
      "   ------------------------------ --------- 3/4 [pandas]\n",
      "   ------------------------------ --------- 3/4 [pandas]\n",
      "   ------------------------------ --------- 3/4 [pandas]\n",
      "   ------------------------------ --------- 3/4 [pandas]\n",
      "   ---------------------------------------- 4/4 [pandas]\n",
      "\n",
      "Successfully installed numpy-2.3.2 pandas-2.3.1 pytz-2025.2 tzdata-2025.2\n"
     ]
    },
    {
     "ename": "ModuleNotFoundError",
     "evalue": "No module named 'matplotlib'",
     "output_type": "error",
     "traceback": [
      "\u001b[31m---------------------------------------------------------------------------\u001b[39m",
      "\u001b[31mModuleNotFoundError\u001b[39m                       Traceback (most recent call last)",
      "\u001b[36mCell\u001b[39m\u001b[36m \u001b[39m\u001b[32mIn[3]\u001b[39m\u001b[32m, line 6\u001b[39m\n\u001b[32m      4\u001b[39m \u001b[38;5;28;01mimport\u001b[39;00m\u001b[38;5;250m \u001b[39m\u001b[34;01mmath\u001b[39;00m\n\u001b[32m      5\u001b[39m \u001b[38;5;28;01mimport\u001b[39;00m\u001b[38;5;250m \u001b[39m\u001b[34;01mpandas\u001b[39;00m\u001b[38;5;250m \u001b[39m\u001b[38;5;28;01mas\u001b[39;00m\u001b[38;5;250m \u001b[39m\u001b[34;01mpd\u001b[39;00m\n\u001b[32m----> \u001b[39m\u001b[32m6\u001b[39m \u001b[38;5;28;01mimport\u001b[39;00m\u001b[38;5;250m \u001b[39m\u001b[34;01mmatplotlib\u001b[39;00m\u001b[34;01m.\u001b[39;00m\u001b[34;01mpyplot\u001b[39;00m\u001b[38;5;250m \u001b[39m\u001b[38;5;28;01mas\u001b[39;00m\u001b[38;5;250m \u001b[39m\u001b[34;01mplt\u001b[39;00m\n\u001b[32m      7\u001b[39m \u001b[38;5;28;01mimport\u001b[39;00m\u001b[38;5;250m \u001b[39m\u001b[34;01mseaborn\u001b[39;00m\u001b[38;5;250m \u001b[39m\u001b[38;5;28;01mas\u001b[39;00m\u001b[38;5;250m \u001b[39m\u001b[34;01msns\u001b[39;00m\n\u001b[32m      8\u001b[39m \u001b[38;5;28;01mimport\u001b[39;00m\u001b[38;5;250m \u001b[39m\u001b[34;01mplotly_express\u001b[39;00m\u001b[38;5;250m \u001b[39m\u001b[38;5;28;01mas\u001b[39;00m\u001b[38;5;250m \u001b[39m\u001b[34;01mpx\u001b[39;00m\n",
      "\u001b[31mModuleNotFoundError\u001b[39m: No module named 'matplotlib'"
     ]
    }
   ],
   "source": []
  },
  {
   "cell_type": "code",
   "execution_count": 19,
   "metadata": {},
   "outputs": [
    {
     "name": "stdout",
     "output_type": "stream",
     "text": [
      "Requirement already satisfied: matplotlib in c:\\users\\erica\\downloads\\telegram desktop\\recommended system\\.venv\\lib\\site-packages (3.10.3)\n",
      "Requirement already satisfied: contourpy>=1.0.1 in c:\\users\\erica\\downloads\\telegram desktop\\recommended system\\.venv\\lib\\site-packages (from matplotlib) (1.3.3)\n",
      "Requirement already satisfied: cycler>=0.10 in c:\\users\\erica\\downloads\\telegram desktop\\recommended system\\.venv\\lib\\site-packages (from matplotlib) (0.12.1)\n",
      "Requirement already satisfied: fonttools>=4.22.0 in c:\\users\\erica\\downloads\\telegram desktop\\recommended system\\.venv\\lib\\site-packages (from matplotlib) (4.59.0)\n",
      "Requirement already satisfied: kiwisolver>=1.3.1 in c:\\users\\erica\\downloads\\telegram desktop\\recommended system\\.venv\\lib\\site-packages (from matplotlib) (1.4.8)\n",
      "Requirement already satisfied: numpy>=1.23 in c:\\users\\erica\\downloads\\telegram desktop\\recommended system\\.venv\\lib\\site-packages (from matplotlib) (2.3.2)\n",
      "Requirement already satisfied: packaging>=20.0 in c:\\users\\erica\\downloads\\telegram desktop\\recommended system\\.venv\\lib\\site-packages (from matplotlib) (25.0)\n",
      "Requirement already satisfied: pillow>=8 in c:\\users\\erica\\downloads\\telegram desktop\\recommended system\\.venv\\lib\\site-packages (from matplotlib) (11.3.0)\n",
      "Requirement already satisfied: pyparsing>=2.3.1 in c:\\users\\erica\\downloads\\telegram desktop\\recommended system\\.venv\\lib\\site-packages (from matplotlib) (3.2.3)\n",
      "Requirement already satisfied: python-dateutil>=2.7 in c:\\users\\erica\\downloads\\telegram desktop\\recommended system\\.venv\\lib\\site-packages (from matplotlib) (2.9.0.post0)\n",
      "Requirement already satisfied: six>=1.5 in c:\\users\\erica\\downloads\\telegram desktop\\recommended system\\.venv\\lib\\site-packages (from python-dateutil>=2.7->matplotlib) (1.17.0)\n",
      "Requirement already satisfied: seaborn in c:\\users\\erica\\downloads\\telegram desktop\\recommended system\\.venv\\lib\\site-packages (0.13.2)\n",
      "Requirement already satisfied: plotly in c:\\users\\erica\\downloads\\telegram desktop\\recommended system\\.venv\\lib\\site-packages (6.2.0)\n",
      "Requirement already satisfied: scikit-learn in c:\\users\\erica\\downloads\\telegram desktop\\recommended system\\.venv\\lib\\site-packages (1.7.1)\n",
      "Requirement already satisfied: numpy!=1.24.0,>=1.20 in c:\\users\\erica\\downloads\\telegram desktop\\recommended system\\.venv\\lib\\site-packages (from seaborn) (2.3.2)\n",
      "Requirement already satisfied: pandas>=1.2 in c:\\users\\erica\\downloads\\telegram desktop\\recommended system\\.venv\\lib\\site-packages (from seaborn) (2.3.1)\n",
      "Requirement already satisfied: matplotlib!=3.6.1,>=3.4 in c:\\users\\erica\\downloads\\telegram desktop\\recommended system\\.venv\\lib\\site-packages (from seaborn) (3.10.3)\n",
      "Requirement already satisfied: narwhals>=1.15.1 in c:\\users\\erica\\downloads\\telegram desktop\\recommended system\\.venv\\lib\\site-packages (from plotly) (2.0.1)\n",
      "Requirement already satisfied: packaging in c:\\users\\erica\\downloads\\telegram desktop\\recommended system\\.venv\\lib\\site-packages (from plotly) (25.0)\n",
      "Requirement already satisfied: scipy>=1.8.0 in c:\\users\\erica\\downloads\\telegram desktop\\recommended system\\.venv\\lib\\site-packages (from scikit-learn) (1.16.1)\n",
      "Requirement already satisfied: joblib>=1.2.0 in c:\\users\\erica\\downloads\\telegram desktop\\recommended system\\.venv\\lib\\site-packages (from scikit-learn) (1.5.1)\n",
      "Requirement already satisfied: threadpoolctl>=3.1.0 in c:\\users\\erica\\downloads\\telegram desktop\\recommended system\\.venv\\lib\\site-packages (from scikit-learn) (3.6.0)\n",
      "Requirement already satisfied: contourpy>=1.0.1 in c:\\users\\erica\\downloads\\telegram desktop\\recommended system\\.venv\\lib\\site-packages (from matplotlib!=3.6.1,>=3.4->seaborn) (1.3.3)\n",
      "Requirement already satisfied: cycler>=0.10 in c:\\users\\erica\\downloads\\telegram desktop\\recommended system\\.venv\\lib\\site-packages (from matplotlib!=3.6.1,>=3.4->seaborn) (0.12.1)\n",
      "Requirement already satisfied: fonttools>=4.22.0 in c:\\users\\erica\\downloads\\telegram desktop\\recommended system\\.venv\\lib\\site-packages (from matplotlib!=3.6.1,>=3.4->seaborn) (4.59.0)\n",
      "Requirement already satisfied: kiwisolver>=1.3.1 in c:\\users\\erica\\downloads\\telegram desktop\\recommended system\\.venv\\lib\\site-packages (from matplotlib!=3.6.1,>=3.4->seaborn) (1.4.8)\n",
      "Requirement already satisfied: pillow>=8 in c:\\users\\erica\\downloads\\telegram desktop\\recommended system\\.venv\\lib\\site-packages (from matplotlib!=3.6.1,>=3.4->seaborn) (11.3.0)\n",
      "Requirement already satisfied: pyparsing>=2.3.1 in c:\\users\\erica\\downloads\\telegram desktop\\recommended system\\.venv\\lib\\site-packages (from matplotlib!=3.6.1,>=3.4->seaborn) (3.2.3)\n",
      "Requirement already satisfied: python-dateutil>=2.7 in c:\\users\\erica\\downloads\\telegram desktop\\recommended system\\.venv\\lib\\site-packages (from matplotlib!=3.6.1,>=3.4->seaborn) (2.9.0.post0)\n",
      "Requirement already satisfied: pytz>=2020.1 in c:\\users\\erica\\downloads\\telegram desktop\\recommended system\\.venv\\lib\\site-packages (from pandas>=1.2->seaborn) (2025.2)\n",
      "Requirement already satisfied: tzdata>=2022.7 in c:\\users\\erica\\downloads\\telegram desktop\\recommended system\\.venv\\lib\\site-packages (from pandas>=1.2->seaborn) (2025.2)\n",
      "Requirement already satisfied: six>=1.5 in c:\\users\\erica\\downloads\\telegram desktop\\recommended system\\.venv\\lib\\site-packages (from python-dateutil>=2.7->matplotlib!=3.6.1,>=3.4->seaborn) (1.17.0)\n",
      "Requirement already satisfied: plotly in c:\\users\\erica\\downloads\\telegram desktop\\recommended system\\.venv\\lib\\site-packages (6.2.0)\n",
      "Requirement already satisfied: narwhals>=1.15.1 in c:\\users\\erica\\downloads\\telegram desktop\\recommended system\\.venv\\lib\\site-packages (from plotly) (2.0.1)\n",
      "Requirement already satisfied: packaging in c:\\users\\erica\\downloads\\telegram desktop\\recommended system\\.venv\\lib\\site-packages (from plotly) (25.0)\n",
      "Collecting nbformat\n",
      "  Using cached nbformat-5.10.4-py3-none-any.whl.metadata (3.6 kB)\n",
      "Collecting fastjsonschema>=2.15 (from nbformat)\n",
      "  Using cached fastjsonschema-2.21.1-py3-none-any.whl.metadata (2.2 kB)\n",
      "Collecting jsonschema>=2.6 (from nbformat)\n",
      "  Using cached jsonschema-4.25.0-py3-none-any.whl.metadata (7.7 kB)\n",
      "Requirement already satisfied: jupyter-core!=5.0.*,>=4.12 in c:\\users\\erica\\downloads\\telegram desktop\\recommended system\\.venv\\lib\\site-packages (from nbformat) (5.8.1)\n",
      "Requirement already satisfied: traitlets>=5.1 in c:\\users\\erica\\downloads\\telegram desktop\\recommended system\\.venv\\lib\\site-packages (from nbformat) (5.14.3)\n",
      "Collecting attrs>=22.2.0 (from jsonschema>=2.6->nbformat)\n",
      "  Using cached attrs-25.3.0-py3-none-any.whl.metadata (10 kB)\n",
      "Collecting jsonschema-specifications>=2023.03.6 (from jsonschema>=2.6->nbformat)\n",
      "  Using cached jsonschema_specifications-2025.4.1-py3-none-any.whl.metadata (2.9 kB)\n",
      "Collecting referencing>=0.28.4 (from jsonschema>=2.6->nbformat)\n",
      "  Using cached referencing-0.36.2-py3-none-any.whl.metadata (2.8 kB)\n",
      "Collecting rpds-py>=0.7.1 (from jsonschema>=2.6->nbformat)\n",
      "  Using cached rpds_py-0.26.0-cp313-cp313-win_amd64.whl.metadata (4.3 kB)\n",
      "Requirement already satisfied: platformdirs>=2.5 in c:\\users\\erica\\downloads\\telegram desktop\\recommended system\\.venv\\lib\\site-packages (from jupyter-core!=5.0.*,>=4.12->nbformat) (4.3.8)\n",
      "Requirement already satisfied: pywin32>=300 in c:\\users\\erica\\downloads\\telegram desktop\\recommended system\\.venv\\lib\\site-packages (from jupyter-core!=5.0.*,>=4.12->nbformat) (311)\n",
      "Using cached nbformat-5.10.4-py3-none-any.whl (78 kB)\n",
      "Using cached fastjsonschema-2.21.1-py3-none-any.whl (23 kB)\n",
      "Using cached jsonschema-4.25.0-py3-none-any.whl (89 kB)\n",
      "Using cached attrs-25.3.0-py3-none-any.whl (63 kB)\n",
      "Using cached jsonschema_specifications-2025.4.1-py3-none-any.whl (18 kB)\n",
      "Using cached referencing-0.36.2-py3-none-any.whl (26 kB)\n",
      "Using cached rpds_py-0.26.0-cp313-cp313-win_amd64.whl (234 kB)\n",
      "Installing collected packages: fastjsonschema, rpds-py, attrs, referencing, jsonschema-specifications, jsonschema, nbformat\n",
      "\n",
      "   ----------- ---------------------------- 2/7 [attrs]\n",
      "   ----------- ---------------------------- 2/7 [attrs]\n",
      "   ----------------- ---------------------- 3/7 [referencing]\n",
      "   ---------------------------- ----------- 5/7 [jsonschema]\n",
      "   ---------------------------- ----------- 5/7 [jsonschema]\n",
      "   ---------------------------- ----------- 5/7 [jsonschema]\n",
      "   ---------------------------------- ----- 6/7 [nbformat]\n",
      "   ---------------------------------- ----- 6/7 [nbformat]\n",
      "   ---------------------------------- ----- 6/7 [nbformat]\n",
      "   ---------------------------------- ----- 6/7 [nbformat]\n",
      "   ---------------------------------------- 7/7 [nbformat]\n",
      "\n",
      "Successfully installed attrs-25.3.0 fastjsonschema-2.21.1 jsonschema-4.25.0 jsonschema-specifications-2025.4.1 nbformat-5.10.4 referencing-0.36.2 rpds-py-0.26.0\n"
     ]
    }
   ],
   "source": [
    "!pip install matplotlib\n",
    "!pip install seaborn plotly scikit-learn\n",
    "!pip install plotly\n",
    "!pip install nbformat\n",
    "\n"
   ]
  },
  {
   "cell_type": "code",
   "execution_count": 7,
   "metadata": {},
   "outputs": [
    {
     "name": "stdout",
     "output_type": "stream",
     "text": [
      "Requirement already satisfied: pandas in c:\\users\\erica\\downloads\\telegram desktop\\recommended system\\.venv\\lib\\site-packages (2.3.1)\n",
      "Requirement already satisfied: numpy>=1.26.0 in c:\\users\\erica\\downloads\\telegram desktop\\recommended system\\.venv\\lib\\site-packages (from pandas) (2.3.2)\n",
      "Requirement already satisfied: python-dateutil>=2.8.2 in c:\\users\\erica\\downloads\\telegram desktop\\recommended system\\.venv\\lib\\site-packages (from pandas) (2.9.0.post0)\n",
      "Requirement already satisfied: pytz>=2020.1 in c:\\users\\erica\\downloads\\telegram desktop\\recommended system\\.venv\\lib\\site-packages (from pandas) (2025.2)\n",
      "Requirement already satisfied: tzdata>=2022.7 in c:\\users\\erica\\downloads\\telegram desktop\\recommended system\\.venv\\lib\\site-packages (from pandas) (2025.2)\n",
      "Requirement already satisfied: six>=1.5 in c:\\users\\erica\\downloads\\telegram desktop\\recommended system\\.venv\\lib\\site-packages (from python-dateutil>=2.8.2->pandas) (1.17.0)\n"
     ]
    }
   ],
   "source": [
    "!pip install pandas\n",
    "\n",
    "#importing libraries\n",
    "import math\n",
    "import pandas as pd\n",
    "import matplotlib.pyplot as plt\n",
    "import seaborn as sns\n",
    "import plotly.express as px\n",
    "from sklearn.feature_extraction.text import CountVectorizer\n",
    "from sklearn.metrics.pairwise import cosine_similarity"
   ]
  },
  {
   "cell_type": "code",
   "execution_count": 12,
   "metadata": {},
   "outputs": [
    {
     "data": {
      "text/html": [
       "<div>\n",
       "<style scoped>\n",
       "    .dataframe tbody tr th:only-of-type {\n",
       "        vertical-align: middle;\n",
       "    }\n",
       "\n",
       "    .dataframe tbody tr th {\n",
       "        vertical-align: top;\n",
       "    }\n",
       "\n",
       "    .dataframe thead th {\n",
       "        text-align: right;\n",
       "    }\n",
       "</style>\n",
       "<table border=\"1\" class=\"dataframe\">\n",
       "  <thead>\n",
       "    <tr style=\"text-align: right;\">\n",
       "      <th></th>\n",
       "      <th>Genre</th>\n",
       "      <th>Tags</th>\n",
       "      <th>Languages</th>\n",
       "      <th>Country Availability</th>\n",
       "      <th>Runtime</th>\n",
       "      <th>Director</th>\n",
       "      <th>Writer</th>\n",
       "      <th>Actors</th>\n",
       "      <th>View Rating</th>\n",
       "      <th>IMDb Score</th>\n",
       "      <th>...</th>\n",
       "      <th>Awards Nominated For</th>\n",
       "      <th>Boxoffice</th>\n",
       "      <th>Release Date</th>\n",
       "      <th>Netflix Release Date</th>\n",
       "      <th>Production House</th>\n",
       "      <th>Netflix Link</th>\n",
       "      <th>Summary</th>\n",
       "      <th>Series or Movie</th>\n",
       "      <th>IMDb Votes</th>\n",
       "      <th>Image</th>\n",
       "    </tr>\n",
       "    <tr>\n",
       "      <th>Title</th>\n",
       "      <th></th>\n",
       "      <th></th>\n",
       "      <th></th>\n",
       "      <th></th>\n",
       "      <th></th>\n",
       "      <th></th>\n",
       "      <th></th>\n",
       "      <th></th>\n",
       "      <th></th>\n",
       "      <th></th>\n",
       "      <th></th>\n",
       "      <th></th>\n",
       "      <th></th>\n",
       "      <th></th>\n",
       "      <th></th>\n",
       "      <th></th>\n",
       "      <th></th>\n",
       "      <th></th>\n",
       "      <th></th>\n",
       "      <th></th>\n",
       "      <th></th>\n",
       "    </tr>\n",
       "  </thead>\n",
       "  <tbody>\n",
       "    <tr>\n",
       "      <th>Lets Fight Ghost</th>\n",
       "      <td>Crime, Drama, Fantasy, Horror, Romance</td>\n",
       "      <td>Comedy Programmes,Romantic TV Comedies,Horror ...</td>\n",
       "      <td>Swedish, Spanish</td>\n",
       "      <td>Thailand</td>\n",
       "      <td>&lt; 30 minutes</td>\n",
       "      <td>Tomas Alfredson</td>\n",
       "      <td>John Ajvide Lindqvist</td>\n",
       "      <td>Lina Leandersson, Kåre Hedebrant, Per Ragnar, ...</td>\n",
       "      <td>R</td>\n",
       "      <td>7.9</td>\n",
       "      <td>...</td>\n",
       "      <td>57.0</td>\n",
       "      <td>$21,22,065</td>\n",
       "      <td>12-Dec-08</td>\n",
       "      <td>04-03-2021</td>\n",
       "      <td>Canal+, Sandrew Metronome</td>\n",
       "      <td>https://www.netflix.com/watch/81415947</td>\n",
       "      <td>A med student with a supernatural gift tries t...</td>\n",
       "      <td>Series</td>\n",
       "      <td>205926.0</td>\n",
       "      <td>https://occ-0-4708-64.1.nflxso.net/dnm/api/v6/...</td>\n",
       "    </tr>\n",
       "    <tr>\n",
       "      <th>HOW TO BUILD A GIRL</th>\n",
       "      <td>Comedy</td>\n",
       "      <td>Dramas,Comedies,Films Based on Books,British</td>\n",
       "      <td>English</td>\n",
       "      <td>Canada</td>\n",
       "      <td>1-2 hour</td>\n",
       "      <td>Coky Giedroyc</td>\n",
       "      <td>Caitlin Moran</td>\n",
       "      <td>Cleo, Paddy Considine, Beanie Feldstein, Dónal...</td>\n",
       "      <td>R</td>\n",
       "      <td>5.8</td>\n",
       "      <td>...</td>\n",
       "      <td>NaN</td>\n",
       "      <td>$70,632</td>\n",
       "      <td>08-May-20</td>\n",
       "      <td>04-03-2021</td>\n",
       "      <td>Film 4, Monumental Pictures, Lionsgate</td>\n",
       "      <td>https://www.netflix.com/watch/81041267</td>\n",
       "      <td>When nerdy Johanna moves to London, things get...</td>\n",
       "      <td>Movie</td>\n",
       "      <td>2838.0</td>\n",
       "      <td>https://occ-0-1081-999.1.nflxso.net/dnm/api/v6...</td>\n",
       "    </tr>\n",
       "    <tr>\n",
       "      <th>The Con-Heartist</th>\n",
       "      <td>Comedy, Romance</td>\n",
       "      <td>Romantic Comedies,Comedies,Romantic Films,Thai...</td>\n",
       "      <td>Thai</td>\n",
       "      <td>Thailand</td>\n",
       "      <td>&gt; 2 hrs</td>\n",
       "      <td>Mez Tharatorn</td>\n",
       "      <td>Pattaranad Bhiboonsawade, Mez Tharatorn, Thods...</td>\n",
       "      <td>Kathaleeya McIntosh, Nadech Kugimiya, Pimchano...</td>\n",
       "      <td>NaN</td>\n",
       "      <td>7.4</td>\n",
       "      <td>...</td>\n",
       "      <td>NaN</td>\n",
       "      <td>NaN</td>\n",
       "      <td>03-Dec-20</td>\n",
       "      <td>03-03-2021</td>\n",
       "      <td>NaN</td>\n",
       "      <td>https://www.netflix.com/watch/81306155</td>\n",
       "      <td>After her ex-boyfriend cons her out of a large...</td>\n",
       "      <td>Movie</td>\n",
       "      <td>131.0</td>\n",
       "      <td>https://occ-0-2188-64.1.nflxso.net/dnm/api/v6/...</td>\n",
       "    </tr>\n",
       "    <tr>\n",
       "      <th>Gleboka woda</th>\n",
       "      <td>Drama</td>\n",
       "      <td>TV Dramas,Polish TV Shows,Social Issue TV Dramas</td>\n",
       "      <td>Polish</td>\n",
       "      <td>Poland</td>\n",
       "      <td>&lt; 30 minutes</td>\n",
       "      <td>NaN</td>\n",
       "      <td>NaN</td>\n",
       "      <td>Katarzyna Maciag, Piotr Nowak, Marcin Dorocins...</td>\n",
       "      <td>NaN</td>\n",
       "      <td>7.5</td>\n",
       "      <td>...</td>\n",
       "      <td>4.0</td>\n",
       "      <td>NaN</td>\n",
       "      <td>14-Jun-11</td>\n",
       "      <td>03-03-2021</td>\n",
       "      <td>NaN</td>\n",
       "      <td>https://www.netflix.com/watch/81307527</td>\n",
       "      <td>A group of social welfare workers led by their...</td>\n",
       "      <td>Series</td>\n",
       "      <td>47.0</td>\n",
       "      <td>https://occ-0-2508-2706.1.nflxso.net/dnm/api/v...</td>\n",
       "    </tr>\n",
       "    <tr>\n",
       "      <th>Only a Mother</th>\n",
       "      <td>Drama</td>\n",
       "      <td>Social Issue Dramas,Dramas,Movies Based on Boo...</td>\n",
       "      <td>Swedish</td>\n",
       "      <td>Lithuania,Poland,France,Italy,Spain,Greece,Bel...</td>\n",
       "      <td>1-2 hour</td>\n",
       "      <td>Alf Sjöberg</td>\n",
       "      <td>Ivar Lo-Johansson</td>\n",
       "      <td>Hugo Björne, Eva Dahlbeck, Ulf Palme, Ragnar F...</td>\n",
       "      <td>NaN</td>\n",
       "      <td>6.7</td>\n",
       "      <td>...</td>\n",
       "      <td>1.0</td>\n",
       "      <td>NaN</td>\n",
       "      <td>31-Oct-49</td>\n",
       "      <td>03-03-2021</td>\n",
       "      <td>NaN</td>\n",
       "      <td>https://www.netflix.com/watch/81382068</td>\n",
       "      <td>An unhappily married farm worker struggling to...</td>\n",
       "      <td>Movie</td>\n",
       "      <td>88.0</td>\n",
       "      <td>https://occ-0-2851-41.1.nflxso.net/dnm/api/v6/...</td>\n",
       "    </tr>\n",
       "  </tbody>\n",
       "</table>\n",
       "<p>5 rows × 21 columns</p>\n",
       "</div>"
      ],
      "text/plain": [
       "                                                      Genre  \\\n",
       "Title                                                         \n",
       "Lets Fight Ghost     Crime, Drama, Fantasy, Horror, Romance   \n",
       "HOW TO BUILD A GIRL                                  Comedy   \n",
       "The Con-Heartist                            Comedy, Romance   \n",
       "Gleboka woda                                          Drama   \n",
       "Only a Mother                                         Drama   \n",
       "\n",
       "                                                                  Tags  \\\n",
       "Title                                                                    \n",
       "Lets Fight Ghost     Comedy Programmes,Romantic TV Comedies,Horror ...   \n",
       "HOW TO BUILD A GIRL       Dramas,Comedies,Films Based on Books,British   \n",
       "The Con-Heartist     Romantic Comedies,Comedies,Romantic Films,Thai...   \n",
       "Gleboka woda          TV Dramas,Polish TV Shows,Social Issue TV Dramas   \n",
       "Only a Mother        Social Issue Dramas,Dramas,Movies Based on Boo...   \n",
       "\n",
       "                            Languages  \\\n",
       "Title                                   \n",
       "Lets Fight Ghost     Swedish, Spanish   \n",
       "HOW TO BUILD A GIRL           English   \n",
       "The Con-Heartist                 Thai   \n",
       "Gleboka woda                   Polish   \n",
       "Only a Mother                 Swedish   \n",
       "\n",
       "                                                  Country Availability  \\\n",
       "Title                                                                    \n",
       "Lets Fight Ghost                                              Thailand   \n",
       "HOW TO BUILD A GIRL                                             Canada   \n",
       "The Con-Heartist                                              Thailand   \n",
       "Gleboka woda                                                    Poland   \n",
       "Only a Mother        Lithuania,Poland,France,Italy,Spain,Greece,Bel...   \n",
       "\n",
       "                          Runtime         Director  \\\n",
       "Title                                                \n",
       "Lets Fight Ghost     < 30 minutes  Tomas Alfredson   \n",
       "HOW TO BUILD A GIRL      1-2 hour    Coky Giedroyc   \n",
       "The Con-Heartist          > 2 hrs    Mez Tharatorn   \n",
       "Gleboka woda         < 30 minutes              NaN   \n",
       "Only a Mother            1-2 hour      Alf Sjöberg   \n",
       "\n",
       "                                                                Writer  \\\n",
       "Title                                                                    \n",
       "Lets Fight Ghost                                 John Ajvide Lindqvist   \n",
       "HOW TO BUILD A GIRL                                      Caitlin Moran   \n",
       "The Con-Heartist     Pattaranad Bhiboonsawade, Mez Tharatorn, Thods...   \n",
       "Gleboka woda                                                       NaN   \n",
       "Only a Mother                                        Ivar Lo-Johansson   \n",
       "\n",
       "                                                                Actors  \\\n",
       "Title                                                                    \n",
       "Lets Fight Ghost     Lina Leandersson, Kåre Hedebrant, Per Ragnar, ...   \n",
       "HOW TO BUILD A GIRL  Cleo, Paddy Considine, Beanie Feldstein, Dónal...   \n",
       "The Con-Heartist     Kathaleeya McIntosh, Nadech Kugimiya, Pimchano...   \n",
       "Gleboka woda         Katarzyna Maciag, Piotr Nowak, Marcin Dorocins...   \n",
       "Only a Mother        Hugo Björne, Eva Dahlbeck, Ulf Palme, Ragnar F...   \n",
       "\n",
       "                    View Rating  IMDb Score  ...  Awards Nominated For  \\\n",
       "Title                                        ...                         \n",
       "Lets Fight Ghost              R         7.9  ...                  57.0   \n",
       "HOW TO BUILD A GIRL           R         5.8  ...                   NaN   \n",
       "The Con-Heartist            NaN         7.4  ...                   NaN   \n",
       "Gleboka woda                NaN         7.5  ...                   4.0   \n",
       "Only a Mother               NaN         6.7  ...                   1.0   \n",
       "\n",
       "                      Boxoffice Release Date Netflix Release Date  \\\n",
       "Title                                                               \n",
       "Lets Fight Ghost     $21,22,065    12-Dec-08           04-03-2021   \n",
       "HOW TO BUILD A GIRL     $70,632    08-May-20           04-03-2021   \n",
       "The Con-Heartist            NaN    03-Dec-20           03-03-2021   \n",
       "Gleboka woda                NaN    14-Jun-11           03-03-2021   \n",
       "Only a Mother               NaN    31-Oct-49           03-03-2021   \n",
       "\n",
       "                                           Production House  \\\n",
       "Title                                                         \n",
       "Lets Fight Ghost                  Canal+, Sandrew Metronome   \n",
       "HOW TO BUILD A GIRL  Film 4, Monumental Pictures, Lionsgate   \n",
       "The Con-Heartist                                        NaN   \n",
       "Gleboka woda                                            NaN   \n",
       "Only a Mother                                           NaN   \n",
       "\n",
       "                                               Netflix Link  \\\n",
       "Title                                                         \n",
       "Lets Fight Ghost     https://www.netflix.com/watch/81415947   \n",
       "HOW TO BUILD A GIRL  https://www.netflix.com/watch/81041267   \n",
       "The Con-Heartist     https://www.netflix.com/watch/81306155   \n",
       "Gleboka woda         https://www.netflix.com/watch/81307527   \n",
       "Only a Mother        https://www.netflix.com/watch/81382068   \n",
       "\n",
       "                                                               Summary  \\\n",
       "Title                                                                    \n",
       "Lets Fight Ghost     A med student with a supernatural gift tries t...   \n",
       "HOW TO BUILD A GIRL  When nerdy Johanna moves to London, things get...   \n",
       "The Con-Heartist     After her ex-boyfriend cons her out of a large...   \n",
       "Gleboka woda         A group of social welfare workers led by their...   \n",
       "Only a Mother        An unhappily married farm worker struggling to...   \n",
       "\n",
       "                    Series or Movie IMDb Votes  \\\n",
       "Title                                            \n",
       "Lets Fight Ghost             Series   205926.0   \n",
       "HOW TO BUILD A GIRL           Movie     2838.0   \n",
       "The Con-Heartist              Movie      131.0   \n",
       "Gleboka woda                 Series       47.0   \n",
       "Only a Mother                 Movie       88.0   \n",
       "\n",
       "                                                                 Image  \n",
       "Title                                                                   \n",
       "Lets Fight Ghost     https://occ-0-4708-64.1.nflxso.net/dnm/api/v6/...  \n",
       "HOW TO BUILD A GIRL  https://occ-0-1081-999.1.nflxso.net/dnm/api/v6...  \n",
       "The Con-Heartist     https://occ-0-2188-64.1.nflxso.net/dnm/api/v6/...  \n",
       "Gleboka woda         https://occ-0-2508-2706.1.nflxso.net/dnm/api/v...  \n",
       "Only a Mother        https://occ-0-2851-41.1.nflxso.net/dnm/api/v6/...  \n",
       "\n",
       "[5 rows x 21 columns]"
      ]
     },
     "execution_count": 12,
     "metadata": {},
     "output_type": "execute_result"
    }
   ],
   "source": [
    "netflix_data = pd.read_csv('NetflixDataset.csv',encoding='latin-1', index_col = 'Title')\n",
    "netflix_data.head()\n",
    "\n"
   ]
  },
  {
   "cell_type": "code",
   "execution_count": 13,
   "metadata": {},
   "outputs": [],
   "source": [
    "netflix_data.index = netflix_data.index.str.title()"
   ]
  },
  {
   "cell_type": "code",
   "execution_count": 14,
   "metadata": {},
   "outputs": [
    {
     "name": "stderr",
     "output_type": "stream",
     "text": [
      "C:\\Users\\erica\\AppData\\Local\\Temp\\ipykernel_19172\\3158175579.py:6: MatplotlibDeprecationWarning: Passing the explode parameter of pie() positionally is deprecated since Matplotlib 3.10; the parameter will become keyword-only in 3.12.\n",
      "  ax.pie(sizes, explode, label, color, '%2.2f%%')\n"
     ]
    },
    {
     "data": {
      "image/png": "[encoded data removed]",
      "text/plain": [
       "<Figure size 640x480 with 1 Axes>"
      ]
     },
     "metadata": {},
     "output_type": "display_data"
    }
   ],
   "source": [
    "color = ['blue', 'yellow']\n",
    "label = ['Series', 'Movies']\n",
    "sizes = [netflix_data[netflix_data['Series or Movie'] == 'Series'].size, netflix_data[netflix_data['Series or Movie'] == 'Movie'].size]\n",
    "explode = (0.1, 0)\n",
    "fig, ax = plt.subplots()\n",
    "ax.pie(sizes, explode, label, color, '%2.2f%%')\n",
    "ax.axis('equal')\n",
    "plt.show()"
   ]
  },
  {
   "cell_type": "code",
   "execution_count": 15,
   "metadata": {},
   "outputs": [],
   "source": [
    "netflix_data.rename(columns={'View Rating':'ViewerRating'}, inplace=True)"
   ]
  },
  {
   "cell_type": "code",
   "execution_count": 16,
   "metadata": {},
   "outputs": [
    {
     "name": "stdout",
     "output_type": "stream",
     "text": [
      "184\n"
     ]
    }
   ],
   "source": [
    "Language = netflix_data.Languages.str.get_dummies(',')\n",
    "Lang = Language.columns.str.strip().values.tolist()\n",
    "Language = netflix_data['Languages']\n",
    "Language_Count = dict()\n",
    "for i in Lang:\n",
    "    p = Language.str.count(i).sum()\n",
    "    Language_Count[i] = int(p)\n",
    "print(len(Language_Count))"
   ]
  },
  {
   "cell_type": "code",
   "execution_count": 17,
   "metadata": {},
   "outputs": [],
   "source": [
    "Language_Count = {k: v for k, v in sorted(Language_Count.items(), key=lambda item: item[1], reverse = True)}\n",
    "top_languages = {\"Languages\": list(Language_Count.keys()), \"Count\": list(Language_Count.values())}"
   ]
  },
  {
   "cell_type": "code",
   "execution_count": 21,
   "metadata": {},
   "outputs": [],
   "source": [
    "import plotly.express as px\n",
    "import pandas as pd\n",
    "import plotly.io as pio\n",
    "\n",
    "pio.renderers.default = 'browser'\n",
    "\n",
    "fig = px.bar(\n",
    "    pd.DataFrame(top_languages)[:10],\n",
    "    y='Languages',\n",
    "    x='Count',\n",
    "    orientation='h',\n",
    "    title='Most Available Languages',\n",
    "    color='Count',\n",
    "    color_continuous_scale=px.colors.qualitative.Prism\n",
    ").update_yaxes(categoryorder='total ascending')\n",
    "\n",
    "fig.show()\n"
   ]
  },
  {
   "cell_type": "code",
   "execution_count": 22,
   "metadata": {},
   "outputs": [
    {
     "name": "stdout",
     "output_type": "stream",
     "text": [
      "28\n"
     ]
    }
   ],
   "source": [
    "Genres = netflix_data.Genre.str.get_dummies(',')\n",
    "Genre = Genres.columns.str.strip().values.tolist()\n",
    "Genres = netflix_data['Genre']\n",
    "Genre_Count = dict()\n",
    "for i in Genre:\n",
    "    p = Genres.str.count(i).sum()\n",
    "    Genre_Count[i] = int(p)\n",
    "print(len(Genre_Count))"
   ]
  },
  {
   "cell_type": "code",
   "execution_count": 10,
   "metadata": {},
   "outputs": [],
   "source": [
    "Genre_Count = {k: v for k, v in sorted(Genre_Count.items(), key=lambda item: item[1], reverse = True)}\n",
    "top_genres = {\"Genre\": list(Genre_Count.keys()), \"Count\": list(Genre_Count.values())}"
   ]
  },
  {
   "cell_type": "code",
   "execution_count": 11,
   "metadata": {},
   "outputs": [
    {
     "data": {
      "application/vnd.plotly.v1+json": {
       "config": {
        "plotlyServerURL": "https://plot.ly"
       },
       "data": [
        {
         "alignmentgroup": "True",
         "hovertemplate": "Count=%{marker.color}<br>Genre=%{y}<extra></extra>",
         "legendgroup": "",
         "marker": {
          "color": [
           4797,
           3302,
           2141,
           2065,
           1810,
           1512,
           1349,
           1222,
           1168,
           949
          ],
          "coloraxis": "coloraxis",
          "pattern": {
           "shape": ""
          }
         },
         "name": "",
         "offsetgroup": "",
         "orientation": "h",
         "showlegend": false,
         "textposition": "auto",
         "type": "bar",
         "x": [
          4797,
          3302,
          2141,
          2065,
          1810,
          1512,
          1349,
          1222,
          1168,
          949
         ],
         "xaxis": "x",
         "y": [
          "Drama",
          "Comedy",
          "Action",
          "Thriller",
          "Romance",
          "Crime",
          "Adventure",
          "Fantasy",
          "Animation",
          "Sci-Fi"
         ],
         "yaxis": "y"
        }
       ],
       "layout": {
        "barmode": "relative",
        "coloraxis": {
         "colorbar": {
          "title": {
           "text": "Count"
          }
         },
         "colorscale": [
          [
           0,
           "rgb(95, 70, 144)"
          ],
          [
           0.1,
           "rgb(29, 105, 150)"
          ],
          [
           0.2,
           "rgb(56, 166, 165)"
          ],
          [
           0.3,
           "rgb(15, 133, 84)"
          ],
          [
           0.4,
           "rgb(115, 175, 72)"
          ],
          [
           0.5,
           "rgb(237, 173, 8)"
          ],
          [
           0.6,
           "rgb(225, 124, 5)"
          ],
          [
           0.7,
           "rgb(204, 80, 62)"
          ],
          [
           0.8,
           "rgb(148, 52, 110)"
          ],
          [
           0.9,
           "rgb(111, 64, 112)"
          ],
          [
           1,
           "rgb(102, 102, 102)"
          ]
         ]
        },
        "legend": {
         "tracegroupgap": 0
        },
        "template": {
         "data": {
          "bar": [
           {
            "error_x": {
             "color": "#2a3f5f"
            },
            "error_y": {
             "color": "#2a3f5f"
            },
            "marker": {
             "line": {
              "color": "#E5ECF6",
              "width": 0.5
             },
             "pattern": {
              "fillmode": "overlay",
              "size": 10,
              "solidity": 0.2
             }
            },
            "type": "bar"
           }
          ],
          "barpolar": [
           {
            "marker": {
             "line": {
              "color": "#E5ECF6",
              "width": 0.5
             },
             "pattern": {
              "fillmode": "overlay",
              "size": 10,
              "solidity": 0.2
             }
            },
            "type": "barpolar"
           }
          ],
          "carpet": [
           {
            "aaxis": {
             "endlinecolor": "#2a3f5f",
             "gridcolor": "white",
             "linecolor": "white",
             "minorgridcolor": "white",
             "startlinecolor": "#2a3f5f"
            },
            "baxis": {
             "endlinecolor": "#2a3f5f",
             "gridcolor": "white",
             "linecolor": "white",
             "minorgridcolor": "white",
             "startlinecolor": "#2a3f5f"
            },
            "type": "carpet"
           }
          ],
          "choropleth": [
           {
            "colorbar": {
             "outlinewidth": 0,
             "ticks": ""
            },
            "type": "choropleth"
           }
          ],
          "contour": [
           {
            "colorbar": {
             "outlinewidth": 0,
             "ticks": ""
            },
            "colorscale": [
             [
              0,
              "#0d0887"
             ],
             [
              0.1111111111111111,
              "#46039f"
             ],
             [
              0.2222222222222222,
              "#7201a8"
             ],
             [
              0.3333333333333333,
              "#9c179e"
             ],
             [
              0.4444444444444444,
              "#bd3786"
             ],
             [
              0.5555555555555556,
              "#d8576b"
             ],
             [
              0.6666666666666666,
              "#ed7953"
             ],
             [
              0.7777777777777778,
              "#fb9f3a"
             ],
             [
              0.8888888888888888,
              "#fdca26"
             ],
             [
              1,
              "#f0f921"
             ]
            ],
            "type": "contour"
           }
          ],
          "contourcarpet": [
           {
            "colorbar": {
             "outlinewidth": 0,
             "ticks": ""
            },
            "type": "contourcarpet"
           }
          ],
          "heatmap": [
           {
            "colorbar": {
             "outlinewidth": 0,
             "ticks": ""
            },
            "colorscale": [
             [
              0,
              "#0d0887"
             ],
             [
              0.1111111111111111,
              "#46039f"
             ],
             [
              0.2222222222222222,
              "#7201a8"
             ],
             [
              0.3333333333333333,
              "#9c179e"
             ],
             [
              0.4444444444444444,
              "#bd3786"
             ],
             [
              0.5555555555555556,
              "#d8576b"
             ],
             [
              0.6666666666666666,
              "#ed7953"
             ],
             [
              0.7777777777777778,
              "#fb9f3a"
             ],
             [
              0.8888888888888888,
              "#fdca26"
             ],
             [
              1,
              "#f0f921"
             ]
            ],
            "type": "heatmap"
           }
          ],
          "heatmapgl": [
           {
            "colorbar": {
             "outlinewidth": 0,
             "ticks": ""
            },
            "colorscale": [
             [
              0,
              "#0d0887"
             ],
             [
              0.1111111111111111,
              "#46039f"
             ],
             [
              0.2222222222222222,
              "#7201a8"
             ],
             [
              0.3333333333333333,
              "#9c179e"
             ],
             [
              0.4444444444444444,
              "#bd3786"
             ],
             [
              0.5555555555555556,
              "#d8576b"
             ],
             [
              0.6666666666666666,
              "#ed7953"
             ],
             [
              0.7777777777777778,
              "#fb9f3a"
             ],
             [
              0.8888888888888888,
              "#fdca26"
             ],
             [
              1,
              "#f0f921"
             ]
            ],
            "type": "heatmapgl"
           }
          ],
          "histogram": [
           {
            "marker": {
             "pattern": {
              "fillmode": "overlay",
              "size": 10,
              "solidity": 0.2
             }
            },
            "type": "histogram"
           }
          ],
          "histogram2d": [
           {
            "colorbar": {
             "outlinewidth": 0,
             "ticks": ""
            },
            "colorscale": [
             [
              0,
              "#0d0887"
             ],
             [
              0.1111111111111111,
              "#46039f"
             ],
             [
              0.2222222222222222,
              "#7201a8"
             ],
             [
              0.3333333333333333,
              "#9c179e"
             ],
             [
              0.4444444444444444,
              "#bd3786"
             ],
             [
              0.5555555555555556,
              "#d8576b"
             ],
             [
              0.6666666666666666,
              "#ed7953"
             ],
             [
              0.7777777777777778,
              "#fb9f3a"
             ],
             [
              0.8888888888888888,
              "#fdca26"
             ],
             [
              1,
              "#f0f921"
             ]
            ],
            "type": "histogram2d"
           }
          ],
          "histogram2dcontour": [
           {
            "colorbar": {
             "outlinewidth": 0,
             "ticks": ""
            },
            "colorscale": [
             [
              0,
              "#0d0887"
             ],
             [
              0.1111111111111111,
              "#46039f"
             ],
             [
              0.2222222222222222,
              "#7201a8"
             ],
             [
              0.3333333333333333,
              "#9c179e"
             ],
             [
              0.4444444444444444,
              "#bd3786"
             ],
             [
              0.5555555555555556,
              "#d8576b"
             ],
             [
              0.6666666666666666,
              "#ed7953"
             ],
             [
              0.7777777777777778,
              "#fb9f3a"
             ],
             [
              0.8888888888888888,
              "#fdca26"
             ],
             [
              1,
              "#f0f921"
             ]
            ],
            "type": "histogram2dcontour"
           }
          ],
          "mesh3d": [
           {
            "colorbar": {
             "outlinewidth": 0,
             "ticks": ""
            },
            "type": "mesh3d"
           }
          ],
          "parcoords": [
           {
            "line": {
             "colorbar": {
              "outlinewidth": 0,
              "ticks": ""
             }
            },
            "type": "parcoords"
           }
          ],
          "pie": [
           {
            "automargin": true,
            "type": "pie"
           }
          ],
          "scatter": [
           {
            "fillpattern": {
             "fillmode": "overlay",
             "size": 10,
             "solidity": 0.2
            },
            "type": "scatter"
           }
          ],
          "scatter3d": [
           {
            "line": {
             "colorbar": {
              "outlinewidth": 0,
              "ticks": ""
             }
            },
            "marker": {
             "colorbar": {
              "outlinewidth": 0,
              "ticks": ""
             }
            },
            "type": "scatter3d"
           }
          ],
          "scattercarpet": [
           {
            "marker": {
             "colorbar": {
              "outlinewidth": 0,
              "ticks": ""
             }
            },
            "type": "scattercarpet"
           }
          ],
          "scattergeo": [
           {
            "marker": {
             "colorbar": {
              "outlinewidth": 0,
              "ticks": ""
             }
            },
            "type": "scattergeo"
           }
          ],
          "scattergl": [
           {
            "marker": {
             "colorbar": {
              "outlinewidth": 0,
              "ticks": ""
             }
            },
            "type": "scattergl"
           }
          ],
          "scattermapbox": [
           {
            "marker": {
             "colorbar": {
              "outlinewidth": 0,
              "ticks": ""
             }
            },
            "type": "scattermapbox"
           }
          ],
          "scatterpolar": [
           {
            "marker": {
             "colorbar": {
              "outlinewidth": 0,
              "ticks": ""
             }
            },
            "type": "scatterpolar"
           }
          ],
          "scatterpolargl": [
           {
            "marker": {
             "colorbar": {
              "outlinewidth": 0,
              "ticks": ""
             }
            },
            "type": "scatterpolargl"
           }
          ],
          "scatterternary": [
           {
            "marker": {
             "colorbar": {
              "outlinewidth": 0,
              "ticks": ""
             }
            },
            "type": "scatterternary"
           }
          ],
          "surface": [
           {
            "colorbar": {
             "outlinewidth": 0,
             "ticks": ""
            },
            "colorscale": [
             [
              0,
              "#0d0887"
             ],
             [
              0.1111111111111111,
              "#46039f"
             ],
             [
              0.2222222222222222,
              "#7201a8"
             ],
             [
              0.3333333333333333,
              "#9c179e"
             ],
             [
              0.4444444444444444,
              "#bd3786"
             ],
             [
              0.5555555555555556,
              "#d8576b"
             ],
             [
              0.6666666666666666,
              "#ed7953"
             ],
             [
              0.7777777777777778,
              "#fb9f3a"
             ],
             [
              0.8888888888888888,
              "#fdca26"
             ],
             [
              1,
              "#f0f921"
             ]
            ],
            "type": "surface"
           }
          ],
          "table": [
           {
            "cells": {
             "fill": {
              "color": "#EBF0F8"
             },
             "line": {
              "color": "white"
             }
            },
            "header": {
             "fill": {
              "color": "#C8D4E3"
             },
             "line": {
              "color": "white"
             }
            },
            "type": "table"
           }
          ]
         },
         "layout": {
          "annotationdefaults": {
           "arrowcolor": "#2a3f5f",
           "arrowhead": 0,
           "arrowwidth": 1
          },
          "autotypenumbers": "strict",
          "coloraxis": {
           "colorbar": {
            "outlinewidth": 0,
            "ticks": ""
           }
          },
          "colorscale": {
           "diverging": [
            [
             0,
             "#8e0152"
            ],
            [
             0.1,
             "#c51b7d"
            ],
            [
             0.2,
             "#de77ae"
            ],
            [
             0.3,
             "#f1b6da"
            ],
            [
             0.4,
             "#fde0ef"
            ],
            [
             0.5,
             "#f7f7f7"
            ],
            [
             0.6,
             "#e6f5d0"
            ],
            [
             0.7,
             "#b8e186"
            ],
            [
             0.8,
             "#7fbc41"
            ],
            [
             0.9,
             "#4d9221"
            ],
            [
             1,
             "#276419"
            ]
           ],
           "sequential": [
            [
             0,
             "#0d0887"
            ],
            [
             0.1111111111111111,
             "#46039f"
            ],
            [
             0.2222222222222222,
             "#7201a8"
            ],
            [
             0.3333333333333333,
             "#9c179e"
            ],
            [
             0.4444444444444444,
             "#bd3786"
            ],
            [
             0.5555555555555556,
             "#d8576b"
            ],
            [
             0.6666666666666666,
             "#ed7953"
            ],
            [
             0.7777777777777778,
             "#fb9f3a"
            ],
            [
             0.8888888888888888,
             "#fdca26"
            ],
            [
             1,
             "#f0f921"
            ]
           ],
           "sequentialminus": [
            [
             0,
             "#0d0887"
            ],
            [
             0.1111111111111111,
             "#46039f"
            ],
            [
             0.2222222222222222,
             "#7201a8"
            ],
            [
             0.3333333333333333,
             "#9c179e"
            ],
            [
             0.4444444444444444,
             "#bd3786"
            ],
            [
             0.5555555555555556,
             "#d8576b"
            ],
            [
             0.6666666666666666,
             "#ed7953"
            ],
            [
             0.7777777777777778,
             "#fb9f3a"
            ],
            [
             0.8888888888888888,
             "#fdca26"
            ],
            [
             1,
             "#f0f921"
            ]
           ]
          },
          "colorway": [
           "#636efa",
           "#EF553B",
           "#00cc96",
           "#ab63fa",
           "#FFA15A",
           "#19d3f3",
           "#FF6692",
           "#B6E880",
           "#FF97FF",
           "#FECB52"
          ],
          "font": {
           "color": "#2a3f5f"
          },
          "geo": {
           "bgcolor": "white",
           "lakecolor": "white",
           "landcolor": "#E5ECF6",
           "showlakes": true,
           "showland": true,
           "subunitcolor": "white"
          },
          "hoverlabel": {
           "align": "left"
          },
          "hovermode": "closest",
          "mapbox": {
           "style": "light"
          },
          "paper_bgcolor": "white",
          "plot_bgcolor": "#E5ECF6",
          "polar": {
           "angularaxis": {
            "gridcolor": "white",
            "linecolor": "white",
            "ticks": ""
           },
           "bgcolor": "#E5ECF6",
           "radialaxis": {
            "gridcolor": "white",
            "linecolor": "white",
            "ticks": ""
           }
          },
          "scene": {
           "xaxis": {
            "backgroundcolor": "#E5ECF6",
            "gridcolor": "white",
            "gridwidth": 2,
            "linecolor": "white",
            "showbackground": true,
            "ticks": "",
            "zerolinecolor": "white"
           },
           "yaxis": {
            "backgroundcolor": "#E5ECF6",
            "gridcolor": "white",
            "gridwidth": 2,
            "linecolor": "white",
            "showbackground": true,
            "ticks": "",
            "zerolinecolor": "white"
           },
           "zaxis": {
            "backgroundcolor": "#E5ECF6",
            "gridcolor": "white",
            "gridwidth": 2,
            "linecolor": "white",
            "showbackground": true,
            "ticks": "",
            "zerolinecolor": "white"
           }
          },
          "shapedefaults": {
           "line": {
            "color": "#2a3f5f"
           }
          },
          "ternary": {
           "aaxis": {
            "gridcolor": "white",
            "linecolor": "white",
            "ticks": ""
           },
           "baxis": {
            "gridcolor": "white",
            "linecolor": "white",
            "ticks": ""
           },
           "bgcolor": "#E5ECF6",
           "caxis": {
            "gridcolor": "white",
            "linecolor": "white",
            "ticks": ""
           }
          },
          "title": {
           "x": 0.05
          },
          "xaxis": {
           "automargin": true,
           "gridcolor": "white",
           "linecolor": "white",
           "ticks": "",
           "title": {
            "standoff": 15
           },
           "zerolinecolor": "white",
           "zerolinewidth": 2
          },
          "yaxis": {
           "automargin": true,
           "gridcolor": "white",
           "linecolor": "white",
           "ticks": "",
           "title": {
            "standoff": 15
           },
           "zerolinecolor": "white",
           "zerolinewidth": 2
          }
         }
        },
        "title": {
         "text": "Genres with maximum content"
        },
        "xaxis": {
         "anchor": "y",
         "domain": [
          0,
          1
         ],
         "title": {
          "text": "Count"
         }
        },
        "yaxis": {
         "anchor": "x",
         "categoryorder": "total ascending",
         "domain": [
          0,
          1
         ],
         "title": {
          "text": "Genre"
         }
        }
       }
      }
     },
     "metadata": {},
     "output_type": "display_data"
    }
   ],
   "source": [
    "fig = px.bar(pd.DataFrame(top_genres)[:10], y = 'Genre', x = 'Count', orientation = 'h', title = 'Genres with maximum content', color = 'Count', color_continuous_scale = px.colors.qualitative.Prism).update_yaxes(categoryorder = 'total ascending')\n",
    "fig.show()"
   ]
  },
  {
   "cell_type": "code",
   "execution_count": 12,
   "metadata": {},
   "outputs": [
    {
     "data": {
      "image/png": "[encoded data removed]",
      "text/plain": [
       "<Figure size 1080x360 with 1 Axes>"
      ]
     },
     "metadata": {
      "needs_background": "light"
     },
     "output_type": "display_data"
    }
   ],
   "source": [
    "top_15 = netflix_data.sort_values(by = ['IMDb Score'], ascending = False).head(15)\n",
    "plt.figure(figsize = (15,5))\n",
    "sns.barplot(data = top_15, y = top_15.index, x = \"IMDb Score\")\n",
    "plt.show()"
   ]
  },
  {
   "cell_type": "code",
   "execution_count": 13,
   "metadata": {},
   "outputs": [],
   "source": [
    "netflix_data = netflix_data[~netflix_data.index.duplicated()]"
   ]
  },
  {
   "cell_type": "code",
   "execution_count": 14,
   "metadata": {},
   "outputs": [
    {
     "data": {
      "text/plain": [
       "0"
      ]
     },
     "execution_count": 14,
     "metadata": {},
     "output_type": "execute_result"
    }
   ],
   "source": [
    "netflix_data.index.duplicated().sum()"
   ]
  },
  {
   "cell_type": "code",
   "execution_count": 15,
   "metadata": {},
   "outputs": [
    {
     "data": {
      "text/plain": [
       "0"
      ]
     },
     "execution_count": 15,
     "metadata": {},
     "output_type": "execute_result"
    }
   ],
   "source": [
    "netflix_data.index.isnull().sum()"
   ]
  },
  {
   "cell_type": "code",
   "execution_count": 16,
   "metadata": {},
   "outputs": [
    {
     "name": "stdout",
     "output_type": "stream",
     "text": [
      "25\n"
     ]
    }
   ],
   "source": [
    "netflix_data['Genre'] = netflix_data['Genre'].astype('str')\n",
    "print((netflix_data['Genre'] == 'nan').sum())"
   ]
  },
  {
   "cell_type": "code",
   "execution_count": 17,
   "metadata": {},
   "outputs": [
    {
     "name": "stdout",
     "output_type": "stream",
     "text": [
      "36\n"
     ]
    }
   ],
   "source": [
    "netflix_data['Tags'] = netflix_data['Tags'].astype('str')\n",
    "print((netflix_data['Tags'] == 'nan').sum())"
   ]
  },
  {
   "cell_type": "code",
   "execution_count": 18,
   "metadata": {},
   "outputs": [
    {
     "name": "stdout",
     "output_type": "stream",
     "text": [
      "0\n"
     ]
    }
   ],
   "source": [
    "print(((netflix_data['Genre'] == 'nan') & (netflix_data['Tags'] == 'nan')).sum())\n",
    "#so these two features can used to recommend movies as no movie can be left unrecommended"
   ]
  },
  {
   "cell_type": "code",
   "execution_count": 19,
   "metadata": {},
   "outputs": [
    {
     "name": "stdout",
     "output_type": "stream",
     "text": [
      "        IMDb Score\n",
      "count  9125.000000\n",
      "mean      6.955134\n",
      "std       0.896501\n",
      "min       1.600000\n",
      "25%       6.500000\n",
      "50%       7.000000\n",
      "75%       7.500000\n",
      "max       9.700000\n"
     ]
    },
    {
     "data": {
      "text/plain": [
       "0    6.6\n",
       "dtype: float64"
      ]
     },
     "execution_count": 19,
     "metadata": {},
     "output_type": "execute_result"
    }
   ],
   "source": [
    "print(netflix_data[['IMDb Score']].describe())\n",
    "netflix_data['IMDb Score'].mode()\n",
    "#this feature will be used to sort the movie or series list to represent the recommended items"
   ]
  },
  {
   "cell_type": "code",
   "execution_count": 20,
   "metadata": {},
   "outputs": [
    {
     "name": "stdout",
     "output_type": "stream",
     "text": [
      "        IMDb Score\n",
      "count  9132.000000\n",
      "mean      6.954862\n",
      "std       0.896212\n",
      "min       1.600000\n",
      "25%       6.500000\n",
      "50%       7.000000\n",
      "75%       7.500000\n",
      "max       9.700000\n"
     ]
    }
   ],
   "source": [
    "netflix_data['IMDb Score'] = netflix_data['IMDb Score'].apply(lambda x: 6.6 if x == 0 or math.isnan(x) else x)\n",
    "print(netflix_data[['IMDb Score']].describe())\n",
    "#since no value has suffered for change greater than 0.0003 after replacing the null values with mode value, so we replace the null values with 6.6"
   ]
  },
  {
   "cell_type": "code",
   "execution_count": 21,
   "metadata": {},
   "outputs": [],
   "source": [
    "netflix_data['Actors'] = netflix_data['Actors'].astype('str')\n",
    "netflix_data['ViewerRating'] = netflix_data['ViewerRating'].astype('str')"
   ]
  },
  {
   "cell_type": "code",
   "execution_count": 22,
   "metadata": {},
   "outputs": [],
   "source": [
    "def prepare_data(x):\n",
    "        return str.lower(x.replace(\" \", \"\"))"
   ]
  },
  {
   "cell_type": "code",
   "execution_count": 23,
   "metadata": {},
   "outputs": [],
   "source": [
    "new_features = ['Genre', 'Tags', 'Actors', 'ViewerRating']\n",
    "selected_data = netflix_data[new_features]"
   ]
  },
  {
   "cell_type": "code",
   "execution_count": 24,
   "metadata": {},
   "outputs": [
    {
     "name": "stderr",
     "output_type": "stream",
     "text": [
      "c:\\Users\\HP\\AppData\\Local\\Programs\\Python\\Python310\\lib\\site-packages\\pandas\\core\\indexing.py:1951: SettingWithCopyWarning:\n",
      "\n",
      "\n",
      "A value is trying to be set on a copy of a slice from a DataFrame.\n",
      "Try using .loc[row_indexer,col_indexer] = value instead\n",
      "\n",
      "See the caveats in the documentation: https://pandas.pydata.org/pandas-docs/stable/user_guide/indexing.html#returning-a-view-versus-a-copy\n",
      "\n"
     ]
    },
    {
     "data": {
      "text/html": [
       "<div>\n",
       "<style scoped>\n",
       "    .dataframe tbody tr th:only-of-type {\n",
       "        vertical-align: middle;\n",
       "    }\n",
       "\n",
       "    .dataframe tbody tr th {\n",
       "        vertical-align: top;\n",
       "    }\n",
       "\n",
       "    .dataframe thead th {\n",
       "        text-align: right;\n",
       "    }\n",
       "</style>\n",
       "<table border=\"1\" class=\"dataframe\">\n",
       "  <thead>\n",
       "    <tr style=\"text-align: right;\">\n",
       "      <th></th>\n",
       "      <th>Genre</th>\n",
       "      <th>Tags</th>\n",
       "      <th>Actors</th>\n",
       "      <th>ViewerRating</th>\n",
       "    </tr>\n",
       "    <tr>\n",
       "      <th>Title</th>\n",
       "      <th></th>\n",
       "      <th></th>\n",
       "      <th></th>\n",
       "      <th></th>\n",
       "    </tr>\n",
       "  </thead>\n",
       "  <tbody>\n",
       "    <tr>\n",
       "      <th>letsfightghost</th>\n",
       "      <td>crime,drama,fantasy,horror,romance</td>\n",
       "      <td>comedyprogrammes,romantictvcomedies,horrorprog...</td>\n",
       "      <td>linaleandersson,kårehedebrant,perragnar,henrik...</td>\n",
       "      <td>r</td>\n",
       "    </tr>\n",
       "    <tr>\n",
       "      <th>howtobuildagirl</th>\n",
       "      <td>comedy</td>\n",
       "      <td>dramas,comedies,filmsbasedonbooks,british</td>\n",
       "      <td>cleo,paddyconsidine,beaniefeldstein,dónalfinn</td>\n",
       "      <td>r</td>\n",
       "    </tr>\n",
       "  </tbody>\n",
       "</table>\n",
       "</div>"
      ],
      "text/plain": [
       "                                              Genre  \\\n",
       "Title                                                 \n",
       "letsfightghost   crime,drama,fantasy,horror,romance   \n",
       "howtobuildagirl                              comedy   \n",
       "\n",
       "                                                              Tags  \\\n",
       "Title                                                                \n",
       "letsfightghost   comedyprogrammes,romantictvcomedies,horrorprog...   \n",
       "howtobuildagirl          dramas,comedies,filmsbasedonbooks,british   \n",
       "\n",
       "                                                            Actors  \\\n",
       "Title                                                                \n",
       "letsfightghost   linaleandersson,kårehedebrant,perragnar,henrik...   \n",
       "howtobuildagirl      cleo,paddyconsidine,beaniefeldstein,dónalfinn   \n",
       "\n",
       "                ViewerRating  \n",
       "Title                         \n",
       "letsfightghost             r  \n",
       "howtobuildagirl            r  "
      ]
     },
     "execution_count": 24,
     "metadata": {},
     "output_type": "execute_result"
    }
   ],
   "source": [
    "for new_feature in new_features:\n",
    "    selected_data.loc[:, new_feature] = selected_data.loc[:, new_feature].apply(prepare_data)\n",
    "selected_data.index = selected_data.index.str.lower()\n",
    "selected_data.index = selected_data.index.str.replace(\" \",'')\n",
    "selected_data.head(2)"
   ]
  },
  {
   "cell_type": "code",
   "execution_count": 25,
   "metadata": {},
   "outputs": [],
   "source": [
    "def create_soup(x):\n",
    "    return x['Genre'] + ' ' + x['Tags'] + ' ' +x['Actors']+' '+ x['ViewerRating']"
   ]
  },
  {
   "cell_type": "code",
   "execution_count": 26,
   "metadata": {},
   "outputs": [
    {
     "name": "stderr",
     "output_type": "stream",
     "text": [
      "c:\\Users\\HP\\AppData\\Local\\Programs\\Python\\Python310\\lib\\site-packages\\pandas\\core\\indexing.py:1667: SettingWithCopyWarning:\n",
      "\n",
      "\n",
      "A value is trying to be set on a copy of a slice from a DataFrame.\n",
      "Try using .loc[row_indexer,col_indexer] = value instead\n",
      "\n",
      "See the caveats in the documentation: https://pandas.pydata.org/pandas-docs/stable/user_guide/indexing.html#returning-a-view-versus-a-copy\n",
      "\n"
     ]
    },
    {
     "data": {
      "text/html": [
       "<div>\n",
       "<style scoped>\n",
       "    .dataframe tbody tr th:only-of-type {\n",
       "        vertical-align: middle;\n",
       "    }\n",
       "\n",
       "    .dataframe tbody tr th {\n",
       "        vertical-align: top;\n",
       "    }\n",
       "\n",
       "    .dataframe thead th {\n",
       "        text-align: right;\n",
       "    }\n",
       "</style>\n",
       "<table border=\"1\" class=\"dataframe\">\n",
       "  <thead>\n",
       "    <tr style=\"text-align: right;\">\n",
       "      <th></th>\n",
       "      <th>Genre</th>\n",
       "      <th>Tags</th>\n",
       "      <th>Actors</th>\n",
       "      <th>ViewerRating</th>\n",
       "      <th>soup</th>\n",
       "    </tr>\n",
       "    <tr>\n",
       "      <th>Title</th>\n",
       "      <th></th>\n",
       "      <th></th>\n",
       "      <th></th>\n",
       "      <th></th>\n",
       "      <th></th>\n",
       "    </tr>\n",
       "  </thead>\n",
       "  <tbody>\n",
       "    <tr>\n",
       "      <th>letsfightghost</th>\n",
       "      <td>crime,drama,fantasy,horror,romance</td>\n",
       "      <td>comedyprogrammes,romantictvcomedies,horrorprog...</td>\n",
       "      <td>linaleandersson,kårehedebrant,perragnar,henrik...</td>\n",
       "      <td>r</td>\n",
       "      <td>crime,drama,fantasy,horror,romance comedyprogr...</td>\n",
       "    </tr>\n",
       "    <tr>\n",
       "      <th>howtobuildagirl</th>\n",
       "      <td>comedy</td>\n",
       "      <td>dramas,comedies,filmsbasedonbooks,british</td>\n",
       "      <td>cleo,paddyconsidine,beaniefeldstein,dónalfinn</td>\n",
       "      <td>r</td>\n",
       "      <td>comedy dramas,comedies,filmsbasedonbooks,briti...</td>\n",
       "    </tr>\n",
       "  </tbody>\n",
       "</table>\n",
       "</div>"
      ],
      "text/plain": [
       "                                              Genre  \\\n",
       "Title                                                 \n",
       "letsfightghost   crime,drama,fantasy,horror,romance   \n",
       "howtobuildagirl                              comedy   \n",
       "\n",
       "                                                              Tags  \\\n",
       "Title                                                                \n",
       "letsfightghost   comedyprogrammes,romantictvcomedies,horrorprog...   \n",
       "howtobuildagirl          dramas,comedies,filmsbasedonbooks,british   \n",
       "\n",
       "                                                            Actors  \\\n",
       "Title                                                                \n",
       "letsfightghost   linaleandersson,kårehedebrant,perragnar,henrik...   \n",
       "howtobuildagirl      cleo,paddyconsidine,beaniefeldstein,dónalfinn   \n",
       "\n",
       "                ViewerRating  \\\n",
       "Title                          \n",
       "letsfightghost             r   \n",
       "howtobuildagirl            r   \n",
       "\n",
       "                                                              soup  \n",
       "Title                                                               \n",
       "letsfightghost   crime,drama,fantasy,horror,romance comedyprogr...  \n",
       "howtobuildagirl  comedy dramas,comedies,filmsbasedonbooks,briti...  "
      ]
     },
     "execution_count": 26,
     "metadata": {},
     "output_type": "execute_result"
    }
   ],
   "source": [
    "selected_data.loc[:, 'soup'] = selected_data.apply(create_soup, axis = 1)\n",
    "selected_data.head(2)"
   ]
  },
  {
   "cell_type": "code",
   "execution_count": 27,
   "metadata": {},
   "outputs": [],
   "source": [
    "count = CountVectorizer(stop_words='english')\n",
    "count_matrix = count.fit_transform(selected_data['soup'])\n",
    "cosine_sim2 = cosine_similarity(count_matrix, count_matrix)"
   ]
  },
  {
   "cell_type": "code",
   "execution_count": 28,
   "metadata": {},
   "outputs": [
    {
     "data": {
      "text/html": [
       "<div>\n",
       "<style scoped>\n",
       "    .dataframe tbody tr th:only-of-type {\n",
       "        vertical-align: middle;\n",
       "    }\n",
       "\n",
       "    .dataframe tbody tr th {\n",
       "        vertical-align: top;\n",
       "    }\n",
       "\n",
       "    .dataframe thead th {\n",
       "        text-align: right;\n",
       "    }\n",
       "</style>\n",
       "<table border=\"1\" class=\"dataframe\">\n",
       "  <thead>\n",
       "    <tr style=\"text-align: right;\">\n",
       "      <th></th>\n",
       "      <th>Title</th>\n",
       "      <th>Genre</th>\n",
       "      <th>Tags</th>\n",
       "      <th>Actors</th>\n",
       "      <th>ViewerRating</th>\n",
       "      <th>soup</th>\n",
       "    </tr>\n",
       "  </thead>\n",
       "  <tbody>\n",
       "    <tr>\n",
       "      <th>0</th>\n",
       "      <td>letsfightghost</td>\n",
       "      <td>crime,drama,fantasy,horror,romance</td>\n",
       "      <td>comedyprogrammes,romantictvcomedies,horrorprog...</td>\n",
       "      <td>linaleandersson,kårehedebrant,perragnar,henrik...</td>\n",
       "      <td>r</td>\n",
       "      <td>crime,drama,fantasy,horror,romance comedyprogr...</td>\n",
       "    </tr>\n",
       "    <tr>\n",
       "      <th>1</th>\n",
       "      <td>howtobuildagirl</td>\n",
       "      <td>comedy</td>\n",
       "      <td>dramas,comedies,filmsbasedonbooks,british</td>\n",
       "      <td>cleo,paddyconsidine,beaniefeldstein,dónalfinn</td>\n",
       "      <td>r</td>\n",
       "      <td>comedy dramas,comedies,filmsbasedonbooks,briti...</td>\n",
       "    </tr>\n",
       "  </tbody>\n",
       "</table>\n",
       "</div>"
      ],
      "text/plain": [
       "             Title                               Genre  \\\n",
       "0   letsfightghost  crime,drama,fantasy,horror,romance   \n",
       "1  howtobuildagirl                              comedy   \n",
       "\n",
       "                                                Tags  \\\n",
       "0  comedyprogrammes,romantictvcomedies,horrorprog...   \n",
       "1          dramas,comedies,filmsbasedonbooks,british   \n",
       "\n",
       "                                              Actors ViewerRating  \\\n",
       "0  linaleandersson,kårehedebrant,perragnar,henrik...            r   \n",
       "1      cleo,paddyconsidine,beaniefeldstein,dónalfinn            r   \n",
       "\n",
       "                                                soup  \n",
       "0  crime,drama,fantasy,horror,romance comedyprogr...  \n",
       "1  comedy dramas,comedies,filmsbasedonbooks,briti...  "
      ]
     },
     "execution_count": 28,
     "metadata": {},
     "output_type": "execute_result"
    }
   ],
   "source": [
    "selected_data.reset_index(inplace = True)\n",
    "selected_data.head(2)"
   ]
  },
  {
   "cell_type": "code",
   "execution_count": 29,
   "metadata": {},
   "outputs": [
    {
     "data": {
      "text/plain": [
       "Title\n",
       "letsfightghost                              0\n",
       "howtobuildagirl                             1\n",
       "thecon-heartist                             2\n",
       "glebokawoda                                 3\n",
       "onlyamother                                 4\n",
       "                                         ... \n",
       "13goingon30                              9127\n",
       "life2.0                                  9128\n",
       "brandnewday                              9129\n",
       "danielarends:blessuretijd                9130\n",
       "dreamworkshappyholidaysfrommadagascar    9131\n",
       "Length: 9132, dtype: int64"
      ]
     },
     "execution_count": 29,
     "metadata": {},
     "output_type": "execute_result"
    }
   ],
   "source": [
    "indices = pd.Series(selected_data.index, index=selected_data['Title'])\n",
    "indices"
   ]
  },
  {
   "cell_type": "code",
   "execution_count": 30,
   "metadata": {},
   "outputs": [],
   "source": [
    "result = 0\n",
    "def get_recommendations(title, cosine_sim):\n",
    "    global result\n",
    "    title=title.replace(' ','').lower()\n",
    "    idx = indices[title]\n",
    "    # Get the pairwsie similarity scores of all movies with that movie\n",
    "    sim_scores = list(enumerate(cosine_sim[idx]))\n",
    "    # Sort the movies based on the similarity scores\n",
    "    sim_scores = sorted(sim_scores, key=lambda x: x[1], reverse=True)\n",
    "    # Get the scores of the 50 most similar movies\n",
    "    sim_scores = sim_scores[1:51]\n",
    "    # Get the movie indices\n",
    "    movie_indices = [i[0] for i in sim_scores]\n",
    "    # Return the top 10 most similar movies\n",
    "    result =  netflix_data.iloc[movie_indices]\n",
    "    result.reset_index(inplace = True)\n",
    "    return result"
   ]
  },
  {
   "cell_type": "code",
   "execution_count": 31,
   "metadata": {},
   "outputs": [],
   "source": [
    "df = pd.DataFrame()\n",
    "movienames = ['Annabelle Comes Home','The Nun', 'Insidious: The Last Key', 'Conjuring 2', 'Insidious: Chapter 3']\n",
    "languages = ['English', 'Hindi']\n",
    "for moviename in movienames:\n",
    "    get_recommendations(moviename,cosine_sim2)\n",
    "    for language in languages:\n",
    "        df = pd.concat([result[result['Languages'].str.count(language) > 0], df], ignore_index=True)\n",
    "df.drop_duplicates(keep = 'first', inplace = True)\n",
    "df.sort_values(by = 'IMDb Score', ascending = False, inplace = True)"
   ]
  },
  {
   "cell_type": "code",
   "execution_count": 32,
   "metadata": {},
   "outputs": [
    {
     "name": "stdout",
     "output_type": "stream",
     "text": [
      "(118, 22)\n",
      "             Title                             Genre  \\\n",
      "114     The Others         Horror, Mystery, Thriller   \n",
      "50   The Conjuring         Horror, Mystery, Thriller   \n",
      "169     Hereditary  Drama, Horror, Mystery, Thriller   \n",
      "105          Split                  Horror, Thriller   \n",
      "201    Conjuring 2         Horror, Mystery, Thriller   \n",
      "\n",
      "                                                  Tags         Languages  \\\n",
      "114  20th Century Period Pieces,Thrillers,Mysteries...           English   \n",
      "50   Horror Films,Thrillers,Supernatural Horror Fil...    English, Latin   \n",
      "169  Supernatural Horror Movies,Horror Movies,Teen ...  English, Spanish   \n",
      "105  Psychological Thrillers,Horror Movies,Thriller...           English   \n",
      "201  Horror Films,Supernatural Horror Films,Films B...           English   \n",
      "\n",
      "                                  Country Availability   Runtime  \\\n",
      "114  Italy,Sweden,Switzerland,Turkey,Iceland,India,...  1-2 hour   \n",
      "50   France,Belgium,Lithuania,Switzerland,United Ki...  1-2 hour   \n",
      "169      South Korea,United Kingdom,Canada,Japan,India   > 2 hrs   \n",
      "105  Belgium,Netherlands,South Korea,Poland,France,...  1-2 hour   \n",
      "201  South Korea,Switzerland,Brazil,Germany,Italy,A...   > 2 hrs   \n",
      "\n",
      "               Director                                             Writer  \\\n",
      "114  Alejandro Amenábar                                 Alejandro Amenábar   \n",
      "50            James Wan                         Chad Hayes, Carey W. Hayes   \n",
      "169           Ari Aster                                          Ari Aster   \n",
      "105  M. Night Shyamalan                                 M. Night Shyamalan   \n",
      "201           James Wan  Chad Hayes, David Leslie Johnson-McGoldrick, J...   \n",
      "\n",
      "                                                Actors ViewerRating  ...  \\\n",
      "114  Alakina Mann, Christopher Eccleston, Fionnula ...        PG-13  ...   \n",
      "50   Vera Farmiga, Lili Taylor, Ron Livingston, Pat...            R  ...   \n",
      "169  Alex Wolff, Milly Shapiro, Toni Collette, Gabr...            R  ...   \n",
      "105  Haley Lu Richardson, James McAvoy, Anya Taylor...        PG-13  ...   \n",
      "201  Frances O'Connor, Vera Farmiga, Madison Wolfe,...            R  ...   \n",
      "\n",
      "     Awards Nominated For      Boxoffice  Release Date Netflix Release Date  \\\n",
      "114                  55.0   $9,65,22,687     10-Aug-01           14-04-2015   \n",
      "50                   22.0  $13,74,00,141     19-Jul-13           14-04-2015   \n",
      "169                 105.0   $4,40,69,456     08-Jun-18           15-02-2019   \n",
      "105                  23.0  $13,82,91,365     20-Jan-17           17-09-2018   \n",
      "201                  13.0  $10,24,70,008     10-Jun-16           28-03-2017   \n",
      "\n",
      "                                      Production House  \\\n",
      "114  Lucky Red, Miramax Films, Sogecine, Cruise-Wag...   \n",
      "50               Safran Company, Evergreen Media Group   \n",
      "169                                     PalmStar Media   \n",
      "105  Lightning Entertainment, Blinding Edge Picture...   \n",
      "201                     Safran Company, Atomic Monster   \n",
      "\n",
      "                               Netflix Link  \\\n",
      "114  https://www.netflix.com/watch/60021097   \n",
      "50   https://www.netflix.com/watch/70251894   \n",
      "169  https://www.netflix.com/watch/80238910   \n",
      "105  https://www.netflix.com/watch/80124506   \n",
      "201  https://www.netflix.com/watch/80091246   \n",
      "\n",
      "                                               Summary Series or Movie  \\\n",
      "114  While awaiting the return of her soldier husba...           Movie   \n",
      "50   Based on true events, this spine-chiller tells...           Movie   \n",
      "169  After the death of her mother, artist Annie an...           Movie   \n",
      "105  A man with multiple identities abducts three t...           Movie   \n",
      "201  A single mother and her four kids in London ar...           Movie   \n",
      "\n",
      "    IMDb Votes                                              Image  \n",
      "114   338889.0  https://occ-0-3377-185.1.nflxso.net/dnm/api/v6...  \n",
      "50    443192.0  https://occ-0-2851-38.1.nflxso.net/dnm/api/v6/...  \n",
      "169   241835.0  https://occ-0-1926-41.1.nflxso.net/dnm/api/v6/...  \n",
      "105   428760.0  https://occ-0-768-769.1.nflxso.net/dnm/api/v6/...  \n",
      "201   226713.0  https://occ-0-2773-2774.1.nflxso.net/dnm/api/v...  \n",
      "\n",
      "[5 rows x 22 columns]\n"
     ]
    }
   ],
   "source": [
    "print(df.shape)\n",
    "print(df.head())"
   ]
  }
 ],
 "metadata": {
  "kernelspec": {
   "display_name": ".venv",
   "language": "python",
   "name": "python3"
  },
  "language_info": {
   "codemirror_mode": {
    "name": "ipython",
    "version": 3
   },
   "file_extension": ".py",
   "mimetype": "text/x-python",
   "name": "python",
   "nbconvert_exporter": "python",
   "pygments_lexer": "ipython3",
   "version": "3.13.5"
  },
  "orig_nbformat": 4
 },
 "nbformat": 4,
 "nbformat_minor": 2
}
