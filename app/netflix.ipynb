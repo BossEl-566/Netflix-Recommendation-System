{
 "cells": [
  {
   "cell_type": "code",
   "execution_count": 70,
   "metadata": {},
   "outputs": [],
   "source": [
    "#importing libraries\n",
    "import math\n",
    "import pandas as pd\n",
    "import matplotlib.pyplot as plt\n",
    "import seaborn as sns\n",
    "import plotly_express as px\n",
    "from sklearn.feature_extraction.text import CountVectorizer\n",
    "from sklearn.metrics.pairwise import cosine_similarity"
   ]
  },
  {
   "cell_type": "code",
   "execution_count": 71,
   "metadata": {},
   "outputs": [
    {
     "data": {
      "text/html": [
       "<div>\n",
       "<style scoped>\n",
       "    .dataframe tbody tr th:only-of-type {\n",
       "        vertical-align: middle;\n",
       "    }\n",
       "\n",
       "    .dataframe tbody tr th {\n",
       "        vertical-align: top;\n",
       "    }\n",
       "\n",
       "    .dataframe thead th {\n",
       "        text-align: right;\n",
       "    }\n",
       "</style>\n",
       "<table border=\"1\" class=\"dataframe\">\n",
       "  <thead>\n",
       "    <tr style=\"text-align: right;\">\n",
       "      <th></th>\n",
       "      <th>Genre</th>\n",
       "      <th>Tags</th>\n",
       "      <th>Languages</th>\n",
       "      <th>Country Availability</th>\n",
       "      <th>Runtime</th>\n",
       "      <th>Director</th>\n",
       "      <th>Writer</th>\n",
       "      <th>Actors</th>\n",
       "      <th>View Rating</th>\n",
       "      <th>IMDb Score</th>\n",
       "      <th>...</th>\n",
       "      <th>Awards Nominated For</th>\n",
       "      <th>Boxoffice</th>\n",
       "      <th>Release Date</th>\n",
       "      <th>Netflix Release Date</th>\n",
       "      <th>Production House</th>\n",
       "      <th>Netflix Link</th>\n",
       "      <th>Summary</th>\n",
       "      <th>Series or Movie</th>\n",
       "      <th>IMDb Votes</th>\n",
       "      <th>Image</th>\n",
       "    </tr>\n",
       "    <tr>\n",
       "      <th>Title</th>\n",
       "      <th></th>\n",
       "      <th></th>\n",
       "      <th></th>\n",
       "      <th></th>\n",
       "      <th></th>\n",
       "      <th></th>\n",
       "      <th></th>\n",
       "      <th></th>\n",
       "      <th></th>\n",
       "      <th></th>\n",
       "      <th></th>\n",
       "      <th></th>\n",
       "      <th></th>\n",
       "      <th></th>\n",
       "      <th></th>\n",
       "      <th></th>\n",
       "      <th></th>\n",
       "      <th></th>\n",
       "      <th></th>\n",
       "      <th></th>\n",
       "      <th></th>\n",
       "    </tr>\n",
       "  </thead>\n",
       "  <tbody>\n",
       "    <tr>\n",
       "      <th>Lets Fight Ghost</th>\n",
       "      <td>Crime, Drama, Fantasy, Horror, Romance</td>\n",
       "      <td>Comedy Programmes,Romantic TV Comedies,Horror ...</td>\n",
       "      <td>Swedish, Spanish</td>\n",
       "      <td>Thailand</td>\n",
       "      <td>&lt; 30 minutes</td>\n",
       "      <td>Tomas Alfredson</td>\n",
       "      <td>John Ajvide Lindqvist</td>\n",
       "      <td>Lina Leandersson, Kåre Hedebrant, Per Ragnar, ...</td>\n",
       "      <td>R</td>\n",
       "      <td>7.9</td>\n",
       "      <td>...</td>\n",
       "      <td>57.0</td>\n",
       "      <td>$21,22,065</td>\n",
       "      <td>12-Dec-08</td>\n",
       "      <td>04-03-2021</td>\n",
       "      <td>Canal+, Sandrew Metronome</td>\n",
       "      <td>https://www.netflix.com/watch/81415947</td>\n",
       "      <td>A med student with a supernatural gift tries t...</td>\n",
       "      <td>Series</td>\n",
       "      <td>205926.0</td>\n",
       "      <td>https://occ-0-4708-64.1.nflxso.net/dnm/api/v6/...</td>\n",
       "    </tr>\n",
       "    <tr>\n",
       "      <th>HOW TO BUILD A GIRL</th>\n",
       "      <td>Comedy</td>\n",
       "      <td>Dramas,Comedies,Films Based on Books,British</td>\n",
       "      <td>English</td>\n",
       "      <td>Canada</td>\n",
       "      <td>1-2 hour</td>\n",
       "      <td>Coky Giedroyc</td>\n",
       "      <td>Caitlin Moran</td>\n",
       "      <td>Cleo, Paddy Considine, Beanie Feldstein, Dónal...</td>\n",
       "      <td>R</td>\n",
       "      <td>5.8</td>\n",
       "      <td>...</td>\n",
       "      <td>NaN</td>\n",
       "      <td>$70,632</td>\n",
       "      <td>08-May-20</td>\n",
       "      <td>04-03-2021</td>\n",
       "      <td>Film 4, Monumental Pictures, Lionsgate</td>\n",
       "      <td>https://www.netflix.com/watch/81041267</td>\n",
       "      <td>When nerdy Johanna moves to London, things get...</td>\n",
       "      <td>Movie</td>\n",
       "      <td>2838.0</td>\n",
       "      <td>https://occ-0-1081-999.1.nflxso.net/dnm/api/v6...</td>\n",
       "    </tr>\n",
       "    <tr>\n",
       "      <th>The Con-Heartist</th>\n",
       "      <td>Comedy, Romance</td>\n",
       "      <td>Romantic Comedies,Comedies,Romantic Films,Thai...</td>\n",
       "      <td>Thai</td>\n",
       "      <td>Thailand</td>\n",
       "      <td>&gt; 2 hrs</td>\n",
       "      <td>Mez Tharatorn</td>\n",
       "      <td>Pattaranad Bhiboonsawade, Mez Tharatorn, Thods...</td>\n",
       "      <td>Kathaleeya McIntosh, Nadech Kugimiya, Pimchano...</td>\n",
       "      <td>NaN</td>\n",
       "      <td>7.4</td>\n",
       "      <td>...</td>\n",
       "      <td>NaN</td>\n",
       "      <td>NaN</td>\n",
       "      <td>03-Dec-20</td>\n",
       "      <td>03-03-2021</td>\n",
       "      <td>NaN</td>\n",
       "      <td>https://www.netflix.com/watch/81306155</td>\n",
       "      <td>After her ex-boyfriend cons her out of a large...</td>\n",
       "      <td>Movie</td>\n",
       "      <td>131.0</td>\n",
       "      <td>https://occ-0-2188-64.1.nflxso.net/dnm/api/v6/...</td>\n",
       "    </tr>\n",
       "    <tr>\n",
       "      <th>Gleboka woda</th>\n",
       "      <td>Drama</td>\n",
       "      <td>TV Dramas,Polish TV Shows,Social Issue TV Dramas</td>\n",
       "      <td>Polish</td>\n",
       "      <td>Poland</td>\n",
       "      <td>&lt; 30 minutes</td>\n",
       "      <td>NaN</td>\n",
       "      <td>NaN</td>\n",
       "      <td>Katarzyna Maciag, Piotr Nowak, Marcin Dorocins...</td>\n",
       "      <td>NaN</td>\n",
       "      <td>7.5</td>\n",
       "      <td>...</td>\n",
       "      <td>4.0</td>\n",
       "      <td>NaN</td>\n",
       "      <td>14-Jun-11</td>\n",
       "      <td>03-03-2021</td>\n",
       "      <td>NaN</td>\n",
       "      <td>https://www.netflix.com/watch/81307527</td>\n",
       "      <td>A group of social welfare workers led by their...</td>\n",
       "      <td>Series</td>\n",
       "      <td>47.0</td>\n",
       "      <td>https://occ-0-2508-2706.1.nflxso.net/dnm/api/v...</td>\n",
       "    </tr>\n",
       "    <tr>\n",
       "      <th>Only a Mother</th>\n",
       "      <td>Drama</td>\n",
       "      <td>Social Issue Dramas,Dramas,Movies Based on Boo...</td>\n",
       "      <td>Swedish</td>\n",
       "      <td>Lithuania,Poland,France,Italy,Spain,Greece,Bel...</td>\n",
       "      <td>1-2 hour</td>\n",
       "      <td>Alf Sjöberg</td>\n",
       "      <td>Ivar Lo-Johansson</td>\n",
       "      <td>Hugo Björne, Eva Dahlbeck, Ulf Palme, Ragnar F...</td>\n",
       "      <td>NaN</td>\n",
       "      <td>6.7</td>\n",
       "      <td>...</td>\n",
       "      <td>1.0</td>\n",
       "      <td>NaN</td>\n",
       "      <td>31-Oct-49</td>\n",
       "      <td>03-03-2021</td>\n",
       "      <td>NaN</td>\n",
       "      <td>https://www.netflix.com/watch/81382068</td>\n",
       "      <td>An unhappily married farm worker struggling to...</td>\n",
       "      <td>Movie</td>\n",
       "      <td>88.0</td>\n",
       "      <td>https://occ-0-2851-41.1.nflxso.net/dnm/api/v6/...</td>\n",
       "    </tr>\n",
       "  </tbody>\n",
       "</table>\n",
       "<p>5 rows × 21 columns</p>\n",
       "</div>"
      ],
      "text/plain": [
       "                                                      Genre  \\\n",
       "Title                                                         \n",
       "Lets Fight Ghost     Crime, Drama, Fantasy, Horror, Romance   \n",
       "HOW TO BUILD A GIRL                                  Comedy   \n",
       "The Con-Heartist                            Comedy, Romance   \n",
       "Gleboka woda                                          Drama   \n",
       "Only a Mother                                         Drama   \n",
       "\n",
       "                                                                  Tags  \\\n",
       "Title                                                                    \n",
       "Lets Fight Ghost     Comedy Programmes,Romantic TV Comedies,Horror ...   \n",
       "HOW TO BUILD A GIRL       Dramas,Comedies,Films Based on Books,British   \n",
       "The Con-Heartist     Romantic Comedies,Comedies,Romantic Films,Thai...   \n",
       "Gleboka woda          TV Dramas,Polish TV Shows,Social Issue TV Dramas   \n",
       "Only a Mother        Social Issue Dramas,Dramas,Movies Based on Boo...   \n",
       "\n",
       "                            Languages  \\\n",
       "Title                                   \n",
       "Lets Fight Ghost     Swedish, Spanish   \n",
       "HOW TO BUILD A GIRL           English   \n",
       "The Con-Heartist                 Thai   \n",
       "Gleboka woda                   Polish   \n",
       "Only a Mother                 Swedish   \n",
       "\n",
       "                                                  Country Availability  \\\n",
       "Title                                                                    \n",
       "Lets Fight Ghost                                              Thailand   \n",
       "HOW TO BUILD A GIRL                                             Canada   \n",
       "The Con-Heartist                                              Thailand   \n",
       "Gleboka woda                                                    Poland   \n",
       "Only a Mother        Lithuania,Poland,France,Italy,Spain,Greece,Bel...   \n",
       "\n",
       "                          Runtime         Director  \\\n",
       "Title                                                \n",
       "Lets Fight Ghost     < 30 minutes  Tomas Alfredson   \n",
       "HOW TO BUILD A GIRL      1-2 hour    Coky Giedroyc   \n",
       "The Con-Heartist          > 2 hrs    Mez Tharatorn   \n",
       "Gleboka woda         < 30 minutes              NaN   \n",
       "Only a Mother            1-2 hour      Alf Sjöberg   \n",
       "\n",
       "                                                                Writer  \\\n",
       "Title                                                                    \n",
       "Lets Fight Ghost                                 John Ajvide Lindqvist   \n",
       "HOW TO BUILD A GIRL                                      Caitlin Moran   \n",
       "The Con-Heartist     Pattaranad Bhiboonsawade, Mez Tharatorn, Thods...   \n",
       "Gleboka woda                                                       NaN   \n",
       "Only a Mother                                        Ivar Lo-Johansson   \n",
       "\n",
       "                                                                Actors  \\\n",
       "Title                                                                    \n",
       "Lets Fight Ghost     Lina Leandersson, Kåre Hedebrant, Per Ragnar, ...   \n",
       "HOW TO BUILD A GIRL  Cleo, Paddy Considine, Beanie Feldstein, Dónal...   \n",
       "The Con-Heartist     Kathaleeya McIntosh, Nadech Kugimiya, Pimchano...   \n",
       "Gleboka woda         Katarzyna Maciag, Piotr Nowak, Marcin Dorocins...   \n",
       "Only a Mother        Hugo Björne, Eva Dahlbeck, Ulf Palme, Ragnar F...   \n",
       "\n",
       "                    View Rating  IMDb Score  ...  Awards Nominated For  \\\n",
       "Title                                        ...                         \n",
       "Lets Fight Ghost              R         7.9  ...                  57.0   \n",
       "HOW TO BUILD A GIRL           R         5.8  ...                   NaN   \n",
       "The Con-Heartist            NaN         7.4  ...                   NaN   \n",
       "Gleboka woda                NaN         7.5  ...                   4.0   \n",
       "Only a Mother               NaN         6.7  ...                   1.0   \n",
       "\n",
       "                      Boxoffice Release Date Netflix Release Date  \\\n",
       "Title                                                               \n",
       "Lets Fight Ghost     $21,22,065    12-Dec-08           04-03-2021   \n",
       "HOW TO BUILD A GIRL     $70,632    08-May-20           04-03-2021   \n",
       "The Con-Heartist            NaN    03-Dec-20           03-03-2021   \n",
       "Gleboka woda                NaN    14-Jun-11           03-03-2021   \n",
       "Only a Mother               NaN    31-Oct-49           03-03-2021   \n",
       "\n",
       "                                           Production House  \\\n",
       "Title                                                         \n",
       "Lets Fight Ghost                  Canal+, Sandrew Metronome   \n",
       "HOW TO BUILD A GIRL  Film 4, Monumental Pictures, Lionsgate   \n",
       "The Con-Heartist                                        NaN   \n",
       "Gleboka woda                                            NaN   \n",
       "Only a Mother                                           NaN   \n",
       "\n",
       "                                               Netflix Link  \\\n",
       "Title                                                         \n",
       "Lets Fight Ghost     https://www.netflix.com/watch/81415947   \n",
       "HOW TO BUILD A GIRL  https://www.netflix.com/watch/81041267   \n",
       "The Con-Heartist     https://www.netflix.com/watch/81306155   \n",
       "Gleboka woda         https://www.netflix.com/watch/81307527   \n",
       "Only a Mother        https://www.netflix.com/watch/81382068   \n",
       "\n",
       "                                                               Summary  \\\n",
       "Title                                                                    \n",
       "Lets Fight Ghost     A med student with a supernatural gift tries t...   \n",
       "HOW TO BUILD A GIRL  When nerdy Johanna moves to London, things get...   \n",
       "The Con-Heartist     After her ex-boyfriend cons her out of a large...   \n",
       "Gleboka woda         A group of social welfare workers led by their...   \n",
       "Only a Mother        An unhappily married farm worker struggling to...   \n",
       "\n",
       "                    Series or Movie IMDb Votes  \\\n",
       "Title                                            \n",
       "Lets Fight Ghost             Series   205926.0   \n",
       "HOW TO BUILD A GIRL           Movie     2838.0   \n",
       "The Con-Heartist              Movie      131.0   \n",
       "Gleboka woda                 Series       47.0   \n",
       "Only a Mother                 Movie       88.0   \n",
       "\n",
       "                                                                 Image  \n",
       "Title                                                                   \n",
       "Lets Fight Ghost     https://occ-0-4708-64.1.nflxso.net/dnm/api/v6/...  \n",
       "HOW TO BUILD A GIRL  https://occ-0-1081-999.1.nflxso.net/dnm/api/v6...  \n",
       "The Con-Heartist     https://occ-0-2188-64.1.nflxso.net/dnm/api/v6/...  \n",
       "Gleboka woda         https://occ-0-2508-2706.1.nflxso.net/dnm/api/v...  \n",
       "Only a Mother        https://occ-0-2851-41.1.nflxso.net/dnm/api/v6/...  \n",
       "\n",
       "[5 rows x 21 columns]"
      ]
     },
     "execution_count": 71,
     "metadata": {},
     "output_type": "execute_result"
    }
   ],
   "source": [
    "data = pd.read_csv('NetflixDataset.csv',encoding='latin-1', index_col = 'Title')\n",
    "data.head()"
   ]
  },
  {
   "cell_type": "code",
   "execution_count": 72,
   "metadata": {},
   "outputs": [
    {
     "data": {
      "text/html": [
       "<div>\n",
       "<style scoped>\n",
       "    .dataframe tbody tr th:only-of-type {\n",
       "        vertical-align: middle;\n",
       "    }\n",
       "\n",
       "    .dataframe tbody tr th {\n",
       "        vertical-align: top;\n",
       "    }\n",
       "\n",
       "    .dataframe thead th {\n",
       "        text-align: right;\n",
       "    }\n",
       "</style>\n",
       "<table border=\"1\" class=\"dataframe\">\n",
       "  <thead>\n",
       "    <tr style=\"text-align: right;\">\n",
       "      <th></th>\n",
       "      <th>Genre</th>\n",
       "      <th>Tags</th>\n",
       "      <th>Languages</th>\n",
       "      <th>Country Availability</th>\n",
       "      <th>Runtime</th>\n",
       "      <th>Director</th>\n",
       "      <th>Writer</th>\n",
       "      <th>Actors</th>\n",
       "      <th>View Rating</th>\n",
       "      <th>IMDb Score</th>\n",
       "      <th>...</th>\n",
       "      <th>Awards Nominated For</th>\n",
       "      <th>Boxoffice</th>\n",
       "      <th>Release Date</th>\n",
       "      <th>Netflix Release Date</th>\n",
       "      <th>Production House</th>\n",
       "      <th>Netflix Link</th>\n",
       "      <th>Summary</th>\n",
       "      <th>Series or Movie</th>\n",
       "      <th>IMDb Votes</th>\n",
       "      <th>Image</th>\n",
       "    </tr>\n",
       "    <tr>\n",
       "      <th>Title</th>\n",
       "      <th></th>\n",
       "      <th></th>\n",
       "      <th></th>\n",
       "      <th></th>\n",
       "      <th></th>\n",
       "      <th></th>\n",
       "      <th></th>\n",
       "      <th></th>\n",
       "      <th></th>\n",
       "      <th></th>\n",
       "      <th></th>\n",
       "      <th></th>\n",
       "      <th></th>\n",
       "      <th></th>\n",
       "      <th></th>\n",
       "      <th></th>\n",
       "      <th></th>\n",
       "      <th></th>\n",
       "      <th></th>\n",
       "      <th></th>\n",
       "      <th></th>\n",
       "    </tr>\n",
       "  </thead>\n",
       "  <tbody>\n",
       "    <tr>\n",
       "      <th>Lets Fight Ghost</th>\n",
       "      <td>Crime, Drama, Fantasy, Horror, Romance</td>\n",
       "      <td>Comedy Programmes,Romantic TV Comedies,Horror ...</td>\n",
       "      <td>Swedish, Spanish</td>\n",
       "      <td>Thailand</td>\n",
       "      <td>&lt; 30 minutes</td>\n",
       "      <td>Tomas Alfredson</td>\n",
       "      <td>John Ajvide Lindqvist</td>\n",
       "      <td>Lina Leandersson, Kåre Hedebrant, Per Ragnar, ...</td>\n",
       "      <td>R</td>\n",
       "      <td>7.9</td>\n",
       "      <td>...</td>\n",
       "      <td>57.0</td>\n",
       "      <td>$21,22,065</td>\n",
       "      <td>12-Dec-08</td>\n",
       "      <td>04-03-2021</td>\n",
       "      <td>Canal+, Sandrew Metronome</td>\n",
       "      <td>https://www.netflix.com/watch/81415947</td>\n",
       "      <td>A med student with a supernatural gift tries t...</td>\n",
       "      <td>Series</td>\n",
       "      <td>205926.0</td>\n",
       "      <td>https://occ-0-4708-64.1.nflxso.net/dnm/api/v6/...</td>\n",
       "    </tr>\n",
       "    <tr>\n",
       "      <th>How To Build A Girl</th>\n",
       "      <td>Comedy</td>\n",
       "      <td>Dramas,Comedies,Films Based on Books,British</td>\n",
       "      <td>English</td>\n",
       "      <td>Canada</td>\n",
       "      <td>1-2 hour</td>\n",
       "      <td>Coky Giedroyc</td>\n",
       "      <td>Caitlin Moran</td>\n",
       "      <td>Cleo, Paddy Considine, Beanie Feldstein, Dónal...</td>\n",
       "      <td>R</td>\n",
       "      <td>5.8</td>\n",
       "      <td>...</td>\n",
       "      <td>NaN</td>\n",
       "      <td>$70,632</td>\n",
       "      <td>08-May-20</td>\n",
       "      <td>04-03-2021</td>\n",
       "      <td>Film 4, Monumental Pictures, Lionsgate</td>\n",
       "      <td>https://www.netflix.com/watch/81041267</td>\n",
       "      <td>When nerdy Johanna moves to London, things get...</td>\n",
       "      <td>Movie</td>\n",
       "      <td>2838.0</td>\n",
       "      <td>https://occ-0-1081-999.1.nflxso.net/dnm/api/v6...</td>\n",
       "    </tr>\n",
       "    <tr>\n",
       "      <th>The Con-Heartist</th>\n",
       "      <td>Comedy, Romance</td>\n",
       "      <td>Romantic Comedies,Comedies,Romantic Films,Thai...</td>\n",
       "      <td>Thai</td>\n",
       "      <td>Thailand</td>\n",
       "      <td>&gt; 2 hrs</td>\n",
       "      <td>Mez Tharatorn</td>\n",
       "      <td>Pattaranad Bhiboonsawade, Mez Tharatorn, Thods...</td>\n",
       "      <td>Kathaleeya McIntosh, Nadech Kugimiya, Pimchano...</td>\n",
       "      <td>NaN</td>\n",
       "      <td>7.4</td>\n",
       "      <td>...</td>\n",
       "      <td>NaN</td>\n",
       "      <td>NaN</td>\n",
       "      <td>03-Dec-20</td>\n",
       "      <td>03-03-2021</td>\n",
       "      <td>NaN</td>\n",
       "      <td>https://www.netflix.com/watch/81306155</td>\n",
       "      <td>After her ex-boyfriend cons her out of a large...</td>\n",
       "      <td>Movie</td>\n",
       "      <td>131.0</td>\n",
       "      <td>https://occ-0-2188-64.1.nflxso.net/dnm/api/v6/...</td>\n",
       "    </tr>\n",
       "    <tr>\n",
       "      <th>Gleboka Woda</th>\n",
       "      <td>Drama</td>\n",
       "      <td>TV Dramas,Polish TV Shows,Social Issue TV Dramas</td>\n",
       "      <td>Polish</td>\n",
       "      <td>Poland</td>\n",
       "      <td>&lt; 30 minutes</td>\n",
       "      <td>NaN</td>\n",
       "      <td>NaN</td>\n",
       "      <td>Katarzyna Maciag, Piotr Nowak, Marcin Dorocins...</td>\n",
       "      <td>NaN</td>\n",
       "      <td>7.5</td>\n",
       "      <td>...</td>\n",
       "      <td>4.0</td>\n",
       "      <td>NaN</td>\n",
       "      <td>14-Jun-11</td>\n",
       "      <td>03-03-2021</td>\n",
       "      <td>NaN</td>\n",
       "      <td>https://www.netflix.com/watch/81307527</td>\n",
       "      <td>A group of social welfare workers led by their...</td>\n",
       "      <td>Series</td>\n",
       "      <td>47.0</td>\n",
       "      <td>https://occ-0-2508-2706.1.nflxso.net/dnm/api/v...</td>\n",
       "    </tr>\n",
       "    <tr>\n",
       "      <th>Only A Mother</th>\n",
       "      <td>Drama</td>\n",
       "      <td>Social Issue Dramas,Dramas,Movies Based on Boo...</td>\n",
       "      <td>Swedish</td>\n",
       "      <td>Lithuania,Poland,France,Italy,Spain,Greece,Bel...</td>\n",
       "      <td>1-2 hour</td>\n",
       "      <td>Alf Sjöberg</td>\n",
       "      <td>Ivar Lo-Johansson</td>\n",
       "      <td>Hugo Björne, Eva Dahlbeck, Ulf Palme, Ragnar F...</td>\n",
       "      <td>NaN</td>\n",
       "      <td>6.7</td>\n",
       "      <td>...</td>\n",
       "      <td>1.0</td>\n",
       "      <td>NaN</td>\n",
       "      <td>31-Oct-49</td>\n",
       "      <td>03-03-2021</td>\n",
       "      <td>NaN</td>\n",
       "      <td>https://www.netflix.com/watch/81382068</td>\n",
       "      <td>An unhappily married farm worker struggling to...</td>\n",
       "      <td>Movie</td>\n",
       "      <td>88.0</td>\n",
       "      <td>https://occ-0-2851-41.1.nflxso.net/dnm/api/v6/...</td>\n",
       "    </tr>\n",
       "  </tbody>\n",
       "</table>\n",
       "<p>5 rows × 21 columns</p>\n",
       "</div>"
      ],
      "text/plain": [
       "                                                      Genre  \\\n",
       "Title                                                         \n",
       "Lets Fight Ghost     Crime, Drama, Fantasy, Horror, Romance   \n",
       "How To Build A Girl                                  Comedy   \n",
       "The Con-Heartist                            Comedy, Romance   \n",
       "Gleboka Woda                                          Drama   \n",
       "Only A Mother                                         Drama   \n",
       "\n",
       "                                                                  Tags  \\\n",
       "Title                                                                    \n",
       "Lets Fight Ghost     Comedy Programmes,Romantic TV Comedies,Horror ...   \n",
       "How To Build A Girl       Dramas,Comedies,Films Based on Books,British   \n",
       "The Con-Heartist     Romantic Comedies,Comedies,Romantic Films,Thai...   \n",
       "Gleboka Woda          TV Dramas,Polish TV Shows,Social Issue TV Dramas   \n",
       "Only A Mother        Social Issue Dramas,Dramas,Movies Based on Boo...   \n",
       "\n",
       "                            Languages  \\\n",
       "Title                                   \n",
       "Lets Fight Ghost     Swedish, Spanish   \n",
       "How To Build A Girl           English   \n",
       "The Con-Heartist                 Thai   \n",
       "Gleboka Woda                   Polish   \n",
       "Only A Mother                 Swedish   \n",
       "\n",
       "                                                  Country Availability  \\\n",
       "Title                                                                    \n",
       "Lets Fight Ghost                                              Thailand   \n",
       "How To Build A Girl                                             Canada   \n",
       "The Con-Heartist                                              Thailand   \n",
       "Gleboka Woda                                                    Poland   \n",
       "Only A Mother        Lithuania,Poland,France,Italy,Spain,Greece,Bel...   \n",
       "\n",
       "                          Runtime         Director  \\\n",
       "Title                                                \n",
       "Lets Fight Ghost     < 30 minutes  Tomas Alfredson   \n",
       "How To Build A Girl      1-2 hour    Coky Giedroyc   \n",
       "The Con-Heartist          > 2 hrs    Mez Tharatorn   \n",
       "Gleboka Woda         < 30 minutes              NaN   \n",
       "Only A Mother            1-2 hour      Alf Sjöberg   \n",
       "\n",
       "                                                                Writer  \\\n",
       "Title                                                                    \n",
       "Lets Fight Ghost                                 John Ajvide Lindqvist   \n",
       "How To Build A Girl                                      Caitlin Moran   \n",
       "The Con-Heartist     Pattaranad Bhiboonsawade, Mez Tharatorn, Thods...   \n",
       "Gleboka Woda                                                       NaN   \n",
       "Only A Mother                                        Ivar Lo-Johansson   \n",
       "\n",
       "                                                                Actors  \\\n",
       "Title                                                                    \n",
       "Lets Fight Ghost     Lina Leandersson, Kåre Hedebrant, Per Ragnar, ...   \n",
       "How To Build A Girl  Cleo, Paddy Considine, Beanie Feldstein, Dónal...   \n",
       "The Con-Heartist     Kathaleeya McIntosh, Nadech Kugimiya, Pimchano...   \n",
       "Gleboka Woda         Katarzyna Maciag, Piotr Nowak, Marcin Dorocins...   \n",
       "Only A Mother        Hugo Björne, Eva Dahlbeck, Ulf Palme, Ragnar F...   \n",
       "\n",
       "                    View Rating  IMDb Score  ...  Awards Nominated For  \\\n",
       "Title                                        ...                         \n",
       "Lets Fight Ghost              R         7.9  ...                  57.0   \n",
       "How To Build A Girl           R         5.8  ...                   NaN   \n",
       "The Con-Heartist            NaN         7.4  ...                   NaN   \n",
       "Gleboka Woda                NaN         7.5  ...                   4.0   \n",
       "Only A Mother               NaN         6.7  ...                   1.0   \n",
       "\n",
       "                      Boxoffice Release Date Netflix Release Date  \\\n",
       "Title                                                               \n",
       "Lets Fight Ghost     $21,22,065    12-Dec-08           04-03-2021   \n",
       "How To Build A Girl     $70,632    08-May-20           04-03-2021   \n",
       "The Con-Heartist            NaN    03-Dec-20           03-03-2021   \n",
       "Gleboka Woda                NaN    14-Jun-11           03-03-2021   \n",
       "Only A Mother               NaN    31-Oct-49           03-03-2021   \n",
       "\n",
       "                                           Production House  \\\n",
       "Title                                                         \n",
       "Lets Fight Ghost                  Canal+, Sandrew Metronome   \n",
       "How To Build A Girl  Film 4, Monumental Pictures, Lionsgate   \n",
       "The Con-Heartist                                        NaN   \n",
       "Gleboka Woda                                            NaN   \n",
       "Only A Mother                                           NaN   \n",
       "\n",
       "                                               Netflix Link  \\\n",
       "Title                                                         \n",
       "Lets Fight Ghost     https://www.netflix.com/watch/81415947   \n",
       "How To Build A Girl  https://www.netflix.com/watch/81041267   \n",
       "The Con-Heartist     https://www.netflix.com/watch/81306155   \n",
       "Gleboka Woda         https://www.netflix.com/watch/81307527   \n",
       "Only A Mother        https://www.netflix.com/watch/81382068   \n",
       "\n",
       "                                                               Summary  \\\n",
       "Title                                                                    \n",
       "Lets Fight Ghost     A med student with a supernatural gift tries t...   \n",
       "How To Build A Girl  When nerdy Johanna moves to London, things get...   \n",
       "The Con-Heartist     After her ex-boyfriend cons her out of a large...   \n",
       "Gleboka Woda         A group of social welfare workers led by their...   \n",
       "Only A Mother        An unhappily married farm worker struggling to...   \n",
       "\n",
       "                    Series or Movie IMDb Votes  \\\n",
       "Title                                            \n",
       "Lets Fight Ghost             Series   205926.0   \n",
       "How To Build A Girl           Movie     2838.0   \n",
       "The Con-Heartist              Movie      131.0   \n",
       "Gleboka Woda                 Series       47.0   \n",
       "Only A Mother                 Movie       88.0   \n",
       "\n",
       "                                                                 Image  \n",
       "Title                                                                   \n",
       "Lets Fight Ghost     https://occ-0-4708-64.1.nflxso.net/dnm/api/v6/...  \n",
       "How To Build A Girl  https://occ-0-1081-999.1.nflxso.net/dnm/api/v6...  \n",
       "The Con-Heartist     https://occ-0-2188-64.1.nflxso.net/dnm/api/v6/...  \n",
       "Gleboka Woda         https://occ-0-2508-2706.1.nflxso.net/dnm/api/v...  \n",
       "Only A Mother        https://occ-0-2851-41.1.nflxso.net/dnm/api/v6/...  \n",
       "\n",
       "[5 rows x 21 columns]"
      ]
     },
     "execution_count": 72,
     "metadata": {},
     "output_type": "execute_result"
    }
   ],
   "source": [
    "data.index = data.index.str.title()\n",
    "data.head()"
   ]
  },
  {
   "cell_type": "code",
   "execution_count": 73,
   "metadata": {},
   "outputs": [
    {
     "data": {
      "image/png": "[encoded data removed]",
      "text/plain": [
       "<Figure size 432x288 with 1 Axes>"
      ]
     },
     "metadata": {},
     "output_type": "display_data"
    }
   ],
   "source": [
    "color = ['blue', 'yellow']\n",
    "label = ['Series', 'Movies']\n",
    "sizes = [data[data['Series or Movie'] == 'Series'].size, data[data['Series or Movie'] == 'Movie'].size]\n",
    "explode = (0.1, 0)\n",
    "fig, ax = plt.subplots()\n",
    "ax.pie(sizes, explode, label, color, '%2.2f%%', shadow = True, startangle = 120)\n",
    "ax.axis('equal')\n",
    "plt.show()"
   ]
  },
  {
   "cell_type": "code",
   "execution_count": 74,
   "metadata": {},
   "outputs": [
    {
     "data": {
      "text/html": [
       "<div>\n",
       "<style scoped>\n",
       "    .dataframe tbody tr th:only-of-type {\n",
       "        vertical-align: middle;\n",
       "    }\n",
       "\n",
       "    .dataframe tbody tr th {\n",
       "        vertical-align: top;\n",
       "    }\n",
       "\n",
       "    .dataframe thead th {\n",
       "        text-align: right;\n",
       "    }\n",
       "</style>\n",
       "<table border=\"1\" class=\"dataframe\">\n",
       "  <thead>\n",
       "    <tr style=\"text-align: right;\">\n",
       "      <th></th>\n",
       "      <th>Genre</th>\n",
       "      <th>Tags</th>\n",
       "      <th>Languages</th>\n",
       "      <th>Country Availability</th>\n",
       "      <th>Runtime</th>\n",
       "      <th>Director</th>\n",
       "      <th>Writer</th>\n",
       "      <th>Actors</th>\n",
       "      <th>View Rating</th>\n",
       "      <th>IMDb Score</th>\n",
       "      <th>...</th>\n",
       "      <th>Awards Nominated For</th>\n",
       "      <th>Boxoffice</th>\n",
       "      <th>Release Date</th>\n",
       "      <th>Netflix Release Date</th>\n",
       "      <th>Production House</th>\n",
       "      <th>Netflix Link</th>\n",
       "      <th>Summary</th>\n",
       "      <th>Series or Movie</th>\n",
       "      <th>IMDb Votes</th>\n",
       "      <th>Image</th>\n",
       "    </tr>\n",
       "    <tr>\n",
       "      <th>Title</th>\n",
       "      <th></th>\n",
       "      <th></th>\n",
       "      <th></th>\n",
       "      <th></th>\n",
       "      <th></th>\n",
       "      <th></th>\n",
       "      <th></th>\n",
       "      <th></th>\n",
       "      <th></th>\n",
       "      <th></th>\n",
       "      <th></th>\n",
       "      <th></th>\n",
       "      <th></th>\n",
       "      <th></th>\n",
       "      <th></th>\n",
       "      <th></th>\n",
       "      <th></th>\n",
       "      <th></th>\n",
       "      <th></th>\n",
       "      <th></th>\n",
       "      <th></th>\n",
       "    </tr>\n",
       "  </thead>\n",
       "  <tbody>\n",
       "    <tr>\n",
       "      <th>Lets Fight Ghost</th>\n",
       "      <td>Crime, Drama, Fantasy, Horror, Romance</td>\n",
       "      <td>Comedy Programmes,Romantic TV Comedies,Horror ...</td>\n",
       "      <td>Swedish, Spanish</td>\n",
       "      <td>Thailand</td>\n",
       "      <td>&lt; 30 minutes</td>\n",
       "      <td>Tomas Alfredson</td>\n",
       "      <td>John Ajvide Lindqvist</td>\n",
       "      <td>Lina Leandersson, Kåre Hedebrant, Per Ragnar, ...</td>\n",
       "      <td>R</td>\n",
       "      <td>7.9</td>\n",
       "      <td>...</td>\n",
       "      <td>57.0</td>\n",
       "      <td>$21,22,065</td>\n",
       "      <td>12-Dec-08</td>\n",
       "      <td>04-03-2021</td>\n",
       "      <td>Canal+, Sandrew Metronome</td>\n",
       "      <td>https://www.netflix.com/watch/81415947</td>\n",
       "      <td>A med student with a supernatural gift tries t...</td>\n",
       "      <td>Series</td>\n",
       "      <td>205926.0</td>\n",
       "      <td>https://occ-0-4708-64.1.nflxso.net/dnm/api/v6/...</td>\n",
       "    </tr>\n",
       "    <tr>\n",
       "      <th>How To Build A Girl</th>\n",
       "      <td>Comedy</td>\n",
       "      <td>Dramas,Comedies,Films Based on Books,British</td>\n",
       "      <td>English</td>\n",
       "      <td>Canada</td>\n",
       "      <td>1-2 hour</td>\n",
       "      <td>Coky Giedroyc</td>\n",
       "      <td>Caitlin Moran</td>\n",
       "      <td>Cleo, Paddy Considine, Beanie Feldstein, Dónal...</td>\n",
       "      <td>R</td>\n",
       "      <td>5.8</td>\n",
       "      <td>...</td>\n",
       "      <td>NaN</td>\n",
       "      <td>$70,632</td>\n",
       "      <td>08-May-20</td>\n",
       "      <td>04-03-2021</td>\n",
       "      <td>Film 4, Monumental Pictures, Lionsgate</td>\n",
       "      <td>https://www.netflix.com/watch/81041267</td>\n",
       "      <td>When nerdy Johanna moves to London, things get...</td>\n",
       "      <td>Movie</td>\n",
       "      <td>2838.0</td>\n",
       "      <td>https://occ-0-1081-999.1.nflxso.net/dnm/api/v6...</td>\n",
       "    </tr>\n",
       "    <tr>\n",
       "      <th>The Con-Heartist</th>\n",
       "      <td>Comedy, Romance</td>\n",
       "      <td>Romantic Comedies,Comedies,Romantic Films,Thai...</td>\n",
       "      <td>Thai</td>\n",
       "      <td>Thailand</td>\n",
       "      <td>&gt; 2 hrs</td>\n",
       "      <td>Mez Tharatorn</td>\n",
       "      <td>Pattaranad Bhiboonsawade, Mez Tharatorn, Thods...</td>\n",
       "      <td>Kathaleeya McIntosh, Nadech Kugimiya, Pimchano...</td>\n",
       "      <td>NaN</td>\n",
       "      <td>7.4</td>\n",
       "      <td>...</td>\n",
       "      <td>NaN</td>\n",
       "      <td>NaN</td>\n",
       "      <td>03-Dec-20</td>\n",
       "      <td>03-03-2021</td>\n",
       "      <td>NaN</td>\n",
       "      <td>https://www.netflix.com/watch/81306155</td>\n",
       "      <td>After her ex-boyfriend cons her out of a large...</td>\n",
       "      <td>Movie</td>\n",
       "      <td>131.0</td>\n",
       "      <td>https://occ-0-2188-64.1.nflxso.net/dnm/api/v6/...</td>\n",
       "    </tr>\n",
       "    <tr>\n",
       "      <th>Gleboka Woda</th>\n",
       "      <td>Drama</td>\n",
       "      <td>TV Dramas,Polish TV Shows,Social Issue TV Dramas</td>\n",
       "      <td>Polish</td>\n",
       "      <td>Poland</td>\n",
       "      <td>&lt; 30 minutes</td>\n",
       "      <td>NaN</td>\n",
       "      <td>NaN</td>\n",
       "      <td>Katarzyna Maciag, Piotr Nowak, Marcin Dorocins...</td>\n",
       "      <td>NaN</td>\n",
       "      <td>7.5</td>\n",
       "      <td>...</td>\n",
       "      <td>4.0</td>\n",
       "      <td>NaN</td>\n",
       "      <td>14-Jun-11</td>\n",
       "      <td>03-03-2021</td>\n",
       "      <td>NaN</td>\n",
       "      <td>https://www.netflix.com/watch/81307527</td>\n",
       "      <td>A group of social welfare workers led by their...</td>\n",
       "      <td>Series</td>\n",
       "      <td>47.0</td>\n",
       "      <td>https://occ-0-2508-2706.1.nflxso.net/dnm/api/v...</td>\n",
       "    </tr>\n",
       "    <tr>\n",
       "      <th>Only A Mother</th>\n",
       "      <td>Drama</td>\n",
       "      <td>Social Issue Dramas,Dramas,Movies Based on Boo...</td>\n",
       "      <td>Swedish</td>\n",
       "      <td>Lithuania,Poland,France,Italy,Spain,Greece,Bel...</td>\n",
       "      <td>1-2 hour</td>\n",
       "      <td>Alf Sjöberg</td>\n",
       "      <td>Ivar Lo-Johansson</td>\n",
       "      <td>Hugo Björne, Eva Dahlbeck, Ulf Palme, Ragnar F...</td>\n",
       "      <td>NaN</td>\n",
       "      <td>6.7</td>\n",
       "      <td>...</td>\n",
       "      <td>1.0</td>\n",
       "      <td>NaN</td>\n",
       "      <td>31-Oct-49</td>\n",
       "      <td>03-03-2021</td>\n",
       "      <td>NaN</td>\n",
       "      <td>https://www.netflix.com/watch/81382068</td>\n",
       "      <td>An unhappily married farm worker struggling to...</td>\n",
       "      <td>Movie</td>\n",
       "      <td>88.0</td>\n",
       "      <td>https://occ-0-2851-41.1.nflxso.net/dnm/api/v6/...</td>\n",
       "    </tr>\n",
       "  </tbody>\n",
       "</table>\n",
       "<p>5 rows × 21 columns</p>\n",
       "</div>"
      ],
      "text/plain": [
       "                                                      Genre  \\\n",
       "Title                                                         \n",
       "Lets Fight Ghost     Crime, Drama, Fantasy, Horror, Romance   \n",
       "How To Build A Girl                                  Comedy   \n",
       "The Con-Heartist                            Comedy, Romance   \n",
       "Gleboka Woda                                          Drama   \n",
       "Only A Mother                                         Drama   \n",
       "\n",
       "                                                                  Tags  \\\n",
       "Title                                                                    \n",
       "Lets Fight Ghost     Comedy Programmes,Romantic TV Comedies,Horror ...   \n",
       "How To Build A Girl       Dramas,Comedies,Films Based on Books,British   \n",
       "The Con-Heartist     Romantic Comedies,Comedies,Romantic Films,Thai...   \n",
       "Gleboka Woda          TV Dramas,Polish TV Shows,Social Issue TV Dramas   \n",
       "Only A Mother        Social Issue Dramas,Dramas,Movies Based on Boo...   \n",
       "\n",
       "                            Languages  \\\n",
       "Title                                   \n",
       "Lets Fight Ghost     Swedish, Spanish   \n",
       "How To Build A Girl           English   \n",
       "The Con-Heartist                 Thai   \n",
       "Gleboka Woda                   Polish   \n",
       "Only A Mother                 Swedish   \n",
       "\n",
       "                                                  Country Availability  \\\n",
       "Title                                                                    \n",
       "Lets Fight Ghost                                              Thailand   \n",
       "How To Build A Girl                                             Canada   \n",
       "The Con-Heartist                                              Thailand   \n",
       "Gleboka Woda                                                    Poland   \n",
       "Only A Mother        Lithuania,Poland,France,Italy,Spain,Greece,Bel...   \n",
       "\n",
       "                          Runtime         Director  \\\n",
       "Title                                                \n",
       "Lets Fight Ghost     < 30 minutes  Tomas Alfredson   \n",
       "How To Build A Girl      1-2 hour    Coky Giedroyc   \n",
       "The Con-Heartist          > 2 hrs    Mez Tharatorn   \n",
       "Gleboka Woda         < 30 minutes              NaN   \n",
       "Only A Mother            1-2 hour      Alf Sjöberg   \n",
       "\n",
       "                                                                Writer  \\\n",
       "Title                                                                    \n",
       "Lets Fight Ghost                                 John Ajvide Lindqvist   \n",
       "How To Build A Girl                                      Caitlin Moran   \n",
       "The Con-Heartist     Pattaranad Bhiboonsawade, Mez Tharatorn, Thods...   \n",
       "Gleboka Woda                                                       NaN   \n",
       "Only A Mother                                        Ivar Lo-Johansson   \n",
       "\n",
       "                                                                Actors  \\\n",
       "Title                                                                    \n",
       "Lets Fight Ghost     Lina Leandersson, Kåre Hedebrant, Per Ragnar, ...   \n",
       "How To Build A Girl  Cleo, Paddy Considine, Beanie Feldstein, Dónal...   \n",
       "The Con-Heartist     Kathaleeya McIntosh, Nadech Kugimiya, Pimchano...   \n",
       "Gleboka Woda         Katarzyna Maciag, Piotr Nowak, Marcin Dorocins...   \n",
       "Only A Mother        Hugo Björne, Eva Dahlbeck, Ulf Palme, Ragnar F...   \n",
       "\n",
       "                    View Rating  IMDb Score  ...  Awards Nominated For  \\\n",
       "Title                                        ...                         \n",
       "Lets Fight Ghost              R         7.9  ...                  57.0   \n",
       "How To Build A Girl           R         5.8  ...                   NaN   \n",
       "The Con-Heartist            NaN         7.4  ...                   NaN   \n",
       "Gleboka Woda                NaN         7.5  ...                   4.0   \n",
       "Only A Mother               NaN         6.7  ...                   1.0   \n",
       "\n",
       "                      Boxoffice Release Date Netflix Release Date  \\\n",
       "Title                                                               \n",
       "Lets Fight Ghost     $21,22,065    12-Dec-08           04-03-2021   \n",
       "How To Build A Girl     $70,632    08-May-20           04-03-2021   \n",
       "The Con-Heartist            NaN    03-Dec-20           03-03-2021   \n",
       "Gleboka Woda                NaN    14-Jun-11           03-03-2021   \n",
       "Only A Mother               NaN    31-Oct-49           03-03-2021   \n",
       "\n",
       "                                           Production House  \\\n",
       "Title                                                         \n",
       "Lets Fight Ghost                  Canal+, Sandrew Metronome   \n",
       "How To Build A Girl  Film 4, Monumental Pictures, Lionsgate   \n",
       "The Con-Heartist                                        NaN   \n",
       "Gleboka Woda                                            NaN   \n",
       "Only A Mother                                           NaN   \n",
       "\n",
       "                                               Netflix Link  \\\n",
       "Title                                                         \n",
       "Lets Fight Ghost     https://www.netflix.com/watch/81415947   \n",
       "How To Build A Girl  https://www.netflix.com/watch/81041267   \n",
       "The Con-Heartist     https://www.netflix.com/watch/81306155   \n",
       "Gleboka Woda         https://www.netflix.com/watch/81307527   \n",
       "Only A Mother        https://www.netflix.com/watch/81382068   \n",
       "\n",
       "                                                               Summary  \\\n",
       "Title                                                                    \n",
       "Lets Fight Ghost     A med student with a supernatural gift tries t...   \n",
       "How To Build A Girl  When nerdy Johanna moves to London, things get...   \n",
       "The Con-Heartist     After her ex-boyfriend cons her out of a large...   \n",
       "Gleboka Woda         A group of social welfare workers led by their...   \n",
       "Only A Mother        An unhappily married farm worker struggling to...   \n",
       "\n",
       "                    Series or Movie IMDb Votes  \\\n",
       "Title                                            \n",
       "Lets Fight Ghost             Series   205926.0   \n",
       "How To Build A Girl           Movie     2838.0   \n",
       "The Con-Heartist              Movie      131.0   \n",
       "Gleboka Woda                 Series       47.0   \n",
       "Only A Mother                 Movie       88.0   \n",
       "\n",
       "                                                                 Image  \n",
       "Title                                                                   \n",
       "Lets Fight Ghost     https://occ-0-4708-64.1.nflxso.net/dnm/api/v6/...  \n",
       "How To Build A Girl  https://occ-0-1081-999.1.nflxso.net/dnm/api/v6...  \n",
       "The Con-Heartist     https://occ-0-2188-64.1.nflxso.net/dnm/api/v6/...  \n",
       "Gleboka Woda         https://occ-0-2508-2706.1.nflxso.net/dnm/api/v...  \n",
       "Only A Mother        https://occ-0-2851-41.1.nflxso.net/dnm/api/v6/...  \n",
       "\n",
       "[5 rows x 21 columns]"
      ]
     },
     "execution_count": 74,
     "metadata": {},
     "output_type": "execute_result"
    }
   ],
   "source": [
    "netflix_data = data\n",
    "netflix_data.head()"
   ]
  },
  {
   "cell_type": "code",
   "execution_count": 103,
   "metadata": {},
   "outputs": [],
   "source": [
    "netflix_data = netflix_data[~netflix_data.index.duplicated()]"
   ]
  },
  {
   "cell_type": "code",
   "execution_count": 75,
   "metadata": {},
   "outputs": [],
   "source": [
    "netflix_data.rename(columns={'View Rating':'ViewerRating'}, inplace=True)"
   ]
  },
  {
   "cell_type": "code",
   "execution_count": 76,
   "metadata": {},
   "outputs": [
    {
     "name": "stdout",
     "output_type": "stream",
     "text": [
      "270\n",
      "184\n"
     ]
    }
   ],
   "source": [
    "Language = netflix_data.Languages.str.get_dummies(',')\n",
    "Lang = Language.columns.str.strip().values.tolist()\n",
    "print(len(Lang))\n",
    "Language = netflix_data['Languages']\n",
    "Language_Count = dict()\n",
    "for i in Lang:\n",
    "    p = Language.str.count(i).sum()\n",
    "    Language_Count[i] = int(p)\n",
    "print(len(Language_Count))"
   ]
  },
  {
   "cell_type": "code",
   "execution_count": 77,
   "metadata": {},
   "outputs": [],
   "source": [
    "Language_Count = {k: v for k, v in sorted(Language_Count.items(), key=lambda item: item[1], reverse = True)}\n",
    "top_languages = {\"Languages\": list(Language_Count.keys()), \"Count\": list(Language_Count.values())}"
   ]
  },
  {
   "cell_type": "code",
   "execution_count": 78,
   "metadata": {},
   "outputs": [
    {
     "data": {
      "application/vnd.plotly.v1+json": {
       "config": {
        "plotlyServerURL": "https://plot.ly"
       },
       "data": [
        {
         "alignmentgroup": "True",
         "hovertemplate": "Count=%{marker.color}<br>Languages=%{y}<extra></extra>",
         "legendgroup": "",
         "marker": {
          "color": [
           6166,
           1176,
           831,
           802,
           564,
           498,
           348,
           335,
           312,
           276
          ],
          "coloraxis": "coloraxis",
          "pattern": {
           "shape": ""
          }
         },
         "name": "",
         "offsetgroup": "",
         "orientation": "h",
         "showlegend": false,
         "textposition": "auto",
         "type": "bar",
         "x": [
          6166,
          1176,
          831,
          802,
          564,
          498,
          348,
          335,
          312,
          276
         ],
         "xaxis": "x",
         "y": [
          "English",
          "Japanese",
          "Spanish",
          "French",
          "Korean",
          "German",
          "Hindi",
          "Mandarin",
          "Italian",
          "Russian"
         ],
         "yaxis": "y"
        }
       ],
       "layout": {
        "barmode": "relative",
        "coloraxis": {
         "colorbar": {
          "title": {
           "text": "Count"
          }
         },
         "colorscale": [
          [
           0,
           "rgb(95, 70, 144)"
          ],
          [
           0.1,
           "rgb(29, 105, 150)"
          ],
          [
           0.2,
           "rgb(56, 166, 165)"
          ],
          [
           0.3,
           "rgb(15, 133, 84)"
          ],
          [
           0.4,
           "rgb(115, 175, 72)"
          ],
          [
           0.5,
           "rgb(237, 173, 8)"
          ],
          [
           0.6,
           "rgb(225, 124, 5)"
          ],
          [
           0.7,
           "rgb(204, 80, 62)"
          ],
          [
           0.8,
           "rgb(148, 52, 110)"
          ],
          [
           0.9,
           "rgb(111, 64, 112)"
          ],
          [
           1,
           "rgb(102, 102, 102)"
          ]
         ]
        },
        "legend": {
         "tracegroupgap": 0
        },
        "template": {
         "data": {
          "bar": [
           {
            "error_x": {
             "color": "#2a3f5f"
            },
            "error_y": {
             "color": "#2a3f5f"
            },
            "marker": {
             "line": {
              "color": "#E5ECF6",
              "width": 0.5
             },
             "pattern": {
              "fillmode": "overlay",
              "size": 10,
              "solidity": 0.2
             }
            },
            "type": "bar"
           }
          ],
          "barpolar": [
           {
            "marker": {
             "line": {
              "color": "#E5ECF6",
              "width": 0.5
             },
             "pattern": {
              "fillmode": "overlay",
              "size": 10,
              "solidity": 0.2
             }
            },
            "type": "barpolar"
           }
          ],
          "carpet": [
           {
            "aaxis": {
             "endlinecolor": "#2a3f5f",
             "gridcolor": "white",
             "linecolor": "white",
             "minorgridcolor": "white",
             "startlinecolor": "#2a3f5f"
            },
            "baxis": {
             "endlinecolor": "#2a3f5f",
             "gridcolor": "white",
             "linecolor": "white",
             "minorgridcolor": "white",
             "startlinecolor": "#2a3f5f"
            },
            "type": "carpet"
           }
          ],
          "choropleth": [
           {
            "colorbar": {
             "outlinewidth": 0,
             "ticks": ""
            },
            "type": "choropleth"
           }
          ],
          "contour": [
           {
            "colorbar": {
             "outlinewidth": 0,
             "ticks": ""
            },
            "colorscale": [
             [
              0,
              "#0d0887"
             ],
             [
              0.1111111111111111,
              "#46039f"
             ],
             [
              0.2222222222222222,
              "#7201a8"
             ],
             [
              0.3333333333333333,
              "#9c179e"
             ],
             [
              0.4444444444444444,
              "#bd3786"
             ],
             [
              0.5555555555555556,
              "#d8576b"
             ],
             [
              0.6666666666666666,
              "#ed7953"
             ],
             [
              0.7777777777777778,
              "#fb9f3a"
             ],
             [
              0.8888888888888888,
              "#fdca26"
             ],
             [
              1,
              "#f0f921"
             ]
            ],
            "type": "contour"
           }
          ],
          "contourcarpet": [
           {
            "colorbar": {
             "outlinewidth": 0,
             "ticks": ""
            },
            "type": "contourcarpet"
           }
          ],
          "heatmap": [
           {
            "colorbar": {
             "outlinewidth": 0,
             "ticks": ""
            },
            "colorscale": [
             [
              0,
              "#0d0887"
             ],
             [
              0.1111111111111111,
              "#46039f"
             ],
             [
              0.2222222222222222,
              "#7201a8"
             ],
             [
              0.3333333333333333,
              "#9c179e"
             ],
             [
              0.4444444444444444,
              "#bd3786"
             ],
             [
              0.5555555555555556,
              "#d8576b"
             ],
             [
              0.6666666666666666,
              "#ed7953"
             ],
             [
              0.7777777777777778,
              "#fb9f3a"
             ],
             [
              0.8888888888888888,
              "#fdca26"
             ],
             [
              1,
              "#f0f921"
             ]
            ],
            "type": "heatmap"
           }
          ],
          "heatmapgl": [
           {
            "colorbar": {
             "outlinewidth": 0,
             "ticks": ""
            },
            "colorscale": [
             [
              0,
              "#0d0887"
             ],
             [
              0.1111111111111111,
              "#46039f"
             ],
             [
              0.2222222222222222,
              "#7201a8"
             ],
             [
              0.3333333333333333,
              "#9c179e"
             ],
             [
              0.4444444444444444,
              "#bd3786"
             ],
             [
              0.5555555555555556,
              "#d8576b"
             ],
             [
              0.6666666666666666,
              "#ed7953"
             ],
             [
              0.7777777777777778,
              "#fb9f3a"
             ],
             [
              0.8888888888888888,
              "#fdca26"
             ],
             [
              1,
              "#f0f921"
             ]
            ],
            "type": "heatmapgl"
           }
          ],
          "histogram": [
           {
            "marker": {
             "pattern": {
              "fillmode": "overlay",
              "size": 10,
              "solidity": 0.2
             }
            },
            "type": "histogram"
           }
          ],
          "histogram2d": [
           {
            "colorbar": {
             "outlinewidth": 0,
             "ticks": ""
            },
            "colorscale": [
             [
              0,
              "#0d0887"
             ],
             [
              0.1111111111111111,
              "#46039f"
             ],
             [
              0.2222222222222222,
              "#7201a8"
             ],
             [
              0.3333333333333333,
              "#9c179e"
             ],
             [
              0.4444444444444444,
              "#bd3786"
             ],
             [
              0.5555555555555556,
              "#d8576b"
             ],
             [
              0.6666666666666666,
              "#ed7953"
             ],
             [
              0.7777777777777778,
              "#fb9f3a"
             ],
             [
              0.8888888888888888,
              "#fdca26"
             ],
             [
              1,
              "#f0f921"
             ]
            ],
            "type": "histogram2d"
           }
          ],
          "histogram2dcontour": [
           {
            "colorbar": {
             "outlinewidth": 0,
             "ticks": ""
            },
            "colorscale": [
             [
              0,
              "#0d0887"
             ],
             [
              0.1111111111111111,
              "#46039f"
             ],
             [
              0.2222222222222222,
              "#7201a8"
             ],
             [
              0.3333333333333333,
              "#9c179e"
             ],
             [
              0.4444444444444444,
              "#bd3786"
             ],
             [
              0.5555555555555556,
              "#d8576b"
             ],
             [
              0.6666666666666666,
              "#ed7953"
             ],
             [
              0.7777777777777778,
              "#fb9f3a"
             ],
             [
              0.8888888888888888,
              "#fdca26"
             ],
             [
              1,
              "#f0f921"
             ]
            ],
            "type": "histogram2dcontour"
           }
          ],
          "mesh3d": [
           {
            "colorbar": {
             "outlinewidth": 0,
             "ticks": ""
            },
            "type": "mesh3d"
           }
          ],
          "parcoords": [
           {
            "line": {
             "colorbar": {
              "outlinewidth": 0,
              "ticks": ""
             }
            },
            "type": "parcoords"
           }
          ],
          "pie": [
           {
            "automargin": true,
            "type": "pie"
           }
          ],
          "scatter": [
           {
            "fillpattern": {
             "fillmode": "overlay",
             "size": 10,
             "solidity": 0.2
            },
            "type": "scatter"
           }
          ],
          "scatter3d": [
           {
            "line": {
             "colorbar": {
              "outlinewidth": 0,
              "ticks": ""
             }
            },
            "marker": {
             "colorbar": {
              "outlinewidth": 0,
              "ticks": ""
             }
            },
            "type": "scatter3d"
           }
          ],
          "scattercarpet": [
           {
            "marker": {
             "colorbar": {
              "outlinewidth": 0,
              "ticks": ""
             }
            },
            "type": "scattercarpet"
           }
          ],
          "scattergeo": [
           {
            "marker": {
             "colorbar": {
              "outlinewidth": 0,
              "ticks": ""
             }
            },
            "type": "scattergeo"
           }
          ],
          "scattergl": [
           {
            "marker": {
             "colorbar": {
              "outlinewidth": 0,
              "ticks": ""
             }
            },
            "type": "scattergl"
           }
          ],
          "scattermapbox": [
           {
            "marker": {
             "colorbar": {
              "outlinewidth": 0,
              "ticks": ""
             }
            },
            "type": "scattermapbox"
           }
          ],
          "scatterpolar": [
           {
            "marker": {
             "colorbar": {
              "outlinewidth": 0,
              "ticks": ""
             }
            },
            "type": "scatterpolar"
           }
          ],
          "scatterpolargl": [
           {
            "marker": {
             "colorbar": {
              "outlinewidth": 0,
              "ticks": ""
             }
            },
            "type": "scatterpolargl"
           }
          ],
          "scatterternary": [
           {
            "marker": {
             "colorbar": {
              "outlinewidth": 0,
              "ticks": ""
             }
            },
            "type": "scatterternary"
           }
          ],
          "surface": [
           {
            "colorbar": {
             "outlinewidth": 0,
             "ticks": ""
            },
            "colorscale": [
             [
              0,
              "#0d0887"
             ],
             [
              0.1111111111111111,
              "#46039f"
             ],
             [
              0.2222222222222222,
              "#7201a8"
             ],
             [
              0.3333333333333333,
              "#9c179e"
             ],
             [
              0.4444444444444444,
              "#bd3786"
             ],
             [
              0.5555555555555556,
              "#d8576b"
             ],
             [
              0.6666666666666666,
              "#ed7953"
             ],
             [
              0.7777777777777778,
              "#fb9f3a"
             ],
             [
              0.8888888888888888,
              "#fdca26"
             ],
             [
              1,
              "#f0f921"
             ]
            ],
            "type": "surface"
           }
          ],
          "table": [
           {
            "cells": {
             "fill": {
              "color": "#EBF0F8"
             },
             "line": {
              "color": "white"
             }
            },
            "header": {
             "fill": {
              "color": "#C8D4E3"
             },
             "line": {
              "color": "white"
             }
            },
            "type": "table"
           }
          ]
         },
         "layout": {
          "annotationdefaults": {
           "arrowcolor": "#2a3f5f",
           "arrowhead": 0,
           "arrowwidth": 1
          },
          "autotypenumbers": "strict",
          "coloraxis": {
           "colorbar": {
            "outlinewidth": 0,
            "ticks": ""
           }
          },
          "colorscale": {
           "diverging": [
            [
             0,
             "#8e0152"
            ],
            [
             0.1,
             "#c51b7d"
            ],
            [
             0.2,
             "#de77ae"
            ],
            [
             0.3,
             "#f1b6da"
            ],
            [
             0.4,
             "#fde0ef"
            ],
            [
             0.5,
             "#f7f7f7"
            ],
            [
             0.6,
             "#e6f5d0"
            ],
            [
             0.7,
             "#b8e186"
            ],
            [
             0.8,
             "#7fbc41"
            ],
            [
             0.9,
             "#4d9221"
            ],
            [
             1,
             "#276419"
            ]
           ],
           "sequential": [
            [
             0,
             "#0d0887"
            ],
            [
             0.1111111111111111,
             "#46039f"
            ],
            [
             0.2222222222222222,
             "#7201a8"
            ],
            [
             0.3333333333333333,
             "#9c179e"
            ],
            [
             0.4444444444444444,
             "#bd3786"
            ],
            [
             0.5555555555555556,
             "#d8576b"
            ],
            [
             0.6666666666666666,
             "#ed7953"
            ],
            [
             0.7777777777777778,
             "#fb9f3a"
            ],
            [
             0.8888888888888888,
             "#fdca26"
            ],
            [
             1,
             "#f0f921"
            ]
           ],
           "sequentialminus": [
            [
             0,
             "#0d0887"
            ],
            [
             0.1111111111111111,
             "#46039f"
            ],
            [
             0.2222222222222222,
             "#7201a8"
            ],
            [
             0.3333333333333333,
             "#9c179e"
            ],
            [
             0.4444444444444444,
             "#bd3786"
            ],
            [
             0.5555555555555556,
             "#d8576b"
            ],
            [
             0.6666666666666666,
             "#ed7953"
            ],
            [
             0.7777777777777778,
             "#fb9f3a"
            ],
            [
             0.8888888888888888,
             "#fdca26"
            ],
            [
             1,
             "#f0f921"
            ]
           ]
          },
          "colorway": [
           "#636efa",
           "#EF553B",
           "#00cc96",
           "#ab63fa",
           "#FFA15A",
           "#19d3f3",
           "#FF6692",
           "#B6E880",
           "#FF97FF",
           "#FECB52"
          ],
          "font": {
           "color": "#2a3f5f"
          },
          "geo": {
           "bgcolor": "white",
           "lakecolor": "white",
           "landcolor": "#E5ECF6",
           "showlakes": true,
           "showland": true,
           "subunitcolor": "white"
          },
          "hoverlabel": {
           "align": "left"
          },
          "hovermode": "closest",
          "mapbox": {
           "style": "light"
          },
          "paper_bgcolor": "white",
          "plot_bgcolor": "#E5ECF6",
          "polar": {
           "angularaxis": {
            "gridcolor": "white",
            "linecolor": "white",
            "ticks": ""
           },
           "bgcolor": "#E5ECF6",
           "radialaxis": {
            "gridcolor": "white",
            "linecolor": "white",
            "ticks": ""
           }
          },
          "scene": {
           "xaxis": {
            "backgroundcolor": "#E5ECF6",
            "gridcolor": "white",
            "gridwidth": 2,
            "linecolor": "white",
            "showbackground": true,
            "ticks": "",
            "zerolinecolor": "white"
           },
           "yaxis": {
            "backgroundcolor": "#E5ECF6",
            "gridcolor": "white",
            "gridwidth": 2,
            "linecolor": "white",
            "showbackground": true,
            "ticks": "",
            "zerolinecolor": "white"
           },
           "zaxis": {
            "backgroundcolor": "#E5ECF6",
            "gridcolor": "white",
            "gridwidth": 2,
            "linecolor": "white",
            "showbackground": true,
            "ticks": "",
            "zerolinecolor": "white"
           }
          },
          "shapedefaults": {
           "line": {
            "color": "#2a3f5f"
           }
          },
          "ternary": {
           "aaxis": {
            "gridcolor": "white",
            "linecolor": "white",
            "ticks": ""
           },
           "baxis": {
            "gridcolor": "white",
            "linecolor": "white",
            "ticks": ""
           },
           "bgcolor": "#E5ECF6",
           "caxis": {
            "gridcolor": "white",
            "linecolor": "white",
            "ticks": ""
           }
          },
          "title": {
           "x": 0.05
          },
          "xaxis": {
           "automargin": true,
           "gridcolor": "white",
           "linecolor": "white",
           "ticks": "",
           "title": {
            "standoff": 15
           },
           "zerolinecolor": "white",
           "zerolinewidth": 2
          },
          "yaxis": {
           "automargin": true,
           "gridcolor": "white",
           "linecolor": "white",
           "ticks": "",
           "title": {
            "standoff": 15
           },
           "zerolinecolor": "white",
           "zerolinewidth": 2
          }
         }
        },
        "title": {
         "text": "Most Available Languages"
        },
        "xaxis": {
         "anchor": "y",
         "domain": [
          0,
          1
         ],
         "title": {
          "text": "Count"
         }
        },
        "yaxis": {
         "anchor": "x",
         "categoryorder": "total ascending",
         "domain": [
          0,
          1
         ],
         "title": {
          "text": "Languages"
         }
        }
       }
      }
     },
     "metadata": {},
     "output_type": "display_data"
    }
   ],
   "source": [
    "fig = px.bar(pd.DataFrame(top_languages)[:10], y = 'Languages', x = 'Count', orientation = 'h', title = 'Most Available Languages', color = 'Count', color_continuous_scale = px.colors.qualitative.Prism).update_yaxes(categoryorder = 'total ascending')\n",
    "fig.show()"
   ]
  },
  {
   "cell_type": "code",
   "execution_count": 79,
   "metadata": {},
   "outputs": [
    {
     "name": "stdout",
     "output_type": "stream",
     "text": [
      "54\n",
      "28\n"
     ]
    }
   ],
   "source": [
    "Genres = netflix_data.Genre.str.get_dummies(',')\n",
    "Genre = Genres.columns.str.strip().values.tolist()\n",
    "print(len(Genre))\n",
    "Genres = netflix_data['Genre']\n",
    "Genre_Count = dict()\n",
    "for i in Genre:\n",
    "    p = Genres.str.count(i).sum()\n",
    "    Genre_Count[i] = int(p)\n",
    "print(len(Genre_Count))"
   ]
  },
  {
   "cell_type": "code",
   "execution_count": 80,
   "metadata": {},
   "outputs": [],
   "source": [
    "Genre_Count = {k: v for k, v in sorted(Genre_Count.items(), key=lambda item: item[1], reverse = True)}\n",
    "top_genres = {\"Genre\": list(Genre_Count.keys()), \"Count\": list(Genre_Count.values())}"
   ]
  },
  {
   "cell_type": "code",
   "execution_count": 81,
   "metadata": {},
   "outputs": [
    {
     "data": {
      "application/vnd.plotly.v1+json": {
       "config": {
        "plotlyServerURL": "https://plot.ly"
       },
       "data": [
        {
         "alignmentgroup": "True",
         "hovertemplate": "Count=%{marker.color}<br>Genre=%{y}<extra></extra>",
         "legendgroup": "",
         "marker": {
          "color": [
           4797,
           3302,
           2141,
           2065,
           1810,
           1512,
           1349,
           1222,
           1168,
           949
          ],
          "coloraxis": "coloraxis",
          "pattern": {
           "shape": ""
          }
         },
         "name": "",
         "offsetgroup": "",
         "orientation": "h",
         "showlegend": false,
         "textposition": "auto",
         "type": "bar",
         "x": [
          4797,
          3302,
          2141,
          2065,
          1810,
          1512,
          1349,
          1222,
          1168,
          949
         ],
         "xaxis": "x",
         "y": [
          "Drama",
          "Comedy",
          "Action",
          "Thriller",
          "Romance",
          "Crime",
          "Adventure",
          "Fantasy",
          "Animation",
          "Sci-Fi"
         ],
         "yaxis": "y"
        }
       ],
       "layout": {
        "barmode": "relative",
        "coloraxis": {
         "colorbar": {
          "title": {
           "text": "Count"
          }
         },
         "colorscale": [
          [
           0,
           "rgb(95, 70, 144)"
          ],
          [
           0.1,
           "rgb(29, 105, 150)"
          ],
          [
           0.2,
           "rgb(56, 166, 165)"
          ],
          [
           0.3,
           "rgb(15, 133, 84)"
          ],
          [
           0.4,
           "rgb(115, 175, 72)"
          ],
          [
           0.5,
           "rgb(237, 173, 8)"
          ],
          [
           0.6,
           "rgb(225, 124, 5)"
          ],
          [
           0.7,
           "rgb(204, 80, 62)"
          ],
          [
           0.8,
           "rgb(148, 52, 110)"
          ],
          [
           0.9,
           "rgb(111, 64, 112)"
          ],
          [
           1,
           "rgb(102, 102, 102)"
          ]
         ]
        },
        "legend": {
         "tracegroupgap": 0
        },
        "template": {
         "data": {
          "bar": [
           {
            "error_x": {
             "color": "#2a3f5f"
            },
            "error_y": {
             "color": "#2a3f5f"
            },
            "marker": {
             "line": {
              "color": "#E5ECF6",
              "width": 0.5
             },
             "pattern": {
              "fillmode": "overlay",
              "size": 10,
              "solidity": 0.2
             }
            },
            "type": "bar"
           }
          ],
          "barpolar": [
           {
            "marker": {
             "line": {
              "color": "#E5ECF6",
              "width": 0.5
             },
             "pattern": {
              "fillmode": "overlay",
              "size": 10,
              "solidity": 0.2
             }
            },
            "type": "barpolar"
           }
          ],
          "carpet": [
           {
            "aaxis": {
             "endlinecolor": "#2a3f5f",
             "gridcolor": "white",
             "linecolor": "white",
             "minorgridcolor": "white",
             "startlinecolor": "#2a3f5f"
            },
            "baxis": {
             "endlinecolor": "#2a3f5f",
             "gridcolor": "white",
             "linecolor": "white",
             "minorgridcolor": "white",
             "startlinecolor": "#2a3f5f"
            },
            "type": "carpet"
           }
          ],
          "choropleth": [
           {
            "colorbar": {
             "outlinewidth": 0,
             "ticks": ""
            },
            "type": "choropleth"
           }
          ],
          "contour": [
           {
            "colorbar": {
             "outlinewidth": 0,
             "ticks": ""
            },
            "colorscale": [
             [
              0,
              "#0d0887"
             ],
             [
              0.1111111111111111,
              "#46039f"
             ],
             [
              0.2222222222222222,
              "#7201a8"
             ],
             [
              0.3333333333333333,
              "#9c179e"
             ],
             [
              0.4444444444444444,
              "#bd3786"
             ],
             [
              0.5555555555555556,
              "#d8576b"
             ],
             [
              0.6666666666666666,
              "#ed7953"
             ],
             [
              0.7777777777777778,
              "#fb9f3a"
             ],
             [
              0.8888888888888888,
              "#fdca26"
             ],
             [
              1,
              "#f0f921"
             ]
            ],
            "type": "contour"
           }
          ],
          "contourcarpet": [
           {
            "colorbar": {
             "outlinewidth": 0,
             "ticks": ""
            },
            "type": "contourcarpet"
           }
          ],
          "heatmap": [
           {
            "colorbar": {
             "outlinewidth": 0,
             "ticks": ""
            },
            "colorscale": [
             [
              0,
              "#0d0887"
             ],
             [
              0.1111111111111111,
              "#46039f"
             ],
             [
              0.2222222222222222,
              "#7201a8"
             ],
             [
              0.3333333333333333,
              "#9c179e"
             ],
             [
              0.4444444444444444,
              "#bd3786"
             ],
             [
              0.5555555555555556,
              "#d8576b"
             ],
             [
              0.6666666666666666,
              "#ed7953"
             ],
             [
              0.7777777777777778,
              "#fb9f3a"
             ],
             [
              0.8888888888888888,
              "#fdca26"
             ],
             [
              1,
              "#f0f921"
             ]
            ],
            "type": "heatmap"
           }
          ],
          "heatmapgl": [
           {
            "colorbar": {
             "outlinewidth": 0,
             "ticks": ""
            },
            "colorscale": [
             [
              0,
              "#0d0887"
             ],
             [
              0.1111111111111111,
              "#46039f"
             ],
             [
              0.2222222222222222,
              "#7201a8"
             ],
             [
              0.3333333333333333,
              "#9c179e"
             ],
             [
              0.4444444444444444,
              "#bd3786"
             ],
             [
              0.5555555555555556,
              "#d8576b"
             ],
             [
              0.6666666666666666,
              "#ed7953"
             ],
             [
              0.7777777777777778,
              "#fb9f3a"
             ],
             [
              0.8888888888888888,
              "#fdca26"
             ],
             [
              1,
              "#f0f921"
             ]
            ],
            "type": "heatmapgl"
           }
          ],
          "histogram": [
           {
            "marker": {
             "pattern": {
              "fillmode": "overlay",
              "size": 10,
              "solidity": 0.2
             }
            },
            "type": "histogram"
           }
          ],
          "histogram2d": [
           {
            "colorbar": {
             "outlinewidth": 0,
             "ticks": ""
            },
            "colorscale": [
             [
              0,
              "#0d0887"
             ],
             [
              0.1111111111111111,
              "#46039f"
             ],
             [
              0.2222222222222222,
              "#7201a8"
             ],
             [
              0.3333333333333333,
              "#9c179e"
             ],
             [
              0.4444444444444444,
              "#bd3786"
             ],
             [
              0.5555555555555556,
              "#d8576b"
             ],
             [
              0.6666666666666666,
              "#ed7953"
             ],
             [
              0.7777777777777778,
              "#fb9f3a"
             ],
             [
              0.8888888888888888,
              "#fdca26"
             ],
             [
              1,
              "#f0f921"
             ]
            ],
            "type": "histogram2d"
           }
          ],
          "histogram2dcontour": [
           {
            "colorbar": {
             "outlinewidth": 0,
             "ticks": ""
            },
            "colorscale": [
             [
              0,
              "#0d0887"
             ],
             [
              0.1111111111111111,
              "#46039f"
             ],
             [
              0.2222222222222222,
              "#7201a8"
             ],
             [
              0.3333333333333333,
              "#9c179e"
             ],
             [
              0.4444444444444444,
              "#bd3786"
             ],
             [
              0.5555555555555556,
              "#d8576b"
             ],
             [
              0.6666666666666666,
              "#ed7953"
             ],
             [
              0.7777777777777778,
              "#fb9f3a"
             ],
             [
              0.8888888888888888,
              "#fdca26"
             ],
             [
              1,
              "#f0f921"
             ]
            ],
            "type": "histogram2dcontour"
           }
          ],
          "mesh3d": [
           {
            "colorbar": {
             "outlinewidth": 0,
             "ticks": ""
            },
            "type": "mesh3d"
           }
          ],
          "parcoords": [
           {
            "line": {
             "colorbar": {
              "outlinewidth": 0,
              "ticks": ""
             }
            },
            "type": "parcoords"
           }
          ],
          "pie": [
           {
            "automargin": true,
            "type": "pie"
           }
          ],
          "scatter": [
           {
            "fillpattern": {
             "fillmode": "overlay",
             "size": 10,
             "solidity": 0.2
            },
            "type": "scatter"
           }
          ],
          "scatter3d": [
           {
            "line": {
             "colorbar": {
              "outlinewidth": 0,
              "ticks": ""
             }
            },
            "marker": {
             "colorbar": {
              "outlinewidth": 0,
              "ticks": ""
             }
            },
            "type": "scatter3d"
           }
          ],
          "scattercarpet": [
           {
            "marker": {
             "colorbar": {
              "outlinewidth": 0,
              "ticks": ""
             }
            },
            "type": "scattercarpet"
           }
          ],
          "scattergeo": [
           {
            "marker": {
             "colorbar": {
              "outlinewidth": 0,
              "ticks": ""
             }
            },
            "type": "scattergeo"
           }
          ],
          "scattergl": [
           {
            "marker": {
             "colorbar": {
              "outlinewidth": 0,
              "ticks": ""
             }
            },
            "type": "scattergl"
           }
          ],
          "scattermapbox": [
           {
            "marker": {
             "colorbar": {
              "outlinewidth": 0,
              "ticks": ""
             }
            },
            "type": "scattermapbox"
           }
          ],
          "scatterpolar": [
           {
            "marker": {
             "colorbar": {
              "outlinewidth": 0,
              "ticks": ""
             }
            },
            "type": "scatterpolar"
           }
          ],
          "scatterpolargl": [
           {
            "marker": {
             "colorbar": {
              "outlinewidth": 0,
              "ticks": ""
             }
            },
            "type": "scatterpolargl"
           }
          ],
          "scatterternary": [
           {
            "marker": {
             "colorbar": {
              "outlinewidth": 0,
              "ticks": ""
             }
            },
            "type": "scatterternary"
           }
          ],
          "surface": [
           {
            "colorbar": {
             "outlinewidth": 0,
             "ticks": ""
            },
            "colorscale": [
             [
              0,
              "#0d0887"
             ],
             [
              0.1111111111111111,
              "#46039f"
             ],
             [
              0.2222222222222222,
              "#7201a8"
             ],
             [
              0.3333333333333333,
              "#9c179e"
             ],
             [
              0.4444444444444444,
              "#bd3786"
             ],
             [
              0.5555555555555556,
              "#d8576b"
             ],
             [
              0.6666666666666666,
              "#ed7953"
             ],
             [
              0.7777777777777778,
              "#fb9f3a"
             ],
             [
              0.8888888888888888,
              "#fdca26"
             ],
             [
              1,
              "#f0f921"
             ]
            ],
            "type": "surface"
           }
          ],
          "table": [
           {
            "cells": {
             "fill": {
              "color": "#EBF0F8"
             },
             "line": {
              "color": "white"
             }
            },
            "header": {
             "fill": {
              "color": "#C8D4E3"
             },
             "line": {
              "color": "white"
             }
            },
            "type": "table"
           }
          ]
         },
         "layout": {
          "annotationdefaults": {
           "arrowcolor": "#2a3f5f",
           "arrowhead": 0,
           "arrowwidth": 1
          },
          "autotypenumbers": "strict",
          "coloraxis": {
           "colorbar": {
            "outlinewidth": 0,
            "ticks": ""
           }
          },
          "colorscale": {
           "diverging": [
            [
             0,
             "#8e0152"
            ],
            [
             0.1,
             "#c51b7d"
            ],
            [
             0.2,
             "#de77ae"
            ],
            [
             0.3,
             "#f1b6da"
            ],
            [
             0.4,
             "#fde0ef"
            ],
            [
             0.5,
             "#f7f7f7"
            ],
            [
             0.6,
             "#e6f5d0"
            ],
            [
             0.7,
             "#b8e186"
            ],
            [
             0.8,
             "#7fbc41"
            ],
            [
             0.9,
             "#4d9221"
            ],
            [
             1,
             "#276419"
            ]
           ],
           "sequential": [
            [
             0,
             "#0d0887"
            ],
            [
             0.1111111111111111,
             "#46039f"
            ],
            [
             0.2222222222222222,
             "#7201a8"
            ],
            [
             0.3333333333333333,
             "#9c179e"
            ],
            [
             0.4444444444444444,
             "#bd3786"
            ],
            [
             0.5555555555555556,
             "#d8576b"
            ],
            [
             0.6666666666666666,
             "#ed7953"
            ],
            [
             0.7777777777777778,
             "#fb9f3a"
            ],
            [
             0.8888888888888888,
             "#fdca26"
            ],
            [
             1,
             "#f0f921"
            ]
           ],
           "sequentialminus": [
            [
             0,
             "#0d0887"
            ],
            [
             0.1111111111111111,
             "#46039f"
            ],
            [
             0.2222222222222222,
             "#7201a8"
            ],
            [
             0.3333333333333333,
             "#9c179e"
            ],
            [
             0.4444444444444444,
             "#bd3786"
            ],
            [
             0.5555555555555556,
             "#d8576b"
            ],
            [
             0.6666666666666666,
             "#ed7953"
            ],
            [
             0.7777777777777778,
             "#fb9f3a"
            ],
            [
             0.8888888888888888,
             "#fdca26"
            ],
            [
             1,
             "#f0f921"
            ]
           ]
          },
          "colorway": [
           "#636efa",
           "#EF553B",
           "#00cc96",
           "#ab63fa",
           "#FFA15A",
           "#19d3f3",
           "#FF6692",
           "#B6E880",
           "#FF97FF",
           "#FECB52"
          ],
          "font": {
           "color": "#2a3f5f"
          },
          "geo": {
           "bgcolor": "white",
           "lakecolor": "white",
           "landcolor": "#E5ECF6",
           "showlakes": true,
           "showland": true,
           "subunitcolor": "white"
          },
          "hoverlabel": {
           "align": "left"
          },
          "hovermode": "closest",
          "mapbox": {
           "style": "light"
          },
          "paper_bgcolor": "white",
          "plot_bgcolor": "#E5ECF6",
          "polar": {
           "angularaxis": {
            "gridcolor": "white",
            "linecolor": "white",
            "ticks": ""
           },
           "bgcolor": "#E5ECF6",
           "radialaxis": {
            "gridcolor": "white",
            "linecolor": "white",
            "ticks": ""
           }
          },
          "scene": {
           "xaxis": {
            "backgroundcolor": "#E5ECF6",
            "gridcolor": "white",
            "gridwidth": 2,
            "linecolor": "white",
            "showbackground": true,
            "ticks": "",
            "zerolinecolor": "white"
           },
           "yaxis": {
            "backgroundcolor": "#E5ECF6",
            "gridcolor": "white",
            "gridwidth": 2,
            "linecolor": "white",
            "showbackground": true,
            "ticks": "",
            "zerolinecolor": "white"
           },
           "zaxis": {
            "backgroundcolor": "#E5ECF6",
            "gridcolor": "white",
            "gridwidth": 2,
            "linecolor": "white",
            "showbackground": true,
            "ticks": "",
            "zerolinecolor": "white"
           }
          },
          "shapedefaults": {
           "line": {
            "color": "#2a3f5f"
           }
          },
          "ternary": {
           "aaxis": {
            "gridcolor": "white",
            "linecolor": "white",
            "ticks": ""
           },
           "baxis": {
            "gridcolor": "white",
            "linecolor": "white",
            "ticks": ""
           },
           "bgcolor": "#E5ECF6",
           "caxis": {
            "gridcolor": "white",
            "linecolor": "white",
            "ticks": ""
           }
          },
          "title": {
           "x": 0.05
          },
          "xaxis": {
           "automargin": true,
           "gridcolor": "white",
           "linecolor": "white",
           "ticks": "",
           "title": {
            "standoff": 15
           },
           "zerolinecolor": "white",
           "zerolinewidth": 2
          },
          "yaxis": {
           "automargin": true,
           "gridcolor": "white",
           "linecolor": "white",
           "ticks": "",
           "title": {
            "standoff": 15
           },
           "zerolinecolor": "white",
           "zerolinewidth": 2
          }
         }
        },
        "title": {
         "text": "Genres with maximum content"
        },
        "xaxis": {
         "anchor": "y",
         "domain": [
          0,
          1
         ],
         "title": {
          "text": "Count"
         }
        },
        "yaxis": {
         "anchor": "x",
         "categoryorder": "total ascending",
         "domain": [
          0,
          1
         ],
         "title": {
          "text": "Genre"
         }
        }
       }
      }
     },
     "metadata": {},
     "output_type": "display_data"
    }
   ],
   "source": [
    "fig = px.bar(pd.DataFrame(top_genres)[:10], y = 'Genre', x = 'Count', orientation = 'h', title = 'Genres with maximum content', color = 'Count', color_continuous_scale = px.colors.qualitative.Prism).update_yaxes(categoryorder = 'total ascending')\n",
    "fig.show()"
   ]
  },
  {
   "cell_type": "code",
   "execution_count": 82,
   "metadata": {},
   "outputs": [
    {
     "data": {
      "image/png": "[encoded data removed]",
      "text/plain": [
       "<Figure size 1080x360 with 1 Axes>"
      ]
     },
     "metadata": {
      "needs_background": "light"
     },
     "output_type": "display_data"
    }
   ],
   "source": [
    "top_15 = data.sort_values(by = ['IMDb Votes'], ascending = False).head(15)\n",
    "plt.figure(figsize = (15,5))\n",
    "sns.barplot(data = top_15, y = top_15.index, x = \"IMDb Votes\")\n",
    "plt.show()"
   ]
  },
  {
   "cell_type": "code",
   "execution_count": 83,
   "metadata": {},
   "outputs": [
    {
     "data": {
      "image/png": "[encoded data removed]",
      "text/plain": [
       "<Figure size 1080x360 with 1 Axes>"
      ]
     },
     "metadata": {
      "needs_background": "light"
     },
     "output_type": "display_data"
    }
   ],
   "source": [
    "top_15 = data.sort_values(by = ['IMDb Score'], ascending = False).head(15)\n",
    "plt.figure(figsize = (15,5))\n",
    "sns.barplot(data = top_15, y = top_15.index, x = \"IMDb Score\")\n",
    "plt.show()"
   ]
  },
  {
   "cell_type": "code",
   "execution_count": 84,
   "metadata": {},
   "outputs": [
    {
     "data": {
      "text/plain": [
       "0"
      ]
     },
     "execution_count": 84,
     "metadata": {},
     "output_type": "execute_result"
    }
   ],
   "source": [
    "netflix_data.duplicated().sum()"
   ]
  },
  {
   "cell_type": "code",
   "execution_count": 85,
   "metadata": {},
   "outputs": [
    {
     "data": {
      "text/plain": [
       "0"
      ]
     },
     "execution_count": 85,
     "metadata": {},
     "output_type": "execute_result"
    }
   ],
   "source": [
    "netflix_data.index.isnull().sum()"
   ]
  },
  {
   "cell_type": "code",
   "execution_count": 86,
   "metadata": {},
   "outputs": [
    {
     "name": "stdout",
     "output_type": "stream",
     "text": [
      "25\n"
     ]
    }
   ],
   "source": [
    "netflix_data['Genre'] = netflix_data['Genre'].astype('str')\n",
    "print((netflix_data['Genre'] == 'nan').sum())"
   ]
  },
  {
   "cell_type": "code",
   "execution_count": 87,
   "metadata": {},
   "outputs": [
    {
     "name": "stdout",
     "output_type": "stream",
     "text": [
      "37\n"
     ]
    }
   ],
   "source": [
    "netflix_data['Tags'] = netflix_data['Tags'].astype('str')\n",
    "print((netflix_data['Tags'] == 'nan').sum())"
   ]
  },
  {
   "cell_type": "code",
   "execution_count": 88,
   "metadata": {},
   "outputs": [
    {
     "name": "stdout",
     "output_type": "stream",
     "text": [
      "0\n"
     ]
    }
   ],
   "source": [
    "print(((netflix_data['Genre'] == 'nan') & (netflix_data['Tags'] == 'nan')).sum())\n",
    "#so these two features can used to recommend movies as no movie can be left unrecommended"
   ]
  },
  {
   "cell_type": "code",
   "execution_count": 89,
   "metadata": {},
   "outputs": [
    {
     "name": "stdout",
     "output_type": "stream",
     "text": [
      "        IMDb Score\n",
      "count  9395.000000\n",
      "mean      6.954902\n",
      "std       0.899448\n",
      "min       1.600000\n",
      "25%       6.500000\n",
      "50%       7.000000\n",
      "75%       7.500000\n",
      "max       9.700000\n"
     ]
    },
    {
     "data": {
      "text/plain": [
       "0    6.6\n",
       "dtype: float64"
      ]
     },
     "execution_count": 89,
     "metadata": {},
     "output_type": "execute_result"
    }
   ],
   "source": [
    "print(netflix_data[['IMDb Score']].describe())\n",
    "netflix_data['IMDb Score'].mode()\n",
    "#this feature can be used to sort the movie or series list to represent the recommended items"
   ]
  },
  {
   "cell_type": "code",
   "execution_count": 90,
   "metadata": {},
   "outputs": [
    {
     "name": "stdout",
     "output_type": "stream",
     "text": [
      "        IMDb Score\n",
      "count  9403.000000\n",
      "mean      6.954600\n",
      "std       0.899124\n",
      "min       1.600000\n",
      "25%       6.500000\n",
      "50%       7.000000\n",
      "75%       7.500000\n",
      "max       9.700000\n"
     ]
    }
   ],
   "source": [
    "netflix_data['IMDb Score'] = netflix_data['IMDb Score'].apply(lambda x: 6.6 if x == 0 or math.isnan(x) else x)\n",
    "print(netflix_data[['IMDb Score']].describe())\n",
    "#since no value has suffered for change greater than 0.0003 after replacing the null values with mode value, so we replace the null values with 6.6"
   ]
  },
  {
   "cell_type": "code",
   "execution_count": 91,
   "metadata": {},
   "outputs": [],
   "source": [
    "netflix_data['Actors'] = netflix_data['Actors'].astype('str')\n",
    "netflix_data['ViewerRating'] = netflix_data['ViewerRating'].astype('str')"
   ]
  },
  {
   "cell_type": "code",
   "execution_count": 92,
   "metadata": {},
   "outputs": [],
   "source": [
    "def clean_data(x):\n",
    "        return str.lower(x.replace(\" \", \"\"))"
   ]
  },
  {
   "cell_type": "code",
   "execution_count": 93,
   "metadata": {},
   "outputs": [
    {
     "data": {
      "text/html": [
       "<div>\n",
       "<style scoped>\n",
       "    .dataframe tbody tr th:only-of-type {\n",
       "        vertical-align: middle;\n",
       "    }\n",
       "\n",
       "    .dataframe tbody tr th {\n",
       "        vertical-align: top;\n",
       "    }\n",
       "\n",
       "    .dataframe thead th {\n",
       "        text-align: right;\n",
       "    }\n",
       "</style>\n",
       "<table border=\"1\" class=\"dataframe\">\n",
       "  <thead>\n",
       "    <tr style=\"text-align: right;\">\n",
       "      <th></th>\n",
       "      <th>Genre</th>\n",
       "      <th>Tags</th>\n",
       "      <th>Actors</th>\n",
       "      <th>ViewerRating</th>\n",
       "    </tr>\n",
       "    <tr>\n",
       "      <th>Title</th>\n",
       "      <th></th>\n",
       "      <th></th>\n",
       "      <th></th>\n",
       "      <th></th>\n",
       "    </tr>\n",
       "  </thead>\n",
       "  <tbody>\n",
       "    <tr>\n",
       "      <th>Lets Fight Ghost</th>\n",
       "      <td>Crime, Drama, Fantasy, Horror, Romance</td>\n",
       "      <td>Comedy Programmes,Romantic TV Comedies,Horror ...</td>\n",
       "      <td>Lina Leandersson, Kåre Hedebrant, Per Ragnar, ...</td>\n",
       "      <td>R</td>\n",
       "    </tr>\n",
       "    <tr>\n",
       "      <th>How To Build A Girl</th>\n",
       "      <td>Comedy</td>\n",
       "      <td>Dramas,Comedies,Films Based on Books,British</td>\n",
       "      <td>Cleo, Paddy Considine, Beanie Feldstein, Dónal...</td>\n",
       "      <td>R</td>\n",
       "    </tr>\n",
       "    <tr>\n",
       "      <th>The Con-Heartist</th>\n",
       "      <td>Comedy, Romance</td>\n",
       "      <td>Romantic Comedies,Comedies,Romantic Films,Thai...</td>\n",
       "      <td>Kathaleeya McIntosh, Nadech Kugimiya, Pimchano...</td>\n",
       "      <td>nan</td>\n",
       "    </tr>\n",
       "    <tr>\n",
       "      <th>Gleboka Woda</th>\n",
       "      <td>Drama</td>\n",
       "      <td>TV Dramas,Polish TV Shows,Social Issue TV Dramas</td>\n",
       "      <td>Katarzyna Maciag, Piotr Nowak, Marcin Dorocins...</td>\n",
       "      <td>nan</td>\n",
       "    </tr>\n",
       "    <tr>\n",
       "      <th>Only A Mother</th>\n",
       "      <td>Drama</td>\n",
       "      <td>Social Issue Dramas,Dramas,Movies Based on Boo...</td>\n",
       "      <td>Hugo Björne, Eva Dahlbeck, Ulf Palme, Ragnar F...</td>\n",
       "      <td>nan</td>\n",
       "    </tr>\n",
       "  </tbody>\n",
       "</table>\n",
       "</div>"
      ],
      "text/plain": [
       "                                                      Genre  \\\n",
       "Title                                                         \n",
       "Lets Fight Ghost     Crime, Drama, Fantasy, Horror, Romance   \n",
       "How To Build A Girl                                  Comedy   \n",
       "The Con-Heartist                            Comedy, Romance   \n",
       "Gleboka Woda                                          Drama   \n",
       "Only A Mother                                         Drama   \n",
       "\n",
       "                                                                  Tags  \\\n",
       "Title                                                                    \n",
       "Lets Fight Ghost     Comedy Programmes,Romantic TV Comedies,Horror ...   \n",
       "How To Build A Girl       Dramas,Comedies,Films Based on Books,British   \n",
       "The Con-Heartist     Romantic Comedies,Comedies,Romantic Films,Thai...   \n",
       "Gleboka Woda          TV Dramas,Polish TV Shows,Social Issue TV Dramas   \n",
       "Only A Mother        Social Issue Dramas,Dramas,Movies Based on Boo...   \n",
       "\n",
       "                                                                Actors  \\\n",
       "Title                                                                    \n",
       "Lets Fight Ghost     Lina Leandersson, Kåre Hedebrant, Per Ragnar, ...   \n",
       "How To Build A Girl  Cleo, Paddy Considine, Beanie Feldstein, Dónal...   \n",
       "The Con-Heartist     Kathaleeya McIntosh, Nadech Kugimiya, Pimchano...   \n",
       "Gleboka Woda         Katarzyna Maciag, Piotr Nowak, Marcin Dorocins...   \n",
       "Only A Mother        Hugo Björne, Eva Dahlbeck, Ulf Palme, Ragnar F...   \n",
       "\n",
       "                    ViewerRating  \n",
       "Title                             \n",
       "Lets Fight Ghost               R  \n",
       "How To Build A Girl            R  \n",
       "The Con-Heartist             nan  \n",
       "Gleboka Woda                 nan  \n",
       "Only A Mother                nan  "
      ]
     },
     "execution_count": 93,
     "metadata": {},
     "output_type": "execute_result"
    }
   ],
   "source": [
    "new_features = ['Genre', 'Tags', 'Actors', 'ViewerRating']\n",
    "selected_data = netflix_data[new_features]\n",
    "selected_data.head()"
   ]
  },
  {
   "cell_type": "code",
   "execution_count": 94,
   "metadata": {},
   "outputs": [
    {
     "name": "stderr",
     "output_type": "stream",
     "text": [
      "c:\\Users\\HP\\AppData\\Local\\Programs\\Python\\Python310\\lib\\site-packages\\pandas\\core\\generic.py:5516: SettingWithCopyWarning:\n",
      "\n",
      "\n",
      "A value is trying to be set on a copy of a slice from a DataFrame.\n",
      "Try using .loc[row_indexer,col_indexer] = value instead\n",
      "\n",
      "See the caveats in the documentation: https://pandas.pydata.org/pandas-docs/stable/user_guide/indexing.html#returning-a-view-versus-a-copy\n",
      "\n"
     ]
    },
    {
     "data": {
      "text/html": [
       "<div>\n",
       "<style scoped>\n",
       "    .dataframe tbody tr th:only-of-type {\n",
       "        vertical-align: middle;\n",
       "    }\n",
       "\n",
       "    .dataframe tbody tr th {\n",
       "        vertical-align: top;\n",
       "    }\n",
       "\n",
       "    .dataframe thead th {\n",
       "        text-align: right;\n",
       "    }\n",
       "</style>\n",
       "<table border=\"1\" class=\"dataframe\">\n",
       "  <thead>\n",
       "    <tr style=\"text-align: right;\">\n",
       "      <th></th>\n",
       "      <th>Genre</th>\n",
       "      <th>Tags</th>\n",
       "      <th>Actors</th>\n",
       "      <th>ViewerRating</th>\n",
       "    </tr>\n",
       "    <tr>\n",
       "      <th>Title</th>\n",
       "      <th></th>\n",
       "      <th></th>\n",
       "      <th></th>\n",
       "      <th></th>\n",
       "    </tr>\n",
       "  </thead>\n",
       "  <tbody>\n",
       "    <tr>\n",
       "      <th>letsfightghost</th>\n",
       "      <td>crime,drama,fantasy,horror,romance</td>\n",
       "      <td>comedyprogrammes,romantictvcomedies,horrorprog...</td>\n",
       "      <td>linaleandersson,kårehedebrant,perragnar,henrik...</td>\n",
       "      <td>r</td>\n",
       "    </tr>\n",
       "    <tr>\n",
       "      <th>howtobuildagirl</th>\n",
       "      <td>comedy</td>\n",
       "      <td>dramas,comedies,filmsbasedonbooks,british</td>\n",
       "      <td>cleo,paddyconsidine,beaniefeldstein,dónalfinn</td>\n",
       "      <td>r</td>\n",
       "    </tr>\n",
       "    <tr>\n",
       "      <th>thecon-heartist</th>\n",
       "      <td>comedy,romance</td>\n",
       "      <td>romanticcomedies,comedies,romanticfilms,thaico...</td>\n",
       "      <td>kathaleeyamcintosh,nadechkugimiya,pimchanokleu...</td>\n",
       "      <td>nan</td>\n",
       "    </tr>\n",
       "    <tr>\n",
       "      <th>glebokawoda</th>\n",
       "      <td>drama</td>\n",
       "      <td>tvdramas,polishtvshows,socialissuetvdramas</td>\n",
       "      <td>katarzynamaciag,piotrnowak,marcindorocinski,ju...</td>\n",
       "      <td>nan</td>\n",
       "    </tr>\n",
       "    <tr>\n",
       "      <th>onlyamother</th>\n",
       "      <td>drama</td>\n",
       "      <td>socialissuedramas,dramas,moviesbasedonbooks,pe...</td>\n",
       "      <td>hugobjörne,evadahlbeck,ulfpalme,ragnarfalck</td>\n",
       "      <td>nan</td>\n",
       "    </tr>\n",
       "    <tr>\n",
       "      <th>...</th>\n",
       "      <td>...</td>\n",
       "      <td>...</td>\n",
       "      <td>...</td>\n",
       "      <td>...</td>\n",
       "    </tr>\n",
       "    <tr>\n",
       "      <th>13goingon30</th>\n",
       "      <td>comedy,fantasy,romance</td>\n",
       "      <td>romanticcomedies,comedies,romanticfilms,romant...</td>\n",
       "      <td>andyserkis,jennifergarner,markruffalo,judygreer</td>\n",
       "      <td>pg-13</td>\n",
       "    </tr>\n",
       "    <tr>\n",
       "      <th>life2.0</th>\n",
       "      <td>documentary</td>\n",
       "      <td>social&amp;culturaldocumentaries,biographicaldocum...</td>\n",
       "      <td>teasacopprue</td>\n",
       "      <td>notrated</td>\n",
       "    </tr>\n",
       "    <tr>\n",
       "      <th>brandnewday</th>\n",
       "      <td>documentary,music</td>\n",
       "      <td>australiancomedies,romanticcomedies,australian...</td>\n",
       "      <td>ryuichisakamoto,clemburke,annielennox,patricks...</td>\n",
       "      <td>nan</td>\n",
       "    </tr>\n",
       "    <tr>\n",
       "      <th>danielarends:blessuretijd</th>\n",
       "      <td>comedy</td>\n",
       "      <td>stand-upcomedy,internationalmovies,comedies</td>\n",
       "      <td>daniëlarends</td>\n",
       "      <td>nan</td>\n",
       "    </tr>\n",
       "    <tr>\n",
       "      <th>dreamworkshappyholidaysfrommadagascar</th>\n",
       "      <td>animation,comedy,family</td>\n",
       "      <td>tvcomedies,kidstv,animaltales,tvcartoons,tvpro...</td>\n",
       "      <td>junghyunkim</td>\n",
       "      <td>nan</td>\n",
       "    </tr>\n",
       "  </tbody>\n",
       "</table>\n",
       "<p>9403 rows × 4 columns</p>\n",
       "</div>"
      ],
      "text/plain": [
       "                                                                    Genre  \\\n",
       "Title                                                                       \n",
       "letsfightghost                         crime,drama,fantasy,horror,romance   \n",
       "howtobuildagirl                                                    comedy   \n",
       "thecon-heartist                                            comedy,romance   \n",
       "glebokawoda                                                         drama   \n",
       "onlyamother                                                         drama   \n",
       "...                                                                   ...   \n",
       "13goingon30                                        comedy,fantasy,romance   \n",
       "life2.0                                                       documentary   \n",
       "brandnewday                                             documentary,music   \n",
       "danielarends:blessuretijd                                          comedy   \n",
       "dreamworkshappyholidaysfrommadagascar             animation,comedy,family   \n",
       "\n",
       "                                                                                    Tags  \\\n",
       "Title                                                                                      \n",
       "letsfightghost                         comedyprogrammes,romantictvcomedies,horrorprog...   \n",
       "howtobuildagirl                                dramas,comedies,filmsbasedonbooks,british   \n",
       "thecon-heartist                        romanticcomedies,comedies,romanticfilms,thaico...   \n",
       "glebokawoda                                   tvdramas,polishtvshows,socialissuetvdramas   \n",
       "onlyamother                            socialissuedramas,dramas,moviesbasedonbooks,pe...   \n",
       "...                                                                                  ...   \n",
       "13goingon30                            romanticcomedies,comedies,romanticfilms,romant...   \n",
       "life2.0                                social&culturaldocumentaries,biographicaldocum...   \n",
       "brandnewday                            australiancomedies,romanticcomedies,australian...   \n",
       "danielarends:blessuretijd                    stand-upcomedy,internationalmovies,comedies   \n",
       "dreamworkshappyholidaysfrommadagascar  tvcomedies,kidstv,animaltales,tvcartoons,tvpro...   \n",
       "\n",
       "                                                                                  Actors  \\\n",
       "Title                                                                                      \n",
       "letsfightghost                         linaleandersson,kårehedebrant,perragnar,henrik...   \n",
       "howtobuildagirl                            cleo,paddyconsidine,beaniefeldstein,dónalfinn   \n",
       "thecon-heartist                        kathaleeyamcintosh,nadechkugimiya,pimchanokleu...   \n",
       "glebokawoda                            katarzynamaciag,piotrnowak,marcindorocinski,ju...   \n",
       "onlyamother                                  hugobjörne,evadahlbeck,ulfpalme,ragnarfalck   \n",
       "...                                                                                  ...   \n",
       "13goingon30                              andyserkis,jennifergarner,markruffalo,judygreer   \n",
       "life2.0                                                                     teasacopprue   \n",
       "brandnewday                            ryuichisakamoto,clemburke,annielennox,patricks...   \n",
       "danielarends:blessuretijd                                                   daniëlarends   \n",
       "dreamworkshappyholidaysfrommadagascar                                        junghyunkim   \n",
       "\n",
       "                                      ViewerRating  \n",
       "Title                                               \n",
       "letsfightghost                                   r  \n",
       "howtobuildagirl                                  r  \n",
       "thecon-heartist                                nan  \n",
       "glebokawoda                                    nan  \n",
       "onlyamother                                    nan  \n",
       "...                                            ...  \n",
       "13goingon30                                  pg-13  \n",
       "life2.0                                   notrated  \n",
       "brandnewday                                    nan  \n",
       "danielarends:blessuretijd                      nan  \n",
       "dreamworkshappyholidaysfrommadagascar          nan  \n",
       "\n",
       "[9403 rows x 4 columns]"
      ]
     },
     "execution_count": 94,
     "metadata": {},
     "output_type": "execute_result"
    }
   ],
   "source": [
    "selected_data.Genre = selected_data.Genre.apply(clean_data)\n",
    "selected_data.Tags = selected_data.Tags.apply(clean_data)\n",
    "selected_data.Actors = selected_data.Actors.apply(clean_data)\n",
    "selected_data.ViewerRating = selected_data.ViewerRating.apply(clean_data)\n",
    "selected_data.index = selected_data.index.str.lower()\n",
    "selected_data.index = selected_data.index.str.replace(\" \",'')\n",
    "selected_data"
   ]
  },
  {
   "cell_type": "code",
   "execution_count": 95,
   "metadata": {},
   "outputs": [],
   "source": [
    "def create_soup(x):\n",
    "    return x['Genre'] + ' ' + x['Tags'] + ' ' +x['Actors']+' '+ x['ViewerRating']"
   ]
  },
  {
   "cell_type": "code",
   "execution_count": 96,
   "metadata": {},
   "outputs": [
    {
     "name": "stderr",
     "output_type": "stream",
     "text": [
      "C:\\Users\\HP\\AppData\\Local\\Temp/ipykernel_25128/434920032.py:1: SettingWithCopyWarning:\n",
      "\n",
      "\n",
      "A value is trying to be set on a copy of a slice from a DataFrame.\n",
      "Try using .loc[row_indexer,col_indexer] = value instead\n",
      "\n",
      "See the caveats in the documentation: https://pandas.pydata.org/pandas-docs/stable/user_guide/indexing.html#returning-a-view-versus-a-copy\n",
      "\n"
     ]
    },
    {
     "data": {
      "text/html": [
       "<div>\n",
       "<style scoped>\n",
       "    .dataframe tbody tr th:only-of-type {\n",
       "        vertical-align: middle;\n",
       "    }\n",
       "\n",
       "    .dataframe tbody tr th {\n",
       "        vertical-align: top;\n",
       "    }\n",
       "\n",
       "    .dataframe thead th {\n",
       "        text-align: right;\n",
       "    }\n",
       "</style>\n",
       "<table border=\"1\" class=\"dataframe\">\n",
       "  <thead>\n",
       "    <tr style=\"text-align: right;\">\n",
       "      <th></th>\n",
       "      <th>Genre</th>\n",
       "      <th>Tags</th>\n",
       "      <th>Actors</th>\n",
       "      <th>ViewerRating</th>\n",
       "      <th>soup</th>\n",
       "    </tr>\n",
       "    <tr>\n",
       "      <th>Title</th>\n",
       "      <th></th>\n",
       "      <th></th>\n",
       "      <th></th>\n",
       "      <th></th>\n",
       "      <th></th>\n",
       "    </tr>\n",
       "  </thead>\n",
       "  <tbody>\n",
       "    <tr>\n",
       "      <th>letsfightghost</th>\n",
       "      <td>crime,drama,fantasy,horror,romance</td>\n",
       "      <td>comedyprogrammes,romantictvcomedies,horrorprog...</td>\n",
       "      <td>linaleandersson,kårehedebrant,perragnar,henrik...</td>\n",
       "      <td>r</td>\n",
       "      <td>crime,drama,fantasy,horror,romance comedyprogr...</td>\n",
       "    </tr>\n",
       "    <tr>\n",
       "      <th>howtobuildagirl</th>\n",
       "      <td>comedy</td>\n",
       "      <td>dramas,comedies,filmsbasedonbooks,british</td>\n",
       "      <td>cleo,paddyconsidine,beaniefeldstein,dónalfinn</td>\n",
       "      <td>r</td>\n",
       "      <td>comedy dramas,comedies,filmsbasedonbooks,briti...</td>\n",
       "    </tr>\n",
       "    <tr>\n",
       "      <th>thecon-heartist</th>\n",
       "      <td>comedy,romance</td>\n",
       "      <td>romanticcomedies,comedies,romanticfilms,thaico...</td>\n",
       "      <td>kathaleeyamcintosh,nadechkugimiya,pimchanokleu...</td>\n",
       "      <td>nan</td>\n",
       "      <td>comedy,romance romanticcomedies,comedies,roman...</td>\n",
       "    </tr>\n",
       "    <tr>\n",
       "      <th>glebokawoda</th>\n",
       "      <td>drama</td>\n",
       "      <td>tvdramas,polishtvshows,socialissuetvdramas</td>\n",
       "      <td>katarzynamaciag,piotrnowak,marcindorocinski,ju...</td>\n",
       "      <td>nan</td>\n",
       "      <td>drama tvdramas,polishtvshows,socialissuetvdram...</td>\n",
       "    </tr>\n",
       "    <tr>\n",
       "      <th>onlyamother</th>\n",
       "      <td>drama</td>\n",
       "      <td>socialissuedramas,dramas,moviesbasedonbooks,pe...</td>\n",
       "      <td>hugobjörne,evadahlbeck,ulfpalme,ragnarfalck</td>\n",
       "      <td>nan</td>\n",
       "      <td>drama socialissuedramas,dramas,moviesbasedonbo...</td>\n",
       "    </tr>\n",
       "  </tbody>\n",
       "</table>\n",
       "</div>"
      ],
      "text/plain": [
       "                                              Genre  \\\n",
       "Title                                                 \n",
       "letsfightghost   crime,drama,fantasy,horror,romance   \n",
       "howtobuildagirl                              comedy   \n",
       "thecon-heartist                      comedy,romance   \n",
       "glebokawoda                                   drama   \n",
       "onlyamother                                   drama   \n",
       "\n",
       "                                                              Tags  \\\n",
       "Title                                                                \n",
       "letsfightghost   comedyprogrammes,romantictvcomedies,horrorprog...   \n",
       "howtobuildagirl          dramas,comedies,filmsbasedonbooks,british   \n",
       "thecon-heartist  romanticcomedies,comedies,romanticfilms,thaico...   \n",
       "glebokawoda             tvdramas,polishtvshows,socialissuetvdramas   \n",
       "onlyamother      socialissuedramas,dramas,moviesbasedonbooks,pe...   \n",
       "\n",
       "                                                            Actors  \\\n",
       "Title                                                                \n",
       "letsfightghost   linaleandersson,kårehedebrant,perragnar,henrik...   \n",
       "howtobuildagirl      cleo,paddyconsidine,beaniefeldstein,dónalfinn   \n",
       "thecon-heartist  kathaleeyamcintosh,nadechkugimiya,pimchanokleu...   \n",
       "glebokawoda      katarzynamaciag,piotrnowak,marcindorocinski,ju...   \n",
       "onlyamother            hugobjörne,evadahlbeck,ulfpalme,ragnarfalck   \n",
       "\n",
       "                ViewerRating  \\\n",
       "Title                          \n",
       "letsfightghost             r   \n",
       "howtobuildagirl            r   \n",
       "thecon-heartist          nan   \n",
       "glebokawoda              nan   \n",
       "onlyamother              nan   \n",
       "\n",
       "                                                              soup  \n",
       "Title                                                               \n",
       "letsfightghost   crime,drama,fantasy,horror,romance comedyprogr...  \n",
       "howtobuildagirl  comedy dramas,comedies,filmsbasedonbooks,briti...  \n",
       "thecon-heartist  comedy,romance romanticcomedies,comedies,roman...  \n",
       "glebokawoda      drama tvdramas,polishtvshows,socialissuetvdram...  \n",
       "onlyamother      drama socialissuedramas,dramas,moviesbasedonbo...  "
      ]
     },
     "execution_count": 96,
     "metadata": {},
     "output_type": "execute_result"
    }
   ],
   "source": [
    "selected_data['soup'] = selected_data.apply(create_soup, axis = 1)\n",
    "selected_data.head()"
   ]
  },
  {
   "cell_type": "code",
   "execution_count": 97,
   "metadata": {},
   "outputs": [],
   "source": [
    "count = CountVectorizer(stop_words='english')\n",
    "count_matrix = count.fit_transform(selected_data['soup'])\n",
    "cosine_sim2 = cosine_similarity(count_matrix, count_matrix)"
   ]
  },
  {
   "cell_type": "code",
   "execution_count": 98,
   "metadata": {},
   "outputs": [
    {
     "data": {
      "text/html": [
       "<div>\n",
       "<style scoped>\n",
       "    .dataframe tbody tr th:only-of-type {\n",
       "        vertical-align: middle;\n",
       "    }\n",
       "\n",
       "    .dataframe tbody tr th {\n",
       "        vertical-align: top;\n",
       "    }\n",
       "\n",
       "    .dataframe thead th {\n",
       "        text-align: right;\n",
       "    }\n",
       "</style>\n",
       "<table border=\"1\" class=\"dataframe\">\n",
       "  <thead>\n",
       "    <tr style=\"text-align: right;\">\n",
       "      <th></th>\n",
       "      <th>Title</th>\n",
       "      <th>Genre</th>\n",
       "      <th>Tags</th>\n",
       "      <th>Actors</th>\n",
       "      <th>ViewerRating</th>\n",
       "      <th>soup</th>\n",
       "    </tr>\n",
       "  </thead>\n",
       "  <tbody>\n",
       "    <tr>\n",
       "      <th>0</th>\n",
       "      <td>letsfightghost</td>\n",
       "      <td>crime,drama,fantasy,horror,romance</td>\n",
       "      <td>comedyprogrammes,romantictvcomedies,horrorprog...</td>\n",
       "      <td>linaleandersson,kårehedebrant,perragnar,henrik...</td>\n",
       "      <td>r</td>\n",
       "      <td>crime,drama,fantasy,horror,romance comedyprogr...</td>\n",
       "    </tr>\n",
       "    <tr>\n",
       "      <th>1</th>\n",
       "      <td>howtobuildagirl</td>\n",
       "      <td>comedy</td>\n",
       "      <td>dramas,comedies,filmsbasedonbooks,british</td>\n",
       "      <td>cleo,paddyconsidine,beaniefeldstein,dónalfinn</td>\n",
       "      <td>r</td>\n",
       "      <td>comedy dramas,comedies,filmsbasedonbooks,briti...</td>\n",
       "    </tr>\n",
       "    <tr>\n",
       "      <th>2</th>\n",
       "      <td>thecon-heartist</td>\n",
       "      <td>comedy,romance</td>\n",
       "      <td>romanticcomedies,comedies,romanticfilms,thaico...</td>\n",
       "      <td>kathaleeyamcintosh,nadechkugimiya,pimchanokleu...</td>\n",
       "      <td>nan</td>\n",
       "      <td>comedy,romance romanticcomedies,comedies,roman...</td>\n",
       "    </tr>\n",
       "    <tr>\n",
       "      <th>3</th>\n",
       "      <td>glebokawoda</td>\n",
       "      <td>drama</td>\n",
       "      <td>tvdramas,polishtvshows,socialissuetvdramas</td>\n",
       "      <td>katarzynamaciag,piotrnowak,marcindorocinski,ju...</td>\n",
       "      <td>nan</td>\n",
       "      <td>drama tvdramas,polishtvshows,socialissuetvdram...</td>\n",
       "    </tr>\n",
       "    <tr>\n",
       "      <th>4</th>\n",
       "      <td>onlyamother</td>\n",
       "      <td>drama</td>\n",
       "      <td>socialissuedramas,dramas,moviesbasedonbooks,pe...</td>\n",
       "      <td>hugobjörne,evadahlbeck,ulfpalme,ragnarfalck</td>\n",
       "      <td>nan</td>\n",
       "      <td>drama socialissuedramas,dramas,moviesbasedonbo...</td>\n",
       "    </tr>\n",
       "  </tbody>\n",
       "</table>\n",
       "</div>"
      ],
      "text/plain": [
       "             Title                               Genre  \\\n",
       "0   letsfightghost  crime,drama,fantasy,horror,romance   \n",
       "1  howtobuildagirl                              comedy   \n",
       "2  thecon-heartist                      comedy,romance   \n",
       "3      glebokawoda                               drama   \n",
       "4      onlyamother                               drama   \n",
       "\n",
       "                                                Tags  \\\n",
       "0  comedyprogrammes,romantictvcomedies,horrorprog...   \n",
       "1          dramas,comedies,filmsbasedonbooks,british   \n",
       "2  romanticcomedies,comedies,romanticfilms,thaico...   \n",
       "3         tvdramas,polishtvshows,socialissuetvdramas   \n",
       "4  socialissuedramas,dramas,moviesbasedonbooks,pe...   \n",
       "\n",
       "                                              Actors ViewerRating  \\\n",
       "0  linaleandersson,kårehedebrant,perragnar,henrik...            r   \n",
       "1      cleo,paddyconsidine,beaniefeldstein,dónalfinn            r   \n",
       "2  kathaleeyamcintosh,nadechkugimiya,pimchanokleu...          nan   \n",
       "3  katarzynamaciag,piotrnowak,marcindorocinski,ju...          nan   \n",
       "4        hugobjörne,evadahlbeck,ulfpalme,ragnarfalck          nan   \n",
       "\n",
       "                                                soup  \n",
       "0  crime,drama,fantasy,horror,romance comedyprogr...  \n",
       "1  comedy dramas,comedies,filmsbasedonbooks,briti...  \n",
       "2  comedy,romance romanticcomedies,comedies,roman...  \n",
       "3  drama tvdramas,polishtvshows,socialissuetvdram...  \n",
       "4  drama socialissuedramas,dramas,moviesbasedonbo...  "
      ]
     },
     "execution_count": 98,
     "metadata": {},
     "output_type": "execute_result"
    }
   ],
   "source": [
    "selected_data.reset_index(inplace = True)\n",
    "selected_data.head()"
   ]
  },
  {
   "cell_type": "code",
   "execution_count": 99,
   "metadata": {},
   "outputs": [
    {
     "data": {
      "text/plain": [
       "Title\n",
       "letsfightghost                              0\n",
       "howtobuildagirl                             1\n",
       "thecon-heartist                             2\n",
       "glebokawoda                                 3\n",
       "onlyamother                                 4\n",
       "                                         ... \n",
       "13goingon30                              9398\n",
       "life2.0                                  9399\n",
       "brandnewday                              9400\n",
       "danielarends:blessuretijd                9401\n",
       "dreamworkshappyholidaysfrommadagascar    9402\n",
       "Length: 9403, dtype: int64"
      ]
     },
     "execution_count": 99,
     "metadata": {},
     "output_type": "execute_result"
    }
   ],
   "source": [
    "indices = pd.Series(selected_data.index, index=selected_data['Title'])\n",
    "indices"
   ]
  },
  {
   "cell_type": "code",
   "execution_count": 100,
   "metadata": {},
   "outputs": [],
   "source": [
    "result = 0\n",
    "def get_recommendations(title, cosine_sim):\n",
    "    global result\n",
    "    title=title.replace(' ','').lower()\n",
    "    idx = indices[title]\n",
    "\n",
    "    # Get the pairwsie similarity scores of all movies with that movie\n",
    "    sim_scores = list(enumerate(cosine_sim[idx]))\n",
    "\n",
    "    print(sim_scores[:3])\n",
    "\n",
    "    # Sort the movies based on the similarity scores\n",
    "    sim_scores = sorted(sim_scores, key=lambda x: x[1], reverse=True)\n",
    "\n",
    "    # Get the scores of the 50 most similar movies\n",
    "    sim_scores = sim_scores[1:51]\n",
    "\n",
    "    # Get the movie indices\n",
    "    movie_indices = [i[0] for i in sim_scores]\n",
    "\n",
    "    # Return the top 10 most similar movies\n",
    "    result =  netflix_data.iloc[movie_indices]\n",
    "    result.reset_index(inplace = True)\n",
    "    return result"
   ]
  },
  {
   "cell_type": "code",
   "execution_count": 101,
   "metadata": {},
   "outputs": [
    {
     "name": "stdout",
     "output_type": "stream",
     "text": [
      "[(0, 0.08362420100070908), (1, 0.0), (2, 0.0)]\n",
      "[(0, 0.08362420100070908), (1, 0.0), (2, 0.0)]\n",
      "[(0, 0.06726727939963124), (1, 0.0), (2, 0.0)]\n",
      "[(0, 0.08006407690254358), (1, 0.0), (2, 0.0)]\n",
      "[(0, 0.07412493166611013), (1, 0.0), (2, 0.0)]\n"
     ]
    }
   ],
   "source": [
    "df = pd.DataFrame()\n",
    "movienames = ['Annabelle Comes Home','The Nun', 'Insidious: The Last Key', 'Conjuring 2', 'Insidious: Chapter 3']\n",
    "languages = ['English', 'Hindi']\n",
    "for moviename in movienames:\n",
    "    get_recommendations(moviename,cosine_sim2)\n",
    "    for language in languages:\n",
    "        df = pd.concat([result[result['Languages'].str.count(language) > 0], df], ignore_index=True)\n",
    "df.drop_duplicates(keep = 'first', inplace = True)\n",
    "df.sort_values(by = 'IMDb Score', ascending = False, inplace = True)"
   ]
  },
  {
   "cell_type": "code",
   "execution_count": 102,
   "metadata": {},
   "outputs": [
    {
     "name": "stdout",
     "output_type": "stream",
     "text": [
      "(120, 22)\n",
      "             Title                             Genre  \\\n",
      "115     The Others         Horror, Mystery, Thriller   \n",
      "50   The Conjuring         Horror, Mystery, Thriller   \n",
      "105          Split                  Horror, Thriller   \n",
      "169     Hereditary  Drama, Horror, Mystery, Thriller   \n",
      "201    Conjuring 2         Horror, Mystery, Thriller   \n",
      "\n",
      "                                                  Tags         Languages  \\\n",
      "115  20th Century Period Pieces,Thrillers,Mysteries...           English   \n",
      "50   Horror Films,Thrillers,Supernatural Horror Fil...    English, Latin   \n",
      "105  Psychological Thrillers,Horror Movies,Thriller...           English   \n",
      "169  Supernatural Horror Movies,Horror Movies,Teen ...  English, Spanish   \n",
      "201  Horror Films,Supernatural Horror Films,Films B...           English   \n",
      "\n",
      "                                  Country Availability   Runtime  \\\n",
      "115  Italy,Sweden,Switzerland,Turkey,Iceland,India,...  1-2 hour   \n",
      "50   France,Belgium,Lithuania,Switzerland,United Ki...  1-2 hour   \n",
      "105  Belgium,Netherlands,South Korea,Poland,France,...  1-2 hour   \n",
      "169      South Korea,United Kingdom,Canada,Japan,India   > 2 hrs   \n",
      "201  South Korea,Switzerland,Brazil,Germany,Italy,A...   > 2 hrs   \n",
      "\n",
      "               Director                                             Writer  \\\n",
      "115  Alejandro Amenábar                                 Alejandro Amenábar   \n",
      "50            James Wan                         Chad Hayes, Carey W. Hayes   \n",
      "105  M. Night Shyamalan                                 M. Night Shyamalan   \n",
      "169           Ari Aster                                          Ari Aster   \n",
      "201           James Wan  Chad Hayes, David Leslie Johnson-McGoldrick, J...   \n",
      "\n",
      "                                                Actors ViewerRating  ...  \\\n",
      "115  Alakina Mann, Christopher Eccleston, Fionnula ...        PG-13  ...   \n",
      "50   Vera Farmiga, Lili Taylor, Ron Livingston, Pat...            R  ...   \n",
      "105  Haley Lu Richardson, James McAvoy, Anya Taylor...        PG-13  ...   \n",
      "169  Alex Wolff, Milly Shapiro, Toni Collette, Gabr...            R  ...   \n",
      "201  Frances O'Connor, Vera Farmiga, Madison Wolfe,...            R  ...   \n",
      "\n",
      "     Awards Nominated For      Boxoffice  Release Date Netflix Release Date  \\\n",
      "115                  55.0   $9,65,22,687     10-Aug-01           14-04-2015   \n",
      "50                   22.0  $13,74,00,141     19-Jul-13           14-04-2015   \n",
      "105                  23.0  $13,82,91,365     20-Jan-17           17-09-2018   \n",
      "169                 105.0   $4,40,69,456     08-Jun-18           15-02-2019   \n",
      "201                  13.0  $10,24,70,008     10-Jun-16           28-03-2017   \n",
      "\n",
      "                                      Production House  \\\n",
      "115  Lucky Red, Miramax Films, Sogecine, Cruise-Wag...   \n",
      "50               Safran Company, Evergreen Media Group   \n",
      "105  Lightning Entertainment, Blinding Edge Picture...   \n",
      "169                                     PalmStar Media   \n",
      "201                     Safran Company, Atomic Monster   \n",
      "\n",
      "                               Netflix Link  \\\n",
      "115  https://www.netflix.com/watch/60021097   \n",
      "50   https://www.netflix.com/watch/70251894   \n",
      "105  https://www.netflix.com/watch/80124506   \n",
      "169  https://www.netflix.com/watch/80238910   \n",
      "201  https://www.netflix.com/watch/80091246   \n",
      "\n",
      "                                               Summary Series or Movie  \\\n",
      "115  While awaiting the return of her soldier husba...           Movie   \n",
      "50   Based on true events, this spine-chiller tells...           Movie   \n",
      "105  A man with multiple identities abducts three t...           Movie   \n",
      "169  After the death of her mother, artist Annie an...           Movie   \n",
      "201  A single mother and her four kids in London ar...           Movie   \n",
      "\n",
      "    IMDb Votes                                              Image  \n",
      "115   338889.0  https://occ-0-3377-185.1.nflxso.net/dnm/api/v6...  \n",
      "50    443192.0  https://occ-0-2851-38.1.nflxso.net/dnm/api/v6/...  \n",
      "105   428760.0  https://occ-0-768-769.1.nflxso.net/dnm/api/v6/...  \n",
      "169   241835.0  https://occ-0-1926-41.1.nflxso.net/dnm/api/v6/...  \n",
      "201   226713.0  https://occ-0-2773-2774.1.nflxso.net/dnm/api/v...  \n",
      "\n",
      "[5 rows x 22 columns]\n"
     ]
    }
   ],
   "source": [
    "print(df.shape)\n",
    "print(df.head())"
   ]
  }
 ],
 "metadata": {
  "interpreter": {
   "hash": "a9cff5a362bc38ef45d817ae74b1af54d6a076e3d773891282bce078b815ba34"
  },
  "kernelspec": {
   "display_name": "Python 3.10.2 64-bit",
   "language": "python",
   "name": "python3"
  },
  "language_info": {
   "codemirror_mode": {
    "name": "ipython",
    "version": 3
   },
   "file_extension": ".py",
   "mimetype": "text/x-python",
   "name": "python",
   "nbconvert_exporter": "python",
   "pygments_lexer": "ipython3",
   "version": "3.10.4"
  },
  "orig_nbformat": 4
 },
 "nbformat": 4,
 "nbformat_minor": 2
}
